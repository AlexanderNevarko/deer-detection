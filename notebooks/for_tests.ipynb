{
 "cells": [
  {
   "cell_type": "code",
   "execution_count": 39,
   "id": "95b848da-a2fc-4e48-92dc-ca0317981a00",
   "metadata": {},
   "outputs": [],
   "source": [
    "import pandas as pd\n",
    "import numpy as np\n",
    "import os\n",
    "import shutil\n",
    "from pylabel import importer\n",
    "from tqdm.notebook import tqdm\n",
    "from sklearn.model_selection import train_test_split"
   ]
  },
  {
   "cell_type": "markdown",
   "id": "a01080d9-735c-4385-b4e0-39dc671c3b41",
   "metadata": {},
   "source": [
    "### 1. Merge dataframes\n",
    "Take initial csv files for two parts of data, preprocess them and merge"
   ]
  },
  {
   "cell_type": "code",
   "execution_count": 3,
   "id": "9595cb34-6dca-4cfe-ae64-29e10a492463",
   "metadata": {},
   "outputs": [],
   "source": [
    "df_add = pd.read_csv('/Users/aleksandr/Desktop/hacks/rosneft/data/additional/new_train.csv')\n",
    "df_for_part = pd.read_csv('/Users/aleksandr/Desktop/hacks/rosneft/data/for_participants/train.csv')"
   ]
  },
  {
   "cell_type": "code",
   "execution_count": 4,
   "id": "74fa84eb-06b6-4c06-8502-2a64531d6163",
   "metadata": {},
   "outputs": [
    {
     "data": {
      "text/html": [
       "<div>\n",
       "<style scoped>\n",
       "    .dataframe tbody tr th:only-of-type {\n",
       "        vertical-align: middle;\n",
       "    }\n",
       "\n",
       "    .dataframe tbody tr th {\n",
       "        vertical-align: top;\n",
       "    }\n",
       "\n",
       "    .dataframe thead th {\n",
       "        text-align: right;\n",
       "    }\n",
       "</style>\n",
       "<table border=\"1\" class=\"dataframe\">\n",
       "  <thead>\n",
       "    <tr style=\"text-align: right;\">\n",
       "      <th></th>\n",
       "      <th>filename</th>\n",
       "      <th>view</th>\n",
       "      <th>x_c</th>\n",
       "      <th>y_c</th>\n",
       "      <th>w</th>\n",
       "      <th>h</th>\n",
       "      <th>class_label</th>\n",
       "      <th>image_width</th>\n",
       "      <th>image_height</th>\n",
       "    </tr>\n",
       "  </thead>\n",
       "  <tbody>\n",
       "    <tr>\n",
       "      <th>0</th>\n",
       "      <td>d7373069-7d87-471b-a228-9fdba9a0ac8a.jpg</td>\n",
       "      <td>aerial</td>\n",
       "      <td>0.609664</td>\n",
       "      <td>0.772135</td>\n",
       "      <td>0.021026</td>\n",
       "      <td>0.027488</td>\n",
       "      <td>reindeer</td>\n",
       "      <td>5184</td>\n",
       "      <td>3456</td>\n",
       "    </tr>\n",
       "    <tr>\n",
       "      <th>1</th>\n",
       "      <td>d7373069-7d87-471b-a228-9fdba9a0ac8a.jpg</td>\n",
       "      <td>aerial</td>\n",
       "      <td>0.663870</td>\n",
       "      <td>0.770689</td>\n",
       "      <td>0.017940</td>\n",
       "      <td>0.035012</td>\n",
       "      <td>reindeer</td>\n",
       "      <td>5184</td>\n",
       "      <td>3456</td>\n",
       "    </tr>\n",
       "  </tbody>\n",
       "</table>\n",
       "</div>"
      ],
      "text/plain": [
       "                                   filename    view       x_c       y_c  \\\n",
       "0  d7373069-7d87-471b-a228-9fdba9a0ac8a.jpg  aerial  0.609664  0.772135   \n",
       "1  d7373069-7d87-471b-a228-9fdba9a0ac8a.jpg  aerial  0.663870  0.770689   \n",
       "\n",
       "          w         h class_label  image_width  image_height  \n",
       "0  0.021026  0.027488    reindeer         5184          3456  \n",
       "1  0.017940  0.035012    reindeer         5184          3456  "
      ]
     },
     "execution_count": 4,
     "metadata": {},
     "output_type": "execute_result"
    }
   ],
   "source": [
    "df_for_part.head(2)"
   ]
  },
  {
   "cell_type": "code",
   "execution_count": 5,
   "id": "a5bb4335-4c85-406a-a19d-9e69f06151a3",
   "metadata": {},
   "outputs": [
    {
     "data": {
      "text/html": [
       "<div>\n",
       "<style scoped>\n",
       "    .dataframe tbody tr th:only-of-type {\n",
       "        vertical-align: middle;\n",
       "    }\n",
       "\n",
       "    .dataframe tbody tr th {\n",
       "        vertical-align: top;\n",
       "    }\n",
       "\n",
       "    .dataframe thead th {\n",
       "        text-align: right;\n",
       "    }\n",
       "</style>\n",
       "<table border=\"1\" class=\"dataframe\">\n",
       "  <thead>\n",
       "    <tr style=\"text-align: right;\">\n",
       "      <th></th>\n",
       "      <th>filename</th>\n",
       "      <th>x_c</th>\n",
       "      <th>y_c</th>\n",
       "      <th>w</th>\n",
       "      <th>h</th>\n",
       "      <th>class_label</th>\n",
       "      <th>image_width</th>\n",
       "      <th>image_height</th>\n",
       "      <th>private_lb</th>\n",
       "    </tr>\n",
       "  </thead>\n",
       "  <tbody>\n",
       "    <tr>\n",
       "      <th>0</th>\n",
       "      <td>8525df74-ba0e-40ef-bba3-9cb9c93f5c24.jpg</td>\n",
       "      <td>0.010127</td>\n",
       "      <td>0.137731</td>\n",
       "      <td>0.020255</td>\n",
       "      <td>0.057292</td>\n",
       "      <td>reindeer</td>\n",
       "      <td>5184</td>\n",
       "      <td>3456</td>\n",
       "      <td>False</td>\n",
       "    </tr>\n",
       "    <tr>\n",
       "      <th>1</th>\n",
       "      <td>8525df74-ba0e-40ef-bba3-9cb9c93f5c24.jpg</td>\n",
       "      <td>0.036555</td>\n",
       "      <td>0.177662</td>\n",
       "      <td>0.038387</td>\n",
       "      <td>0.062500</td>\n",
       "      <td>reindeer</td>\n",
       "      <td>5184</td>\n",
       "      <td>3456</td>\n",
       "      <td>False</td>\n",
       "    </tr>\n",
       "  </tbody>\n",
       "</table>\n",
       "</div>"
      ],
      "text/plain": [
       "                                   filename       x_c       y_c         w  \\\n",
       "0  8525df74-ba0e-40ef-bba3-9cb9c93f5c24.jpg  0.010127  0.137731  0.020255   \n",
       "1  8525df74-ba0e-40ef-bba3-9cb9c93f5c24.jpg  0.036555  0.177662  0.038387   \n",
       "\n",
       "          h class_label  image_width  image_height  private_lb  \n",
       "0  0.057292    reindeer         5184          3456       False  \n",
       "1  0.062500    reindeer         5184          3456       False  "
      ]
     },
     "execution_count": 5,
     "metadata": {},
     "output_type": "execute_result"
    }
   ],
   "source": [
    "df_add.head(2)"
   ]
  },
  {
   "cell_type": "code",
   "execution_count": 6,
   "id": "273dfa94-09c4-40be-8d49-14e1ae93cd89",
   "metadata": {},
   "outputs": [],
   "source": [
    "df_add['view'] = 'aerial'\n",
    "df_add = df_add.drop(labels='private_lb', axis=1)"
   ]
  },
  {
   "cell_type": "code",
   "execution_count": 7,
   "id": "028f8b24-93c8-462c-91cf-5c1eb53a4a0e",
   "metadata": {},
   "outputs": [
    {
     "data": {
      "text/html": [
       "<div>\n",
       "<style scoped>\n",
       "    .dataframe tbody tr th:only-of-type {\n",
       "        vertical-align: middle;\n",
       "    }\n",
       "\n",
       "    .dataframe tbody tr th {\n",
       "        vertical-align: top;\n",
       "    }\n",
       "\n",
       "    .dataframe thead th {\n",
       "        text-align: right;\n",
       "    }\n",
       "</style>\n",
       "<table border=\"1\" class=\"dataframe\">\n",
       "  <thead>\n",
       "    <tr style=\"text-align: right;\">\n",
       "      <th></th>\n",
       "      <th>filename</th>\n",
       "      <th>x_c</th>\n",
       "      <th>y_c</th>\n",
       "      <th>w</th>\n",
       "      <th>h</th>\n",
       "      <th>class_label</th>\n",
       "      <th>image_width</th>\n",
       "      <th>image_height</th>\n",
       "      <th>view</th>\n",
       "    </tr>\n",
       "  </thead>\n",
       "  <tbody>\n",
       "    <tr>\n",
       "      <th>0</th>\n",
       "      <td>8525df74-ba0e-40ef-bba3-9cb9c93f5c24.jpg</td>\n",
       "      <td>0.010127</td>\n",
       "      <td>0.137731</td>\n",
       "      <td>0.020255</td>\n",
       "      <td>0.057292</td>\n",
       "      <td>reindeer</td>\n",
       "      <td>5184</td>\n",
       "      <td>3456</td>\n",
       "      <td>aerial</td>\n",
       "    </tr>\n",
       "    <tr>\n",
       "      <th>1</th>\n",
       "      <td>8525df74-ba0e-40ef-bba3-9cb9c93f5c24.jpg</td>\n",
       "      <td>0.036555</td>\n",
       "      <td>0.177662</td>\n",
       "      <td>0.038387</td>\n",
       "      <td>0.062500</td>\n",
       "      <td>reindeer</td>\n",
       "      <td>5184</td>\n",
       "      <td>3456</td>\n",
       "      <td>aerial</td>\n",
       "    </tr>\n",
       "  </tbody>\n",
       "</table>\n",
       "</div>"
      ],
      "text/plain": [
       "                                   filename       x_c       y_c         w  \\\n",
       "0  8525df74-ba0e-40ef-bba3-9cb9c93f5c24.jpg  0.010127  0.137731  0.020255   \n",
       "1  8525df74-ba0e-40ef-bba3-9cb9c93f5c24.jpg  0.036555  0.177662  0.038387   \n",
       "\n",
       "          h class_label  image_width  image_height    view  \n",
       "0  0.057292    reindeer         5184          3456  aerial  \n",
       "1  0.062500    reindeer         5184          3456  aerial  "
      ]
     },
     "execution_count": 7,
     "metadata": {},
     "output_type": "execute_result"
    }
   ],
   "source": [
    "df_add.head(2)"
   ]
  },
  {
   "cell_type": "code",
   "execution_count": 8,
   "id": "fe5dc98c-579f-4459-97fe-5cc01647a6c8",
   "metadata": {},
   "outputs": [
    {
     "data": {
      "text/html": [
       "<div>\n",
       "<style scoped>\n",
       "    .dataframe tbody tr th:only-of-type {\n",
       "        vertical-align: middle;\n",
       "    }\n",
       "\n",
       "    .dataframe tbody tr th {\n",
       "        vertical-align: top;\n",
       "    }\n",
       "\n",
       "    .dataframe thead th {\n",
       "        text-align: right;\n",
       "    }\n",
       "</style>\n",
       "<table border=\"1\" class=\"dataframe\">\n",
       "  <thead>\n",
       "    <tr style=\"text-align: right;\">\n",
       "      <th></th>\n",
       "      <th>filename</th>\n",
       "      <th>x_c</th>\n",
       "      <th>y_c</th>\n",
       "      <th>w</th>\n",
       "      <th>h</th>\n",
       "      <th>class_label</th>\n",
       "      <th>image_width</th>\n",
       "      <th>image_height</th>\n",
       "      <th>view</th>\n",
       "    </tr>\n",
       "  </thead>\n",
       "  <tbody>\n",
       "    <tr>\n",
       "      <th>0</th>\n",
       "      <td>8525df74-ba0e-40ef-bba3-9cb9c93f5c24.jpg</td>\n",
       "      <td>0.010127</td>\n",
       "      <td>0.137731</td>\n",
       "      <td>0.020255</td>\n",
       "      <td>0.057292</td>\n",
       "      <td>reindeer</td>\n",
       "      <td>5184</td>\n",
       "      <td>3456</td>\n",
       "      <td>aerial</td>\n",
       "    </tr>\n",
       "    <tr>\n",
       "      <th>1</th>\n",
       "      <td>8525df74-ba0e-40ef-bba3-9cb9c93f5c24.jpg</td>\n",
       "      <td>0.036555</td>\n",
       "      <td>0.177662</td>\n",
       "      <td>0.038387</td>\n",
       "      <td>0.062500</td>\n",
       "      <td>reindeer</td>\n",
       "      <td>5184</td>\n",
       "      <td>3456</td>\n",
       "      <td>aerial</td>\n",
       "    </tr>\n",
       "    <tr>\n",
       "      <th>2</th>\n",
       "      <td>8525df74-ba0e-40ef-bba3-9cb9c93f5c24.jpg</td>\n",
       "      <td>0.075424</td>\n",
       "      <td>0.297164</td>\n",
       "      <td>0.042438</td>\n",
       "      <td>0.068866</td>\n",
       "      <td>reindeer</td>\n",
       "      <td>5184</td>\n",
       "      <td>3456</td>\n",
       "      <td>aerial</td>\n",
       "    </tr>\n",
       "    <tr>\n",
       "      <th>3</th>\n",
       "      <td>8525df74-ba0e-40ef-bba3-9cb9c93f5c24.jpg</td>\n",
       "      <td>0.041570</td>\n",
       "      <td>0.295428</td>\n",
       "      <td>0.035301</td>\n",
       "      <td>0.054398</td>\n",
       "      <td>reindeer</td>\n",
       "      <td>5184</td>\n",
       "      <td>3456</td>\n",
       "      <td>aerial</td>\n",
       "    </tr>\n",
       "    <tr>\n",
       "      <th>4</th>\n",
       "      <td>8525df74-ba0e-40ef-bba3-9cb9c93f5c24.jpg</td>\n",
       "      <td>0.076292</td>\n",
       "      <td>0.482928</td>\n",
       "      <td>0.029514</td>\n",
       "      <td>0.061921</td>\n",
       "      <td>reindeer</td>\n",
       "      <td>5184</td>\n",
       "      <td>3456</td>\n",
       "      <td>aerial</td>\n",
       "    </tr>\n",
       "    <tr>\n",
       "      <th>...</th>\n",
       "      <td>...</td>\n",
       "      <td>...</td>\n",
       "      <td>...</td>\n",
       "      <td>...</td>\n",
       "      <td>...</td>\n",
       "      <td>...</td>\n",
       "      <td>...</td>\n",
       "      <td>...</td>\n",
       "      <td>...</td>\n",
       "    </tr>\n",
       "    <tr>\n",
       "      <th>24887</th>\n",
       "      <td>9f26e5da-dfda-4681-a5e7-b250adb1260a.jpg</td>\n",
       "      <td>0.696950</td>\n",
       "      <td>0.587582</td>\n",
       "      <td>0.156863</td>\n",
       "      <td>0.113725</td>\n",
       "      <td>reindeer</td>\n",
       "      <td>5568</td>\n",
       "      <td>3712</td>\n",
       "      <td>ground</td>\n",
       "    </tr>\n",
       "    <tr>\n",
       "      <th>24888</th>\n",
       "      <td>9f26e5da-dfda-4681-a5e7-b250adb1260a.jpg</td>\n",
       "      <td>0.746187</td>\n",
       "      <td>0.596078</td>\n",
       "      <td>0.129847</td>\n",
       "      <td>0.078431</td>\n",
       "      <td>reindeer</td>\n",
       "      <td>5568</td>\n",
       "      <td>3712</td>\n",
       "      <td>ground</td>\n",
       "    </tr>\n",
       "    <tr>\n",
       "      <th>24889</th>\n",
       "      <td>9f26e5da-dfda-4681-a5e7-b250adb1260a.jpg</td>\n",
       "      <td>0.854248</td>\n",
       "      <td>0.618301</td>\n",
       "      <td>0.068845</td>\n",
       "      <td>0.070588</td>\n",
       "      <td>reindeer</td>\n",
       "      <td>5568</td>\n",
       "      <td>3712</td>\n",
       "      <td>ground</td>\n",
       "    </tr>\n",
       "    <tr>\n",
       "      <th>24890</th>\n",
       "      <td>9f26e5da-dfda-4681-a5e7-b250adb1260a.jpg</td>\n",
       "      <td>0.926911</td>\n",
       "      <td>0.621256</td>\n",
       "      <td>0.137482</td>\n",
       "      <td>0.131401</td>\n",
       "      <td>reindeer</td>\n",
       "      <td>5568</td>\n",
       "      <td>3712</td>\n",
       "      <td>ground</td>\n",
       "    </tr>\n",
       "    <tr>\n",
       "      <th>24891</th>\n",
       "      <td>9f26e5da-dfda-4681-a5e7-b250adb1260a.jpg</td>\n",
       "      <td>0.669954</td>\n",
       "      <td>0.574721</td>\n",
       "      <td>0.089171</td>\n",
       "      <td>0.081208</td>\n",
       "      <td>reindeer</td>\n",
       "      <td>5568</td>\n",
       "      <td>3712</td>\n",
       "      <td>ground</td>\n",
       "    </tr>\n",
       "  </tbody>\n",
       "</table>\n",
       "<p>24892 rows × 9 columns</p>\n",
       "</div>"
      ],
      "text/plain": [
       "                                       filename       x_c       y_c         w  \\\n",
       "0      8525df74-ba0e-40ef-bba3-9cb9c93f5c24.jpg  0.010127  0.137731  0.020255   \n",
       "1      8525df74-ba0e-40ef-bba3-9cb9c93f5c24.jpg  0.036555  0.177662  0.038387   \n",
       "2      8525df74-ba0e-40ef-bba3-9cb9c93f5c24.jpg  0.075424  0.297164  0.042438   \n",
       "3      8525df74-ba0e-40ef-bba3-9cb9c93f5c24.jpg  0.041570  0.295428  0.035301   \n",
       "4      8525df74-ba0e-40ef-bba3-9cb9c93f5c24.jpg  0.076292  0.482928  0.029514   \n",
       "...                                         ...       ...       ...       ...   \n",
       "24887  9f26e5da-dfda-4681-a5e7-b250adb1260a.jpg  0.696950  0.587582  0.156863   \n",
       "24888  9f26e5da-dfda-4681-a5e7-b250adb1260a.jpg  0.746187  0.596078  0.129847   \n",
       "24889  9f26e5da-dfda-4681-a5e7-b250adb1260a.jpg  0.854248  0.618301  0.068845   \n",
       "24890  9f26e5da-dfda-4681-a5e7-b250adb1260a.jpg  0.926911  0.621256  0.137482   \n",
       "24891  9f26e5da-dfda-4681-a5e7-b250adb1260a.jpg  0.669954  0.574721  0.089171   \n",
       "\n",
       "              h class_label  image_width  image_height    view  \n",
       "0      0.057292    reindeer         5184          3456  aerial  \n",
       "1      0.062500    reindeer         5184          3456  aerial  \n",
       "2      0.068866    reindeer         5184          3456  aerial  \n",
       "3      0.054398    reindeer         5184          3456  aerial  \n",
       "4      0.061921    reindeer         5184          3456  aerial  \n",
       "...         ...         ...          ...           ...     ...  \n",
       "24887  0.113725    reindeer         5568          3712  ground  \n",
       "24888  0.078431    reindeer         5568          3712  ground  \n",
       "24889  0.070588    reindeer         5568          3712  ground  \n",
       "24890  0.131401    reindeer         5568          3712  ground  \n",
       "24891  0.081208    reindeer         5568          3712  ground  \n",
       "\n",
       "[24892 rows x 9 columns]"
      ]
     },
     "execution_count": 8,
     "metadata": {},
     "output_type": "execute_result"
    }
   ],
   "source": [
    "df = pd.concat([df_add, df_for_part], axis=0)\n",
    "df.reset_index(inplace=True, drop=True)\n",
    "df"
   ]
  },
  {
   "cell_type": "code",
   "execution_count": 9,
   "id": "1f6c74ae-1896-416e-85fb-dfca4d474e6f",
   "metadata": {},
   "outputs": [],
   "source": [
    "MAPPING = {\n",
    "    'fawn': 0,\n",
    "    'reindeer': 1\n",
    "}"
   ]
  },
  {
   "cell_type": "code",
   "execution_count": 10,
   "id": "a25f5310-e579-4a7d-926d-65555bb5c013",
   "metadata": {},
   "outputs": [],
   "source": [
    "df['class_index'] = df['class_label'].apply(lambda label: MAPPING[label])"
   ]
  },
  {
   "cell_type": "code",
   "execution_count": 11,
   "id": "0991a9ec-9216-40f4-9a04-f045185bc153",
   "metadata": {},
   "outputs": [
    {
     "data": {
      "text/html": [
       "<div>\n",
       "<style scoped>\n",
       "    .dataframe tbody tr th:only-of-type {\n",
       "        vertical-align: middle;\n",
       "    }\n",
       "\n",
       "    .dataframe tbody tr th {\n",
       "        vertical-align: top;\n",
       "    }\n",
       "\n",
       "    .dataframe thead th {\n",
       "        text-align: right;\n",
       "    }\n",
       "</style>\n",
       "<table border=\"1\" class=\"dataframe\">\n",
       "  <thead>\n",
       "    <tr style=\"text-align: right;\">\n",
       "      <th></th>\n",
       "      <th>filename</th>\n",
       "      <th>x_c</th>\n",
       "      <th>y_c</th>\n",
       "      <th>w</th>\n",
       "      <th>h</th>\n",
       "      <th>class_label</th>\n",
       "      <th>image_width</th>\n",
       "      <th>image_height</th>\n",
       "      <th>view</th>\n",
       "      <th>class_index</th>\n",
       "    </tr>\n",
       "  </thead>\n",
       "  <tbody>\n",
       "    <tr>\n",
       "      <th>0</th>\n",
       "      <td>8525df74-ba0e-40ef-bba3-9cb9c93f5c24.jpg</td>\n",
       "      <td>0.010127</td>\n",
       "      <td>0.137731</td>\n",
       "      <td>0.020255</td>\n",
       "      <td>0.057292</td>\n",
       "      <td>reindeer</td>\n",
       "      <td>5184</td>\n",
       "      <td>3456</td>\n",
       "      <td>aerial</td>\n",
       "      <td>1</td>\n",
       "    </tr>\n",
       "    <tr>\n",
       "      <th>1</th>\n",
       "      <td>8525df74-ba0e-40ef-bba3-9cb9c93f5c24.jpg</td>\n",
       "      <td>0.036555</td>\n",
       "      <td>0.177662</td>\n",
       "      <td>0.038387</td>\n",
       "      <td>0.062500</td>\n",
       "      <td>reindeer</td>\n",
       "      <td>5184</td>\n",
       "      <td>3456</td>\n",
       "      <td>aerial</td>\n",
       "      <td>1</td>\n",
       "    </tr>\n",
       "  </tbody>\n",
       "</table>\n",
       "</div>"
      ],
      "text/plain": [
       "                                   filename       x_c       y_c         w  \\\n",
       "0  8525df74-ba0e-40ef-bba3-9cb9c93f5c24.jpg  0.010127  0.137731  0.020255   \n",
       "1  8525df74-ba0e-40ef-bba3-9cb9c93f5c24.jpg  0.036555  0.177662  0.038387   \n",
       "\n",
       "          h class_label  image_width  image_height    view  class_index  \n",
       "0  0.057292    reindeer         5184          3456  aerial            1  \n",
       "1  0.062500    reindeer         5184          3456  aerial            1  "
      ]
     },
     "execution_count": 11,
     "metadata": {},
     "output_type": "execute_result"
    }
   ],
   "source": [
    "df.head(2)"
   ]
  },
  {
   "cell_type": "code",
   "execution_count": 12,
   "id": "b8fbe6e7-cd00-4b4d-8083-14d3d998baa1",
   "metadata": {},
   "outputs": [],
   "source": [
    "df.to_csv('/Users/aleksandr/Desktop/hacks/rosneft/data/all_data/all_annotations.csv')"
   ]
  },
  {
   "cell_type": "code",
   "execution_count": 13,
   "id": "3a29995e-6d2c-4360-873e-e8acc13daa04",
   "metadata": {},
   "outputs": [],
   "source": [
    "image_names = os.listdir(path='/Users/aleksandr/Desktop/hacks/rosneft/data/all_data/images')"
   ]
  },
  {
   "cell_type": "code",
   "execution_count": 14,
   "id": "260ea26f-b4aa-426f-96be-ea24549ba875",
   "metadata": {},
   "outputs": [],
   "source": [
    "images = df.filename.unique()"
   ]
  },
  {
   "cell_type": "code",
   "execution_count": 15,
   "id": "ecca2a24-870e-4a23-9eab-68a26403b8f0",
   "metadata": {},
   "outputs": [
    {
     "data": {
      "text/plain": [
       "42"
      ]
     },
     "execution_count": 15,
     "metadata": {},
     "output_type": "execute_result"
    }
   ],
   "source": [
    "delta = [img for img in image_names if img not in images]\n",
    "len(delta)"
   ]
  },
  {
   "cell_type": "markdown",
   "id": "e32071e2-1080-4103-b7f5-6aef648504f7",
   "metadata": {},
   "source": [
    "### 2. Create YOLOv5 annotations"
   ]
  },
  {
   "cell_type": "code",
   "execution_count": 16,
   "id": "fa36dff5-ab6b-41dd-b6c7-d04d18057c1f",
   "metadata": {},
   "outputs": [],
   "source": [
    "def yolo_ann_from_single_img_df(df, img_name, anno_base_path):\n",
    "    filename, ext = os.path.splitext(img_name)\n",
    "    anno_file = filename + '.txt'\n",
    "    file = os.path.join(anno_base_path, anno_file)\n",
    "    with open(file, 'w') as f:\n",
    "        if len(df) == 0:\n",
    "            return\n",
    "        for idx, row in df.iterrows():\n",
    "            if img_name == '3f43d3cb-4588-480c-8381-34cef8c11252.jpg':\n",
    "                data = f'{MAPPING[\"reindeer\"]} {row.x_c} {row.y_c} {row.w} {row.h}\\n'\n",
    "            else:\n",
    "                data = f'{row.class_index} {row.x_c} {row.y_c} {row.w} {row.h}\\n'\n",
    "            f.write(data)\n",
    "            \n",
    "def yolo_ann(df, all_imgs, anno_base_path):\n",
    "    for img in tqdm(all_imgs):\n",
    "        object_df = df.loc[df.filename==img]\n",
    "        yolo_ann_from_single_img_df(object_df, img, anno_base_path)"
   ]
  },
  {
   "cell_type": "code",
   "execution_count": 17,
   "id": "d31712f6-e33f-4fd5-9c24-027d307e06bc",
   "metadata": {},
   "outputs": [
    {
     "data": {
      "application/vnd.jupyter.widget-view+json": {
       "model_id": "d45d14dceb09428788805ff09cd5e8a1",
       "version_major": 2,
       "version_minor": 0
      },
      "text/plain": [
       "HBox(children=(FloatProgress(value=0.0, max=576.0), HTML(value='')))"
      ]
     },
     "metadata": {},
     "output_type": "display_data"
    },
    {
     "name": "stdout",
     "output_type": "stream",
     "text": [
      "\n"
     ]
    }
   ],
   "source": [
    "yolo_ann(df, image_names, '/Users/aleksandr/Desktop/hacks/rosneft/data/all_data/annotation_yolo')"
   ]
  },
  {
   "cell_type": "markdown",
   "id": "67bae4d3-b2dc-4d27-8cef-53f123fb506a",
   "metadata": {},
   "source": [
    "### 3. Convert to COCO annotations"
   ]
  },
  {
   "cell_type": "code",
   "execution_count": 18,
   "id": "227cc4bd-fffa-4f3a-bd70-d58380c1af74",
   "metadata": {},
   "outputs": [
    {
     "data": {
      "application/vnd.jupyter.widget-view+json": {
       "model_id": "0853cd4026d849db81f3c5c8d9aebad0",
       "version_major": 2,
       "version_minor": 0
      },
      "text/plain": [
       "HBox(children=(FloatProgress(value=1.0, bar_style='info', max=1.0), HTML(value='')))"
      ]
     },
     "metadata": {},
     "output_type": "display_data"
    },
    {
     "name": "stdout",
     "output_type": "stream",
     "text": [
      "\n"
     ]
    }
   ],
   "source": [
    "yoloclasses = ('fawn', 'reindeer')\n",
    "path_to_images = '/Users/aleksandr/Desktop/hacks/rosneft/data/all_data/images'\n",
    "path_to_annotations = '/Users/aleksandr/Desktop/hacks/rosneft/data/all_data/annotation_yolo'\n",
    "dataset = importer.ImportYoloV5(path=path_to_annotations, path_to_images=path_to_images, \n",
    "                                cat_names=yoloclasses, img_ext='jpg', name='dataset')"
   ]
  },
  {
   "cell_type": "code",
   "execution_count": 19,
   "id": "c5e2e1ff-f4e7-4885-9b8e-12317d67f8c4",
   "metadata": {},
   "outputs": [
    {
     "data": {
      "text/html": [
       "<div>\n",
       "<style scoped>\n",
       "    .dataframe tbody tr th:only-of-type {\n",
       "        vertical-align: middle;\n",
       "    }\n",
       "\n",
       "    .dataframe tbody tr th {\n",
       "        vertical-align: top;\n",
       "    }\n",
       "\n",
       "    .dataframe thead th {\n",
       "        text-align: right;\n",
       "    }\n",
       "</style>\n",
       "<table border=\"1\" class=\"dataframe\">\n",
       "  <thead>\n",
       "    <tr style=\"text-align: right;\">\n",
       "      <th></th>\n",
       "      <th>img_folder</th>\n",
       "      <th>img_filename</th>\n",
       "      <th>img_path</th>\n",
       "      <th>img_id</th>\n",
       "      <th>img_width</th>\n",
       "      <th>img_height</th>\n",
       "      <th>img_depth</th>\n",
       "      <th>ann_segmented</th>\n",
       "      <th>ann_bbox_xmin</th>\n",
       "      <th>ann_bbox_ymin</th>\n",
       "      <th>...</th>\n",
       "      <th>ann_area</th>\n",
       "      <th>ann_segmentation</th>\n",
       "      <th>ann_iscrowd</th>\n",
       "      <th>ann_pose</th>\n",
       "      <th>ann_truncated</th>\n",
       "      <th>ann_difficult</th>\n",
       "      <th>cat_id</th>\n",
       "      <th>cat_name</th>\n",
       "      <th>cat_supercategory</th>\n",
       "      <th>split</th>\n",
       "    </tr>\n",
       "    <tr>\n",
       "      <th>id</th>\n",
       "      <th></th>\n",
       "      <th></th>\n",
       "      <th></th>\n",
       "      <th></th>\n",
       "      <th></th>\n",
       "      <th></th>\n",
       "      <th></th>\n",
       "      <th></th>\n",
       "      <th></th>\n",
       "      <th></th>\n",
       "      <th></th>\n",
       "      <th></th>\n",
       "      <th></th>\n",
       "      <th></th>\n",
       "      <th></th>\n",
       "      <th></th>\n",
       "      <th></th>\n",
       "      <th></th>\n",
       "      <th></th>\n",
       "      <th></th>\n",
       "      <th></th>\n",
       "    </tr>\n",
       "  </thead>\n",
       "  <tbody>\n",
       "    <tr>\n",
       "      <th>0</th>\n",
       "      <td>/Users/aleksandr/Desktop/hacks/rosneft/data/al...</td>\n",
       "      <td>85eaf52f-894b-415e-bd53-f842f234b671.jpg</td>\n",
       "      <td>NaN</td>\n",
       "      <td>0</td>\n",
       "      <td>5568</td>\n",
       "      <td>3712</td>\n",
       "      <td>3</td>\n",
       "      <td>NaN</td>\n",
       "      <td>2196.996384</td>\n",
       "      <td>1887.269888</td>\n",
       "      <td>...</td>\n",
       "      <td>136474.216247</td>\n",
       "      <td>NaN</td>\n",
       "      <td>NaN</td>\n",
       "      <td>NaN</td>\n",
       "      <td>NaN</td>\n",
       "      <td>NaN</td>\n",
       "      <td>1</td>\n",
       "      <td>reindeer</td>\n",
       "      <td>NaN</td>\n",
       "      <td>NaN</td>\n",
       "    </tr>\n",
       "    <tr>\n",
       "      <th>1</th>\n",
       "      <td>/Users/aleksandr/Desktop/hacks/rosneft/data/al...</td>\n",
       "      <td>85eaf52f-894b-415e-bd53-f842f234b671.jpg</td>\n",
       "      <td>NaN</td>\n",
       "      <td>0</td>\n",
       "      <td>5568</td>\n",
       "      <td>3712</td>\n",
       "      <td>3</td>\n",
       "      <td>NaN</td>\n",
       "      <td>2546.778144</td>\n",
       "      <td>2063.218688</td>\n",
       "      <td>...</td>\n",
       "      <td>148222.420569</td>\n",
       "      <td>NaN</td>\n",
       "      <td>NaN</td>\n",
       "      <td>NaN</td>\n",
       "      <td>NaN</td>\n",
       "      <td>NaN</td>\n",
       "      <td>1</td>\n",
       "      <td>reindeer</td>\n",
       "      <td>NaN</td>\n",
       "      <td>NaN</td>\n",
       "    </tr>\n",
       "    <tr>\n",
       "      <th>2</th>\n",
       "      <td>/Users/aleksandr/Desktop/hacks/rosneft/data/al...</td>\n",
       "      <td>85eaf52f-894b-415e-bd53-f842f234b671.jpg</td>\n",
       "      <td>NaN</td>\n",
       "      <td>0</td>\n",
       "      <td>5568</td>\n",
       "      <td>3712</td>\n",
       "      <td>3</td>\n",
       "      <td>NaN</td>\n",
       "      <td>2713.002432</td>\n",
       "      <td>2037.255104</td>\n",
       "      <td>...</td>\n",
       "      <td>172111.138938</td>\n",
       "      <td>NaN</td>\n",
       "      <td>NaN</td>\n",
       "      <td>NaN</td>\n",
       "      <td>NaN</td>\n",
       "      <td>NaN</td>\n",
       "      <td>1</td>\n",
       "      <td>reindeer</td>\n",
       "      <td>NaN</td>\n",
       "      <td>NaN</td>\n",
       "    </tr>\n",
       "  </tbody>\n",
       "</table>\n",
       "<p>3 rows × 24 columns</p>\n",
       "</div>"
      ],
      "text/plain": [
       "                                           img_folder  \\\n",
       "id                                                      \n",
       "0   /Users/aleksandr/Desktop/hacks/rosneft/data/al...   \n",
       "1   /Users/aleksandr/Desktop/hacks/rosneft/data/al...   \n",
       "2   /Users/aleksandr/Desktop/hacks/rosneft/data/al...   \n",
       "\n",
       "                                img_filename img_path  img_id  img_width  \\\n",
       "id                                                                         \n",
       "0   85eaf52f-894b-415e-bd53-f842f234b671.jpg      NaN       0       5568   \n",
       "1   85eaf52f-894b-415e-bd53-f842f234b671.jpg      NaN       0       5568   \n",
       "2   85eaf52f-894b-415e-bd53-f842f234b671.jpg      NaN       0       5568   \n",
       "\n",
       "    img_height  img_depth ann_segmented  ann_bbox_xmin  ann_bbox_ymin  ...  \\\n",
       "id                                                                     ...   \n",
       "0         3712          3           NaN    2196.996384    1887.269888  ...   \n",
       "1         3712          3           NaN    2546.778144    2063.218688  ...   \n",
       "2         3712          3           NaN    2713.002432    2037.255104  ...   \n",
       "\n",
       "         ann_area  ann_segmentation  ann_iscrowd  ann_pose  ann_truncated  \\\n",
       "id                                                                          \n",
       "0   136474.216247               NaN          NaN       NaN            NaN   \n",
       "1   148222.420569               NaN          NaN       NaN            NaN   \n",
       "2   172111.138938               NaN          NaN       NaN            NaN   \n",
       "\n",
       "   ann_difficult cat_id  cat_name cat_supercategory split  \n",
       "id                                                         \n",
       "0            NaN      1  reindeer               NaN   NaN  \n",
       "1            NaN      1  reindeer               NaN   NaN  \n",
       "2            NaN      1  reindeer               NaN   NaN  \n",
       "\n",
       "[3 rows x 24 columns]"
      ]
     },
     "execution_count": 19,
     "metadata": {},
     "output_type": "execute_result"
    }
   ],
   "source": [
    "dataset.df.head(3)"
   ]
  },
  {
   "cell_type": "code",
   "execution_count": 20,
   "id": "11857e95-a38b-4a3b-9ddb-2a1280417fbe",
   "metadata": {},
   "outputs": [
    {
     "data": {
      "text/plain": [
       "['/Users/aleksandr/Desktop/hacks/rosneft/data/all_data/coco_annotations.json']"
      ]
     },
     "execution_count": 20,
     "metadata": {},
     "output_type": "execute_result"
    }
   ],
   "source": [
    "dataset.export.ExportToCoco('/Users/aleksandr/Desktop/hacks/rosneft/data/all_data/coco_annotations.json')"
   ]
  },
  {
   "cell_type": "markdown",
   "id": "d17fcaec-a165-47af-b060-cd7bece017f6",
   "metadata": {},
   "source": [
    "### 4. Create train and test datasets"
   ]
  },
  {
   "cell_type": "code",
   "execution_count": 37,
   "id": "1db0e477-b30d-4654-9c72-4cb4eb7529d3",
   "metadata": {},
   "outputs": [],
   "source": [
    "train_images, test_images = train_test_split(image_names, test_size=0.15, shuffle=True)"
   ]
  },
  {
   "cell_type": "code",
   "execution_count": 38,
   "id": "c25f48c8-735c-44fa-9209-fe094487f8d1",
   "metadata": {},
   "outputs": [
    {
     "name": "stdout",
     "output_type": "stream",
     "text": [
      "test size: 87, pictures with no deers amount in test: 9\n"
     ]
    }
   ],
   "source": [
    "test_delta = [img for img in test_images if img not in images]\n",
    "print(f'test size: {len(test_images)}, pictures with no deers amount in test: {len(test_delta)}')"
   ]
  },
  {
   "cell_type": "code",
   "execution_count": 47,
   "id": "ea07ef85-588c-4642-84be-6b75ed9e7bc3",
   "metadata": {},
   "outputs": [],
   "source": [
    "all_images_path = '/Users/aleksandr/Desktop/hacks/rosneft/data/all_data/images'\n",
    "all_yolo_ann_path = '/Users/aleksandr/Desktop/hacks/rosneft/data/all_data/annotation_yolo/'\n",
    "\n",
    "test_path = '/Users/aleksandr/Desktop/hacks/rosneft/data/test'\n",
    "test_images_path = '/Users/aleksandr/Desktop/hacks/rosneft/data/test/data'\n",
    "test_yolo_ann_path = '/Users/aleksandr/Desktop/hacks/rosneft/data/test/annotation_yolo'\n",
    "\n",
    "train_path = '/Users/aleksandr/Desktop/hacks/rosneft/data/train'\n",
    "train_images_path = '/Users/aleksandr/Desktop/hacks/rosneft/data/train/data'\n",
    "train_yolo_ann_path = '/Users/aleksandr/Desktop/hacks/rosneft/data/train/annotation_yolo'"
   ]
  },
  {
   "cell_type": "markdown",
   "id": "2e547112-469c-4dfb-a806-058d2724043f",
   "metadata": {},
   "source": [
    "#### 4.1 Test"
   ]
  },
  {
   "cell_type": "code",
   "execution_count": 44,
   "id": "1fe263ca-3101-413b-90a5-2f3693d08794",
   "metadata": {},
   "outputs": [
    {
     "data": {
      "application/vnd.jupyter.widget-view+json": {
       "model_id": "1f3b6ab9bf704523bbed8622631c5acd",
       "version_major": 2,
       "version_minor": 0
      },
      "text/plain": [
       "HBox(children=(FloatProgress(value=0.0, max=87.0), HTML(value='')))"
      ]
     },
     "metadata": {},
     "output_type": "display_data"
    },
    {
     "name": "stdout",
     "output_type": "stream",
     "text": [
      "\n"
     ]
    }
   ],
   "source": [
    "for img in tqdm(test_images):\n",
    "    filename, _ = os.path.splitext(img)\n",
    "    yolo_annotation = filename + '.txt'\n",
    "    shutil.copy(os.path.join(all_images_path, img), os.path.join(test_images_path, img))\n",
    "    shutil.copy(os.path.join(all_yolo_ann_path, yolo_annotation), os.path.join(test_yolo_ann_path, yolo_annotation))"
   ]
  },
  {
   "cell_type": "code",
   "execution_count": 46,
   "id": "f026e8ac-eea7-43ea-935e-d59d014b7eaa",
   "metadata": {},
   "outputs": [
    {
     "data": {
      "application/vnd.jupyter.widget-view+json": {
       "model_id": "0524ea1fc6434dacb373bf50cd0ddf69",
       "version_major": 2,
       "version_minor": 0
      },
      "text/plain": [
       "HBox(children=(FloatProgress(value=1.0, bar_style='info', max=1.0), HTML(value='')))"
      ]
     },
     "metadata": {},
     "output_type": "display_data"
    },
    {
     "name": "stdout",
     "output_type": "stream",
     "text": [
      "\n"
     ]
    }
   ],
   "source": [
    "yoloclasses = ('fawn', 'reindeer')\n",
    "dataset = importer.ImportYoloV5(path=test_yolo_ann_path, path_to_images=test_images_path, \n",
    "                                cat_names=yoloclasses, img_ext='jpg', name='dataset')"
   ]
  },
  {
   "cell_type": "code",
   "execution_count": 48,
   "id": "0bfaf4c4-1778-45e0-b23a-edb58ebdd514",
   "metadata": {},
   "outputs": [
    {
     "data": {
      "text/plain": [
       "['/Users/aleksandr/Desktop/hacks/rosneft/data/test/coco_annotations.json']"
      ]
     },
     "execution_count": 48,
     "metadata": {},
     "output_type": "execute_result"
    }
   ],
   "source": [
    "dataset.export.ExportToCoco(os.path.join(test_path, 'coco_annotations.json'))"
   ]
  },
  {
   "cell_type": "markdown",
   "id": "67d89ba0-9ba8-489c-a9e6-8cd0b54252a9",
   "metadata": {},
   "source": [
    "#### 4.2 Train"
   ]
  },
  {
   "cell_type": "code",
   "execution_count": 45,
   "id": "b3f5fb49-6297-4bf7-8132-42543ff3631d",
   "metadata": {},
   "outputs": [
    {
     "data": {
      "application/vnd.jupyter.widget-view+json": {
       "model_id": "3bbf1583159946529513c68a886084c9",
       "version_major": 2,
       "version_minor": 0
      },
      "text/plain": [
       "HBox(children=(FloatProgress(value=0.0, max=489.0), HTML(value='')))"
      ]
     },
     "metadata": {},
     "output_type": "display_data"
    },
    {
     "name": "stdout",
     "output_type": "stream",
     "text": [
      "\n"
     ]
    }
   ],
   "source": [
    "for img in tqdm(train_images):\n",
    "    filename, _ = os.path.splitext(img)\n",
    "    yolo_annotation = filename + '.txt'\n",
    "    shutil.copy(os.path.join(all_images_path, img), os.path.join(train_images_path, img))\n",
    "    shutil.copy(os.path.join(all_yolo_ann_path, yolo_annotation), os.path.join(train_yolo_ann_path, yolo_annotation))"
   ]
  },
  {
   "cell_type": "code",
   "execution_count": 49,
   "id": "ec493a15-b700-4319-9e55-5994eca3349f",
   "metadata": {},
   "outputs": [
    {
     "data": {
      "application/vnd.jupyter.widget-view+json": {
       "model_id": "c69e727a6172408f8625b445f0d987a5",
       "version_major": 2,
       "version_minor": 0
      },
      "text/plain": [
       "HBox(children=(FloatProgress(value=1.0, bar_style='info', max=1.0), HTML(value='')))"
      ]
     },
     "metadata": {},
     "output_type": "display_data"
    },
    {
     "name": "stdout",
     "output_type": "stream",
     "text": [
      "\n"
     ]
    }
   ],
   "source": [
    "yoloclasses = ('fawn', 'reindeer')\n",
    "dataset = importer.ImportYoloV5(path=train_yolo_ann_path, path_to_images=train_images_path, \n",
    "                                cat_names=yoloclasses, img_ext='jpg', name='dataset')"
   ]
  },
  {
   "cell_type": "code",
   "execution_count": 50,
   "id": "29d1bcef-7be1-49df-9d4b-87e81dba2521",
   "metadata": {},
   "outputs": [
    {
     "data": {
      "text/plain": [
       "['/Users/aleksandr/Desktop/hacks/rosneft/data/train/coco_annotations.json']"
      ]
     },
     "execution_count": 50,
     "metadata": {},
     "output_type": "execute_result"
    }
   ],
   "source": [
    "dataset.export.ExportToCoco(os.path.join(train_path, 'coco_annotations.json'))"
   ]
  },
  {
   "cell_type": "code",
   "execution_count": null,
   "id": "85e376a9-c791-42bc-a404-f53f4d43cad3",
   "metadata": {},
   "outputs": [],
   "source": []
  }
 ],
 "metadata": {
  "kernelspec": {
   "display_name": "Python 3",
   "language": "python",
   "name": "python3"
  },
  "language_info": {
   "codemirror_mode": {
    "name": "ipython",
    "version": 3
   },
   "file_extension": ".py",
   "mimetype": "text/x-python",
   "name": "python",
   "nbconvert_exporter": "python",
   "pygments_lexer": "ipython3",
   "version": "3.8.3"
  }
 },
 "nbformat": 4,
 "nbformat_minor": 5
}
