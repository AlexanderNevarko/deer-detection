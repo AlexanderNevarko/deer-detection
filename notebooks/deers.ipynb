{
  "nbformat": 4,
  "nbformat_minor": 5,
  "metadata": {
    "kernelspec": {
      "display_name": "Python 3 (ipykernel)",
      "language": "python",
      "name": "python3"
    },
    "language_info": {
      "codemirror_mode": {
        "name": "ipython",
        "version": 3
      },
      "file_extension": ".py",
      "mimetype": "text/x-python",
      "name": "python",
      "nbconvert_exporter": "python",
      "pygments_lexer": "ipython3",
      "version": "3.7.7"
    },
    "colab": {
      "name": "deers.ipynb",
      "provenance": [],
      "collapsed_sections": [],
      "machine_shape": "hm"
    },
    "accelerator": "GPU"
  },
  "cells": [
    {
      "cell_type": "code",
      "metadata": {
        "colab": {
          "base_uri": "https://localhost:8080/",
          "height": 1000
        },
        "id": "pMOvwFa3AkHH",
        "outputId": "d1349af9-eefb-4be1-d926-f660fb6fa5e6"
      },
      "source": [
        "# install dependencies: (use cu101 because colab has CUDA 10.1)\n",
        "!pip install -U torch==1.5.1+cu101 torchvision==0.6.1+cu101 -f https://download.pytorch.org/whl/torch_stable.html\n",
        "\n",
        "# install mmcv-full thus we could use CUDA operators\n",
        "!pip install mmcv-full\n",
        "\n",
        "# Install mmdetection\n",
        "!rm -rf mmdetection\n",
        "!git clone https://github.com/open-mmlab/mmdetection.git\n",
        "!cd mmdetection && pip install -e .\n",
        "\n",
        "# install Pillow 7.0.0 back in order to avoid bug in colab\n",
        "!pip install Pillow==7.0.0"
      ],
      "id": "pMOvwFa3AkHH",
      "execution_count": 1,
      "outputs": [
        {
          "output_type": "stream",
          "name": "stdout",
          "text": [
            "Looking in links: https://download.pytorch.org/whl/torch_stable.html\n",
            "Collecting torch==1.5.1+cu101\n",
            "  Downloading https://download.pytorch.org/whl/cu101/torch-1.5.1%2Bcu101-cp37-cp37m-linux_x86_64.whl (704.4 MB)\n",
            "\u001b[K     |████████████████████████████████| 704.4 MB 1.2 kB/s \n",
            "\u001b[?25hCollecting torchvision==0.6.1+cu101\n",
            "  Downloading https://download.pytorch.org/whl/cu101/torchvision-0.6.1%2Bcu101-cp37-cp37m-linux_x86_64.whl (6.6 MB)\n",
            "\u001b[K     |████████████████████████████████| 6.6 MB 18.8 MB/s \n",
            "\u001b[?25hRequirement already satisfied: numpy in /usr/local/lib/python3.7/dist-packages (from torch==1.5.1+cu101) (1.19.5)\n",
            "Requirement already satisfied: future in /usr/local/lib/python3.7/dist-packages (from torch==1.5.1+cu101) (0.16.0)\n",
            "Requirement already satisfied: pillow>=4.1.1 in /usr/local/lib/python3.7/dist-packages (from torchvision==0.6.1+cu101) (7.1.2)\n",
            "Installing collected packages: torch, torchvision\n",
            "  Attempting uninstall: torch\n",
            "    Found existing installation: torch 1.10.0+cu111\n",
            "    Uninstalling torch-1.10.0+cu111:\n",
            "      Successfully uninstalled torch-1.10.0+cu111\n",
            "  Attempting uninstall: torchvision\n",
            "    Found existing installation: torchvision 0.11.1+cu111\n",
            "    Uninstalling torchvision-0.11.1+cu111:\n",
            "      Successfully uninstalled torchvision-0.11.1+cu111\n",
            "\u001b[31mERROR: pip's dependency resolver does not currently take into account all the packages that are installed. This behaviour is the source of the following dependency conflicts.\n",
            "torchtext 0.11.0 requires torch==1.10.0, but you have torch 1.5.1+cu101 which is incompatible.\n",
            "torchaudio 0.10.0+cu111 requires torch==1.10.0, but you have torch 1.5.1+cu101 which is incompatible.\u001b[0m\n",
            "Successfully installed torch-1.5.1+cu101 torchvision-0.6.1+cu101\n",
            "Collecting mmcv-full\n",
            "  Downloading mmcv-full-1.3.17.tar.gz (390 kB)\n",
            "\u001b[K     |████████████████████████████████| 390 kB 9.8 MB/s \n",
            "\u001b[?25hCollecting addict\n",
            "  Downloading addict-2.4.0-py3-none-any.whl (3.8 kB)\n",
            "Requirement already satisfied: numpy in /usr/local/lib/python3.7/dist-packages (from mmcv-full) (1.19.5)\n",
            "Requirement already satisfied: packaging in /usr/local/lib/python3.7/dist-packages (from mmcv-full) (21.3)\n",
            "Requirement already satisfied: Pillow in /usr/local/lib/python3.7/dist-packages (from mmcv-full) (7.1.2)\n",
            "Requirement already satisfied: pyyaml in /usr/local/lib/python3.7/dist-packages (from mmcv-full) (3.13)\n",
            "Collecting yapf\n",
            "  Downloading yapf-0.31.0-py2.py3-none-any.whl (185 kB)\n",
            "\u001b[K     |████████████████████████████████| 185 kB 40.4 MB/s \n",
            "\u001b[?25hRequirement already satisfied: pyparsing!=3.0.5,>=2.0.2 in /usr/local/lib/python3.7/dist-packages (from packaging->mmcv-full) (3.0.6)\n",
            "Building wheels for collected packages: mmcv-full\n",
            "  Building wheel for mmcv-full (setup.py) ... \u001b[?25l\u001b[?25hdone\n",
            "  Created wheel for mmcv-full: filename=mmcv_full-1.3.17-cp37-cp37m-linux_x86_64.whl size=38064580 sha256=d89b449e13611b3c74fa401ad2fb26d28bfde7b4ce10e158ee84e904f527d726\n",
            "  Stored in directory: /root/.cache/pip/wheels/5f/63/2c/49cc449e4a860b364c49c0b77d2275cb012f625d7c9203e444\n",
            "Successfully built mmcv-full\n",
            "Installing collected packages: yapf, addict, mmcv-full\n",
            "Successfully installed addict-2.4.0 mmcv-full-1.3.17 yapf-0.31.0\n",
            "Cloning into 'mmdetection'...\n",
            "remote: Enumerating objects: 21643, done.\u001b[K\n",
            "remote: Total 21643 (delta 0), reused 0 (delta 0), pack-reused 21643\u001b[K\n",
            "Receiving objects: 100% (21643/21643), 25.10 MiB | 32.46 MiB/s, done.\n",
            "Resolving deltas: 100% (15198/15198), done.\n",
            "Obtaining file:///content/mmdetection\n",
            "Requirement already satisfied: matplotlib in /usr/local/lib/python3.7/dist-packages (from mmdet==2.18.1) (3.2.2)\n",
            "Requirement already satisfied: numpy in /usr/local/lib/python3.7/dist-packages (from mmdet==2.18.1) (1.19.5)\n",
            "Requirement already satisfied: six in /usr/local/lib/python3.7/dist-packages (from mmdet==2.18.1) (1.15.0)\n",
            "Collecting terminaltables\n",
            "  Downloading terminaltables-3.1.0.tar.gz (12 kB)\n",
            "Requirement already satisfied: pycocotools in /usr/local/lib/python3.7/dist-packages (from mmdet==2.18.1) (2.0.2)\n",
            "Requirement already satisfied: kiwisolver>=1.0.1 in /usr/local/lib/python3.7/dist-packages (from matplotlib->mmdet==2.18.1) (1.3.2)\n",
            "Requirement already satisfied: python-dateutil>=2.1 in /usr/local/lib/python3.7/dist-packages (from matplotlib->mmdet==2.18.1) (2.8.2)\n",
            "Requirement already satisfied: cycler>=0.10 in /usr/local/lib/python3.7/dist-packages (from matplotlib->mmdet==2.18.1) (0.11.0)\n",
            "Requirement already satisfied: pyparsing!=2.0.4,!=2.1.2,!=2.1.6,>=2.0.1 in /usr/local/lib/python3.7/dist-packages (from matplotlib->mmdet==2.18.1) (3.0.6)\n",
            "Requirement already satisfied: setuptools>=18.0 in /usr/local/lib/python3.7/dist-packages (from pycocotools->mmdet==2.18.1) (57.4.0)\n",
            "Requirement already satisfied: cython>=0.27.3 in /usr/local/lib/python3.7/dist-packages (from pycocotools->mmdet==2.18.1) (0.29.24)\n",
            "Building wheels for collected packages: terminaltables\n",
            "  Building wheel for terminaltables (setup.py) ... \u001b[?25l\u001b[?25hdone\n",
            "  Created wheel for terminaltables: filename=terminaltables-3.1.0-py3-none-any.whl size=15354 sha256=7026846a00002d1b1e329baaf8808b3178bbd81be1111bfcc0e84cec5292fbf3\n",
            "  Stored in directory: /root/.cache/pip/wheels/ba/ad/c8/2d98360791161cd3db6daf6b5e730f34021fc9367d5879f497\n",
            "Successfully built terminaltables\n",
            "Installing collected packages: terminaltables, mmdet\n",
            "  Running setup.py develop for mmdet\n",
            "Successfully installed mmdet-2.18.1 terminaltables-3.1.0\n",
            "Collecting Pillow==7.0.0\n",
            "  Downloading Pillow-7.0.0-cp37-cp37m-manylinux1_x86_64.whl (2.1 MB)\n",
            "\u001b[K     |████████████████████████████████| 2.1 MB 9.9 MB/s \n",
            "\u001b[?25hInstalling collected packages: Pillow\n",
            "  Attempting uninstall: Pillow\n",
            "    Found existing installation: Pillow 7.1.2\n",
            "    Uninstalling Pillow-7.1.2:\n",
            "      Successfully uninstalled Pillow-7.1.2\n",
            "\u001b[31mERROR: pip's dependency resolver does not currently take into account all the packages that are installed. This behaviour is the source of the following dependency conflicts.\n",
            "bokeh 2.3.3 requires pillow>=7.1.0, but you have pillow 7.0.0 which is incompatible.\n",
            "albumentations 0.1.12 requires imgaug<0.2.7,>=0.2.5, but you have imgaug 0.2.9 which is incompatible.\u001b[0m\n",
            "Successfully installed Pillow-7.0.0\n"
          ]
        },
        {
          "output_type": "display_data",
          "data": {
            "application/vnd.colab-display-data+json": {
              "pip_warning": {
                "packages": [
                  "PIL"
                ]
              }
            }
          },
          "metadata": {}
        }
      ]
    },
    {
      "cell_type": "code",
      "metadata": {
        "colab": {
          "base_uri": "https://localhost:8080/"
        },
        "id": "b55df0dc-ffa2-491a-a6c2-612e7e489ccc",
        "outputId": "d7cec414-0da8-45a4-ac8c-42f8de705d7c"
      },
      "source": [
        "# Check Pytorch installation\n",
        "import torch, torchvision\n",
        "print(torch.__version__, torch.cuda.is_available())\n",
        "\n",
        "# Check MMDetection installation\n",
        "import mmdet\n",
        "print(mmdet.__version__)\n",
        "\n",
        "# Check mmcv installation\n",
        "from mmcv.ops import get_compiling_cuda_version, get_compiler_version\n",
        "print(get_compiling_cuda_version())\n",
        "print(get_compiler_version())\n",
        "\n",
        "import matplotlib.pyplot as plt\n",
        "import cv2\n",
        "import numpy as np\n",
        "\n",
        "%matplotlib inline"
      ],
      "id": "b55df0dc-ffa2-491a-a6c2-612e7e489ccc",
      "execution_count": 1,
      "outputs": [
        {
          "output_type": "stream",
          "name": "stdout",
          "text": [
            "1.5.1+cu101 True\n",
            "2.18.1\n",
            "11.1\n",
            "GCC 7.5\n"
          ]
        }
      ]
    },
    {
      "cell_type": "code",
      "metadata": {
        "colab": {
          "base_uri": "https://localhost:8080/"
        },
        "id": "hQ5TtlVLOLA6",
        "outputId": "d43850bd-5a83-43f7-f168-91d9bcee135f"
      },
      "source": [
        "from google.colab import drive\n",
        "drive.mount('/content/drive')"
      ],
      "id": "hQ5TtlVLOLA6",
      "execution_count": 2,
      "outputs": [
        {
          "output_type": "stream",
          "name": "stdout",
          "text": [
            "Drive already mounted at /content/drive; to attempt to forcibly remount, call drive.mount(\"/content/drive\", force_remount=True).\n"
          ]
        }
      ]
    },
    {
      "cell_type": "markdown",
      "metadata": {
        "id": "9d3f36bb-be72-465d-b1d6-d023c3e98361"
      },
      "source": [
        "## Download original weights"
      ],
      "id": "9d3f36bb-be72-465d-b1d6-d023c3e98361"
    },
    {
      "cell_type": "code",
      "metadata": {
        "colab": {
          "base_uri": "https://localhost:8080/"
        },
        "id": "07b7709c-d8c1-4d05-b585-ae6e5e6e53aa",
        "outputId": "b6be2182-2ebd-4ec9-9a06-70a659898b7c"
      },
      "source": [
        "! mkdir -p /mmdetection/checkpoints/\n",
        "! wget -nc https://download.openmmlab.com/mmdetection/v2.0/vfnet/vfnet_x101_64x4d_fpn_mdconv_c3-c5_mstrain_2x_coco/vfnet_x101_64x4d_fpn_mdconv_c3-c5_mstrain_2x_coco_20201027pth-b5f6da5e.pth \\\n",
        "       -O /mmdetection/checkpoints/vfnet.pth"
      ],
      "id": "07b7709c-d8c1-4d05-b585-ae6e5e6e53aa",
      "execution_count": 3,
      "outputs": [
        {
          "output_type": "stream",
          "name": "stdout",
          "text": [
            "File ‘/mmdetection/checkpoints/vfnet.pth’ already there; not retrieving.\n"
          ]
        }
      ]
    },
    {
      "cell_type": "code",
      "metadata": {
        "id": "2bb02992-1bb7-474e-a3db-f6082ad6a5c2"
      },
      "source": [
        "from mmdet.apis import inference_detector, init_detector, show_result_pyplot\n",
        "\n",
        "# Choose to use a config and initialize the detector\n",
        "config = '/content/drive/MyDrive/rosneft_hack/deers_exps/configs/vfnet_aug_v2.py'\n",
        "# Setup a checkpoint file to load\n",
        "checkpoint = '/content/drive/MyDrive/rosneft_hack/deers_exps/epoch_48.pth'"
      ],
      "id": "2bb02992-1bb7-474e-a3db-f6082ad6a5c2",
      "execution_count": 10,
      "outputs": []
    },
    {
      "cell_type": "code",
      "metadata": {
        "id": "5e44998a-650d-4eb0-bb89-cf9f637f81c7"
      },
      "source": [
        "# initialize the detector\n",
        "# model = init_detector(config, checkpoint, device='cuda')"
      ],
      "id": "5e44998a-650d-4eb0-bb89-cf9f637f81c7",
      "execution_count": 5,
      "outputs": []
    },
    {
      "cell_type": "markdown",
      "metadata": {
        "id": "cf39c3eb-4063-41e9-83a9-dd474634c1a7"
      },
      "source": [
        "## Change the config"
      ],
      "id": "cf39c3eb-4063-41e9-83a9-dd474634c1a7"
    },
    {
      "cell_type": "code",
      "metadata": {
        "id": "V9EZo8RVgSbm"
      },
      "source": [
        "albu_train_transforms = [\n",
        "    dict(\n",
        "        type = 'RandomCrop',\n",
        "         height = 800,\n",
        "         width = 1333,\n",
        "         p = 0.5,\n",
        "    ),\n",
        "    dict(\n",
        "        type = 'ColorJitter',\n",
        "         brightness = 0.3,\n",
        "         contrast = 0.3,\n",
        "         saturation = 0.3,\n",
        "         hue = 0.3,\n",
        "         p = 0.5,\n",
        "    )\n",
        "]"
      ],
      "id": "V9EZo8RVgSbm",
      "execution_count": 11,
      "outputs": []
    },
    {
      "cell_type": "code",
      "metadata": {
        "id": "QsNbc-e-IO4j"
      },
      "source": [
        ""
      ],
      "id": "QsNbc-e-IO4j",
      "execution_count": null,
      "outputs": []
    },
    {
      "cell_type": "code",
      "metadata": {
        "id": "56960bd8-8b06-4895-ba78-f8fdc4a30f3f"
      },
      "source": [
        "from mmcv import Config\n",
        "cfg = Config.fromfile(config)\n",
        "\n",
        "from mmdet.apis import set_random_seed\n",
        "\n",
        "# Modify dataset type and path\n",
        "cfg.dataset_type = 'CocoDataset'\n",
        "cfg.classes = ('fawn', 'reindeer')\n",
        "cfg.data_root = '/content/drive/MyDrive/rosneft_hack/data'\n",
        "#cfg.train_pipeline.insert(\n",
        "#    4,\n",
        "#    dict(\n",
        "#        type='CutOut',\n",
        "#        n_holes=(0, 4),\n",
        "#        cutout_ratio=[(0.01, 0.008), (0.005, 0.01), (0.005, 0.01), (0.01, 0.01)],\n",
        "#    )\n",
        "#)\n",
        "cfg.train_pipeline.insert(\n",
        "   4,\n",
        "   dict(\n",
        "       type = 'RandomAffine',\n",
        "        max_rotate_degree = 30.0,\n",
        "        max_translate_ratio = 0.2,\n",
        "        scaling_ratio_range = (0.5, 1.5)\n",
        "\n",
        "   )\n",
        ")\n",
        "cfg.train_pipeline.insert(\n",
        "   5,\n",
        "   dict(\n",
        "       type = 'RandomFlip',\n",
        "        flip_ratio = 0.5,\n",
        "        direction = 'horizontal',\n",
        "   )\n",
        ")\n",
        "\n",
        "cfg.train_pipeline.insert(\n",
        "    6,\n",
        "    dict(\n",
        "        type= 'Albu',\n",
        "        transforms= albu_train_transforms,\n",
        "        bbox_params=dict(\n",
        "                type='BboxParams',\n",
        "                format='coco',\n",
        "                label_fields=['gt_labels'],\n",
        "                min_visibility=0.0,\n",
        "                filter_lost_elements=True),\n",
        "        keymap={\n",
        "            'img': 'image',\n",
        "            'gt_bboxes': 'bboxes'\n",
        "        },\n",
        "        update_pad_shape=False,\n",
        "        skip_img_without_anno=True)\n",
        ")\n",
        "\n",
        "cfg.data.samples_per_gpu = 2\n",
        "cfg.data.workers_per_gpu = 4\n",
        "\n",
        "cfg.data.test.type = 'CocoDataset'\n",
        "cfg.data.test.data_root = cfg.data_root\n",
        "cfg.data.test.ann_file = 'test/coco_annotations.json'\n",
        "cfg.data.test.img_prefix = 'test/data/'\n",
        "cfg.data.test.classes = cfg.classes\n",
        "\n",
        "cfg.data.train.type = 'CocoDataset'\n",
        "cfg.data.train.data_root = cfg.data_root\n",
        "cfg.data.train.ann_file = 'train/coco_annotations.json'\n",
        "cfg.data.train.img_prefix = 'train/data/'\n",
        "cfg.data.train.classes = cfg.classes\n",
        "\n",
        "cfg.data.val.type = 'CocoDataset'\n",
        "cfg.data.val.data_root = cfg.data_root\n",
        "cfg.data.val.ann_file = 'all_data/coco_annotations.json'\n",
        "cfg.data.val.img_prefix = 'all_data/images/'\n",
        "cfg.data.val.classes = cfg.classes\n",
        "\n",
        "\n",
        "cfg.model.bbox_head.num_classes = len(cfg.classes)\n",
        "\n",
        "# We can still use the pre-trained model\n",
        "cfg.load_from = checkpoint\n",
        "\n",
        "# Set up working dir to save files and logs.\n",
        "cfg.work_dir = './deers_exps/'\n",
        "\n",
        "# The original learning rate (LR) is set for 8-GPU training.\n",
        "# We divide it by 8 since we only use one GPU.\n",
        "cfg.optimizer.lr = 1e-4\n",
        "cfg.log_config.interval = 10\n",
        "\n",
        "# Change the evaluation metric since we use customized dataset.\n",
        "cfg.evaluation.metric = ['bbox', ]\n",
        "# We can set the evaluation interval to reduce the evaluation times\n",
        "cfg.evaluation.interval = 1\n",
        "# We can set the checkpoint saving interval to reduce the storage cost\n",
        "cfg.checkpoint_config.interval = 3\n",
        "\n",
        "# Set seed thus the results are more reproducible\n",
        "cfg.seed = 0\n",
        "set_random_seed(0, deterministic=False)\n",
        "cfg.gpu_ids = [0, ]\n",
        "\n",
        "\n",
        "# We can initialize the logger for training and have a look\n",
        "# at the final config used for training\n",
        "#print(f'Config:\\n{cfg.pretty_text}')"
      ],
      "id": "56960bd8-8b06-4895-ba78-f8fdc4a30f3f",
      "execution_count": 12,
      "outputs": []
    },
    {
      "cell_type": "code",
      "metadata": {
        "id": "9ntUxt2Ijtzb"
      },
      "source": [
        "cfg.dump('/content/drive/MyDrive/rosneft_hack/deers_exps/configs/vfnet_aug_v2.py')"
      ],
      "id": "9ntUxt2Ijtzb",
      "execution_count": 16,
      "outputs": []
    },
    {
      "cell_type": "code",
      "metadata": {
        "colab": {
          "base_uri": "https://localhost:8080/"
        },
        "id": "_12EApQxghZi",
        "outputId": "9db21de9-a53a-41c5-cfac-a7149737ace5"
      },
      "source": [
        "checkpoint = '/content/drive/MyDrive/rosneft_hack/deers_exps/epoch_48.pth'\n",
        "config = '/content/drive/MyDrive/rosneft_hack/deers_exps/configs/vfnet_aug_v2.py'\n",
        "\n",
        "model = init_detector(config, checkpoint=checkpoint, device='cuda')"
      ],
      "id": "_12EApQxghZi",
      "execution_count": 7,
      "outputs": [
        {
          "output_type": "stream",
          "name": "stdout",
          "text": [
            "load checkpoint from local path: /content/drive/MyDrive/rosneft_hack/deers_exps/epoch_48.pth\n"
          ]
        },
        {
          "output_type": "stream",
          "name": "stderr",
          "text": [
            "2021-11-20 20:52:59,213 - root - INFO - ModulatedDeformConvPack backbone.layer2.0.conv2 is upgraded to version 2.\n",
            "2021-11-20 20:52:59,220 - root - INFO - ModulatedDeformConvPack backbone.layer2.1.conv2 is upgraded to version 2.\n",
            "2021-11-20 20:52:59,225 - root - INFO - ModulatedDeformConvPack backbone.layer2.2.conv2 is upgraded to version 2.\n",
            "2021-11-20 20:52:59,230 - root - INFO - ModulatedDeformConvPack backbone.layer2.3.conv2 is upgraded to version 2.\n",
            "2021-11-20 20:52:59,235 - root - INFO - ModulatedDeformConvPack backbone.layer3.0.conv2 is upgraded to version 2.\n",
            "2021-11-20 20:52:59,242 - root - INFO - ModulatedDeformConvPack backbone.layer3.1.conv2 is upgraded to version 2.\n",
            "2021-11-20 20:52:59,248 - root - INFO - ModulatedDeformConvPack backbone.layer3.2.conv2 is upgraded to version 2.\n",
            "2021-11-20 20:52:59,253 - root - INFO - ModulatedDeformConvPack backbone.layer3.3.conv2 is upgraded to version 2.\n",
            "2021-11-20 20:52:59,259 - root - INFO - ModulatedDeformConvPack backbone.layer3.4.conv2 is upgraded to version 2.\n",
            "2021-11-20 20:52:59,265 - root - INFO - ModulatedDeformConvPack backbone.layer3.5.conv2 is upgraded to version 2.\n",
            "2021-11-20 20:52:59,270 - root - INFO - ModulatedDeformConvPack backbone.layer3.6.conv2 is upgraded to version 2.\n",
            "2021-11-20 20:52:59,276 - root - INFO - ModulatedDeformConvPack backbone.layer3.7.conv2 is upgraded to version 2.\n",
            "2021-11-20 20:52:59,282 - root - INFO - ModulatedDeformConvPack backbone.layer3.8.conv2 is upgraded to version 2.\n",
            "2021-11-20 20:52:59,287 - root - INFO - ModulatedDeformConvPack backbone.layer3.9.conv2 is upgraded to version 2.\n",
            "2021-11-20 20:52:59,293 - root - INFO - ModulatedDeformConvPack backbone.layer3.10.conv2 is upgraded to version 2.\n",
            "2021-11-20 20:52:59,305 - root - INFO - ModulatedDeformConvPack backbone.layer3.11.conv2 is upgraded to version 2.\n",
            "2021-11-20 20:52:59,312 - root - INFO - ModulatedDeformConvPack backbone.layer3.12.conv2 is upgraded to version 2.\n",
            "2021-11-20 20:52:59,318 - root - INFO - ModulatedDeformConvPack backbone.layer3.13.conv2 is upgraded to version 2.\n",
            "2021-11-20 20:52:59,324 - root - INFO - ModulatedDeformConvPack backbone.layer3.14.conv2 is upgraded to version 2.\n",
            "2021-11-20 20:52:59,330 - root - INFO - ModulatedDeformConvPack backbone.layer3.15.conv2 is upgraded to version 2.\n",
            "2021-11-20 20:52:59,337 - root - INFO - ModulatedDeformConvPack backbone.layer3.16.conv2 is upgraded to version 2.\n",
            "2021-11-20 20:52:59,343 - root - INFO - ModulatedDeformConvPack backbone.layer3.17.conv2 is upgraded to version 2.\n",
            "2021-11-20 20:52:59,349 - root - INFO - ModulatedDeformConvPack backbone.layer3.18.conv2 is upgraded to version 2.\n",
            "2021-11-20 20:52:59,357 - root - INFO - ModulatedDeformConvPack backbone.layer3.19.conv2 is upgraded to version 2.\n",
            "2021-11-20 20:52:59,363 - root - INFO - ModulatedDeformConvPack backbone.layer3.20.conv2 is upgraded to version 2.\n",
            "2021-11-20 20:52:59,369 - root - INFO - ModulatedDeformConvPack backbone.layer3.21.conv2 is upgraded to version 2.\n",
            "2021-11-20 20:52:59,375 - root - INFO - ModulatedDeformConvPack backbone.layer3.22.conv2 is upgraded to version 2.\n",
            "2021-11-20 20:52:59,382 - root - INFO - ModulatedDeformConvPack backbone.layer4.0.conv2 is upgraded to version 2.\n",
            "2021-11-20 20:52:59,399 - root - INFO - ModulatedDeformConvPack backbone.layer4.1.conv2 is upgraded to version 2.\n",
            "2021-11-20 20:52:59,409 - root - INFO - ModulatedDeformConvPack backbone.layer4.2.conv2 is upgraded to version 2.\n",
            "2021-11-20 20:52:59,423 - root - INFO - ModulatedDeformConvPack bbox_head.cls_convs.2.conv is upgraded to version 2.\n",
            "2021-11-20 20:52:59,429 - root - INFO - ModulatedDeformConvPack bbox_head.reg_convs.2.conv is upgraded to version 2.\n"
          ]
        }
      ]
    },
    {
      "cell_type": "code",
      "metadata": {
        "colab": {
          "base_uri": "https://localhost:8080/"
        },
        "id": "0kT5DwodmK-y",
        "outputId": "346f8c4b-75da-4f06-ee4b-82973f7a56b4"
      },
      "source": [
        "!nvidia-smi"
      ],
      "id": "0kT5DwodmK-y",
      "execution_count": 13,
      "outputs": [
        {
          "output_type": "stream",
          "name": "stdout",
          "text": [
            "Sat Nov 20 20:55:04 2021       \n",
            "+-----------------------------------------------------------------------------+\n",
            "| NVIDIA-SMI 495.44       Driver Version: 460.32.03    CUDA Version: 11.2     |\n",
            "|-------------------------------+----------------------+----------------------+\n",
            "| GPU  Name        Persistence-M| Bus-Id        Disp.A | Volatile Uncorr. ECC |\n",
            "| Fan  Temp  Perf  Pwr:Usage/Cap|         Memory-Usage | GPU-Util  Compute M. |\n",
            "|                               |                      |               MIG M. |\n",
            "|===============================+======================+======================|\n",
            "|   0  Tesla P100-PCIE...  Off  | 00000000:00:04.0 Off |                    0 |\n",
            "| N/A   49C    P0    35W / 250W |  14351MiB / 16280MiB |      0%      Default |\n",
            "|                               |                      |                  N/A |\n",
            "+-------------------------------+----------------------+----------------------+\n",
            "                                                                               \n",
            "+-----------------------------------------------------------------------------+\n",
            "| Processes:                                                                  |\n",
            "|  GPU   GI   CI        PID   Type   Process name                  GPU Memory |\n",
            "|        ID   ID                                                   Usage      |\n",
            "|=============================================================================|\n",
            "|  No running processes found                                                 |\n",
            "+-----------------------------------------------------------------------------+\n"
          ]
        }
      ]
    },
    {
      "cell_type": "markdown",
      "metadata": {
        "id": "3a478d10-c0a0-478e-a00e-ae8408a5d92f"
      },
      "source": [
        "## Let's train"
      ],
      "id": "3a478d10-c0a0-478e-a00e-ae8408a5d92f"
    },
    {
      "cell_type": "code",
      "metadata": {
        "colab": {
          "base_uri": "https://localhost:8080/"
        },
        "id": "26439115-0afc-45e4-ab0c-bd6b9cf52336",
        "outputId": "47da4f6d-ccc1-40ac-ae79-c709caaf6ae3"
      },
      "source": [
        "import mmcv\n",
        "import os.path as osp\n",
        "from mmdet.datasets import build_dataset\n",
        "from mmdet.models import build_detector\n",
        "from mmdet.apis import train_detector\n",
        "\n",
        "\n",
        "# Build dataset\n",
        "datasets = [build_dataset(cfg.data.train)]\n",
        "\n",
        "# Build the detector\n",
        "model = build_detector(\n",
        "    cfg.model,\n",
        "    train_cfg=cfg.get('train_cfg'),\n",
        "    test_cfg=cfg.get('test_cfg'),\n",
        ")\n",
        "# Add an attribute for visualization convenience\n",
        "model.CLASSES = datasets[0].CLASSES\n",
        "print(datasets[0].CLASSES)\n",
        "\n",
        "# Create work_dir\n",
        "mmcv.mkdir_or_exist(osp.abspath(cfg.work_dir))\n",
        "train_detector(model, datasets, cfg, distributed=False, validate=True)"
      ],
      "id": "26439115-0afc-45e4-ab0c-bd6b9cf52336",
      "execution_count": 14,
      "outputs": [
        {
          "output_type": "stream",
          "name": "stdout",
          "text": [
            "loading annotations into memory...\n",
            "Done (t=0.13s)\n",
            "creating index...\n",
            "index created!\n",
            "('fawn', 'reindeer')\n",
            "loading annotations into memory...\n"
          ]
        },
        {
          "output_type": "stream",
          "name": "stderr",
          "text": [
            "2021-11-20 20:55:12,643 - mmdet - INFO - load checkpoint from local path: /content/drive/MyDrive/rosneft_hack/deers_exps/epoch_48.pth\n"
          ]
        },
        {
          "output_type": "stream",
          "name": "stdout",
          "text": [
            "Done (t=0.30s)\n",
            "creating index...\n",
            "index created!\n"
          ]
        },
        {
          "output_type": "stream",
          "name": "stderr",
          "text": [
            "2021-11-20 20:55:13,838 - root - INFO - ModulatedDeformConvPack backbone.layer2.0.conv2 is upgraded to version 2.\n",
            "2021-11-20 20:55:13,845 - root - INFO - ModulatedDeformConvPack backbone.layer2.1.conv2 is upgraded to version 2.\n",
            "2021-11-20 20:55:13,850 - root - INFO - ModulatedDeformConvPack backbone.layer2.2.conv2 is upgraded to version 2.\n",
            "2021-11-20 20:55:13,856 - root - INFO - ModulatedDeformConvPack backbone.layer2.3.conv2 is upgraded to version 2.\n",
            "2021-11-20 20:55:13,862 - root - INFO - ModulatedDeformConvPack backbone.layer3.0.conv2 is upgraded to version 2.\n",
            "2021-11-20 20:55:13,869 - root - INFO - ModulatedDeformConvPack backbone.layer3.1.conv2 is upgraded to version 2.\n",
            "2021-11-20 20:55:13,876 - root - INFO - ModulatedDeformConvPack backbone.layer3.2.conv2 is upgraded to version 2.\n",
            "2021-11-20 20:55:13,881 - root - INFO - ModulatedDeformConvPack backbone.layer3.3.conv2 is upgraded to version 2.\n",
            "2021-11-20 20:55:13,887 - root - INFO - ModulatedDeformConvPack backbone.layer3.4.conv2 is upgraded to version 2.\n",
            "2021-11-20 20:55:13,893 - root - INFO - ModulatedDeformConvPack backbone.layer3.5.conv2 is upgraded to version 2.\n",
            "2021-11-20 20:55:13,899 - root - INFO - ModulatedDeformConvPack backbone.layer3.6.conv2 is upgraded to version 2.\n",
            "2021-11-20 20:55:13,905 - root - INFO - ModulatedDeformConvPack backbone.layer3.7.conv2 is upgraded to version 2.\n",
            "2021-11-20 20:55:13,911 - root - INFO - ModulatedDeformConvPack backbone.layer3.8.conv2 is upgraded to version 2.\n",
            "2021-11-20 20:55:13,918 - root - INFO - ModulatedDeformConvPack backbone.layer3.9.conv2 is upgraded to version 2.\n",
            "2021-11-20 20:55:13,924 - root - INFO - ModulatedDeformConvPack backbone.layer3.10.conv2 is upgraded to version 2.\n",
            "2021-11-20 20:55:13,931 - root - INFO - ModulatedDeformConvPack backbone.layer3.11.conv2 is upgraded to version 2.\n",
            "2021-11-20 20:55:13,938 - root - INFO - ModulatedDeformConvPack backbone.layer3.12.conv2 is upgraded to version 2.\n",
            "2021-11-20 20:55:13,944 - root - INFO - ModulatedDeformConvPack backbone.layer3.13.conv2 is upgraded to version 2.\n",
            "2021-11-20 20:55:13,951 - root - INFO - ModulatedDeformConvPack backbone.layer3.14.conv2 is upgraded to version 2.\n",
            "2021-11-20 20:55:13,957 - root - INFO - ModulatedDeformConvPack backbone.layer3.15.conv2 is upgraded to version 2.\n",
            "2021-11-20 20:55:13,964 - root - INFO - ModulatedDeformConvPack backbone.layer3.16.conv2 is upgraded to version 2.\n",
            "2021-11-20 20:55:13,971 - root - INFO - ModulatedDeformConvPack backbone.layer3.17.conv2 is upgraded to version 2.\n",
            "2021-11-20 20:55:13,978 - root - INFO - ModulatedDeformConvPack backbone.layer3.18.conv2 is upgraded to version 2.\n",
            "2021-11-20 20:55:13,984 - root - INFO - ModulatedDeformConvPack backbone.layer3.19.conv2 is upgraded to version 2.\n",
            "2021-11-20 20:55:13,990 - root - INFO - ModulatedDeformConvPack backbone.layer3.20.conv2 is upgraded to version 2.\n",
            "2021-11-20 20:55:13,997 - root - INFO - ModulatedDeformConvPack backbone.layer3.21.conv2 is upgraded to version 2.\n",
            "2021-11-20 20:55:14,003 - root - INFO - ModulatedDeformConvPack backbone.layer3.22.conv2 is upgraded to version 2.\n",
            "2021-11-20 20:55:14,009 - root - INFO - ModulatedDeformConvPack backbone.layer4.0.conv2 is upgraded to version 2.\n",
            "2021-11-20 20:55:14,020 - root - INFO - ModulatedDeformConvPack backbone.layer4.1.conv2 is upgraded to version 2.\n",
            "2021-11-20 20:55:14,030 - root - INFO - ModulatedDeformConvPack backbone.layer4.2.conv2 is upgraded to version 2.\n",
            "2021-11-20 20:55:14,046 - root - INFO - ModulatedDeformConvPack bbox_head.cls_convs.2.conv is upgraded to version 2.\n",
            "2021-11-20 20:55:14,053 - root - INFO - ModulatedDeformConvPack bbox_head.reg_convs.2.conv is upgraded to version 2.\n",
            "2021-11-20 20:55:14,133 - mmdet - INFO - Start running, host: root@63eaa890892e, work_dir: /content/deers_exps\n",
            "2021-11-20 20:55:14,134 - mmdet - INFO - Hooks will be executed in the following order:\n",
            "before_run:\n",
            "(VERY_HIGH   ) StepLrUpdaterHook                  \n",
            "(NORMAL      ) CheckpointHook                     \n",
            "(LOW         ) EvalHook                           \n",
            "(VERY_LOW    ) TextLoggerHook                     \n",
            " -------------------- \n",
            "before_train_epoch:\n",
            "(VERY_HIGH   ) StepLrUpdaterHook                  \n",
            "(NORMAL      ) NumClassCheckHook                  \n",
            "(LOW         ) IterTimerHook                      \n",
            "(LOW         ) EvalHook                           \n",
            "(VERY_LOW    ) TextLoggerHook                     \n",
            " -------------------- \n",
            "before_train_iter:\n",
            "(VERY_HIGH   ) StepLrUpdaterHook                  \n",
            "(LOW         ) IterTimerHook                      \n",
            "(LOW         ) EvalHook                           \n",
            " -------------------- \n",
            "after_train_iter:\n",
            "(ABOVE_NORMAL) OptimizerHook                      \n",
            "(NORMAL      ) CheckpointHook                     \n",
            "(LOW         ) IterTimerHook                      \n",
            "(LOW         ) EvalHook                           \n",
            "(VERY_LOW    ) TextLoggerHook                     \n",
            " -------------------- \n",
            "after_train_epoch:\n",
            "(NORMAL      ) CheckpointHook                     \n",
            "(LOW         ) EvalHook                           \n",
            "(VERY_LOW    ) TextLoggerHook                     \n",
            " -------------------- \n",
            "before_val_epoch:\n",
            "(NORMAL      ) NumClassCheckHook                  \n",
            "(LOW         ) IterTimerHook                      \n",
            "(VERY_LOW    ) TextLoggerHook                     \n",
            " -------------------- \n",
            "before_val_iter:\n",
            "(LOW         ) IterTimerHook                      \n",
            " -------------------- \n",
            "after_val_iter:\n",
            "(LOW         ) IterTimerHook                      \n",
            " -------------------- \n",
            "after_val_epoch:\n",
            "(VERY_LOW    ) TextLoggerHook                     \n",
            " -------------------- \n",
            "after_run:\n",
            "(VERY_LOW    ) TextLoggerHook                     \n",
            " -------------------- \n",
            "2021-11-20 20:55:14,136 - mmdet - INFO - workflow: [('train', 1)], max: 24 epochs\n",
            "2021-11-20 20:55:14,137 - mmdet - INFO - Checkpoints will be saved to /content/deers_exps by HardDiskBackend.\n",
            "2021-11-20 20:55:49,313 - mmdet - INFO - Epoch [1][10/228]\tlr: 1.162e-05, eta: 5:20:06, time: 3.516, data_time: 0.408, memory: 12015, loss_cls: 0.4821, loss_bbox: 0.2605, loss_bbox_rf: 0.3441, loss: 1.0867\n",
            "2021-11-20 20:56:19,121 - mmdet - INFO - Epoch [1][20/228]\tlr: 1.342e-05, eta: 4:55:11, time: 2.981, data_time: 0.008, memory: 12044, loss_cls: 0.4691, loss_bbox: 0.2344, loss_bbox_rf: 0.3074, loss: 1.0109\n",
            "2021-11-20 20:56:52,799 - mmdet - INFO - Epoch [1][30/228]\tlr: 1.522e-05, eta: 4:58:15, time: 3.368, data_time: 0.008, memory: 12059, loss_cls: 0.4661, loss_bbox: 0.2119, loss_bbox_rf: 0.2803, loss: 0.9583\n",
            "2021-11-20 20:57:25,215 - mmdet - INFO - Epoch [1][40/228]\tlr: 1.702e-05, eta: 4:56:38, time: 3.242, data_time: 0.009, memory: 12059, loss_cls: 0.4351, loss_bbox: 0.2275, loss_bbox_rf: 0.3025, loss: 0.9651\n",
            "2021-11-20 20:58:01,344 - mmdet - INFO - Epoch [1][50/228]\tlr: 1.882e-05, eta: 5:02:10, time: 3.613, data_time: 0.009, memory: 12059, loss_cls: 0.4735, loss_bbox: 0.3006, loss_bbox_rf: 0.3945, loss: 1.1686\n",
            "2021-11-20 20:58:34,637 - mmdet - INFO - Epoch [1][60/228]\tlr: 2.062e-05, eta: 5:01:24, time: 3.329, data_time: 0.008, memory: 12059, loss_cls: 0.4866, loss_bbox: 0.2484, loss_bbox_rf: 0.3277, loss: 1.0627\n",
            "2021-11-20 20:59:09,976 - mmdet - INFO - Epoch [1][70/228]\tlr: 2.242e-05, eta: 5:03:19, time: 3.534, data_time: 0.008, memory: 12059, loss_cls: 0.4288, loss_bbox: 0.2326, loss_bbox_rf: 0.3084, loss: 0.9698\n",
            "2021-11-20 20:59:43,406 - mmdet - INFO - Epoch [1][80/228]\tlr: 2.422e-05, eta: 5:02:27, time: 3.343, data_time: 0.008, memory: 12059, loss_cls: 0.4727, loss_bbox: 0.2322, loss_bbox_rf: 0.3054, loss: 1.0103\n",
            "2021-11-20 21:00:14,692 - mmdet - INFO - Epoch [1][90/228]\tlr: 2.602e-05, eta: 4:59:32, time: 3.129, data_time: 0.008, memory: 12059, loss_cls: 0.4856, loss_bbox: 0.2600, loss_bbox_rf: 0.3412, loss: 1.0868\n",
            "2021-11-20 21:00:49,030 - mmdet - INFO - Epoch [1][100/228]\tlr: 2.782e-05, eta: 4:59:49, time: 3.434, data_time: 0.009, memory: 12059, loss_cls: 0.4665, loss_bbox: 0.2928, loss_bbox_rf: 0.3873, loss: 1.1465\n",
            "2021-11-20 21:01:21,472 - mmdet - INFO - Epoch [1][110/228]\tlr: 2.962e-05, eta: 4:58:25, time: 3.244, data_time: 0.008, memory: 12171, loss_cls: 0.4628, loss_bbox: 0.2413, loss_bbox_rf: 0.3183, loss: 1.0224\n",
            "2021-11-20 21:01:51,596 - mmdet - INFO - Epoch [1][120/228]\tlr: 3.142e-05, eta: 4:55:26, time: 3.012, data_time: 0.007, memory: 12171, loss_cls: 0.4406, loss_bbox: 0.2048, loss_bbox_rf: 0.2679, loss: 0.9133\n",
            "2021-11-20 21:02:23,913 - mmdet - INFO - Epoch [1][130/228]\tlr: 3.322e-05, eta: 4:54:19, time: 3.232, data_time: 0.008, memory: 12171, loss_cls: 0.5056, loss_bbox: 0.2796, loss_bbox_rf: 0.3702, loss: 1.1554\n",
            "2021-11-20 21:02:54,652 - mmdet - INFO - Epoch [1][140/228]\tlr: 3.502e-05, eta: 4:52:18, time: 3.074, data_time: 0.008, memory: 12171, loss_cls: 0.4274, loss_bbox: 0.1987, loss_bbox_rf: 0.2569, loss: 0.8829\n",
            "2021-11-20 21:03:27,794 - mmdet - INFO - Epoch [1][150/228]\tlr: 3.682e-05, eta: 4:51:54, time: 3.314, data_time: 0.008, memory: 12171, loss_cls: 0.4682, loss_bbox: 0.2265, loss_bbox_rf: 0.3011, loss: 0.9958\n",
            "2021-11-20 21:04:00,207 - mmdet - INFO - Epoch [1][160/228]\tlr: 3.862e-05, eta: 4:51:05, time: 3.241, data_time: 0.008, memory: 12171, loss_cls: 0.4906, loss_bbox: 0.2789, loss_bbox_rf: 0.3680, loss: 1.1375\n",
            "2021-11-20 21:04:31,484 - mmdet - INFO - Epoch [1][170/228]\tlr: 4.042e-05, eta: 4:49:42, time: 3.128, data_time: 0.008, memory: 12171, loss_cls: 0.4534, loss_bbox: 0.2252, loss_bbox_rf: 0.2968, loss: 0.9754\n",
            "2021-11-20 21:05:05,266 - mmdet - INFO - Epoch [1][180/228]\tlr: 4.222e-05, eta: 4:49:38, time: 3.378, data_time: 0.008, memory: 12171, loss_cls: 0.4374, loss_bbox: 0.1870, loss_bbox_rf: 0.2474, loss: 0.8718\n",
            "2021-11-20 21:05:36,968 - mmdet - INFO - Epoch [1][190/228]\tlr: 4.402e-05, eta: 4:48:34, time: 3.170, data_time: 0.008, memory: 12171, loss_cls: 0.4412, loss_bbox: 0.2612, loss_bbox_rf: 0.3437, loss: 1.0461\n",
            "2021-11-20 21:06:05,178 - mmdet - INFO - Epoch [1][200/228]\tlr: 4.582e-05, eta: 4:46:01, time: 2.821, data_time: 0.007, memory: 12171, loss_cls: 0.4750, loss_bbox: 0.2681, loss_bbox_rf: 0.3534, loss: 1.0965\n",
            "2021-11-20 21:06:39,374 - mmdet - INFO - Epoch [1][210/228]\tlr: 4.762e-05, eta: 4:46:09, time: 3.420, data_time: 0.008, memory: 12171, loss_cls: 0.5133, loss_bbox: 0.2664, loss_bbox_rf: 0.3498, loss: 1.1295\n",
            "2021-11-20 21:07:12,759 - mmdet - INFO - Epoch [1][220/228]\tlr: 4.942e-05, eta: 4:45:55, time: 3.339, data_time: 0.008, memory: 12171, loss_cls: 0.4834, loss_bbox: 0.2701, loss_bbox_rf: 0.3561, loss: 1.1096\n"
          ]
        },
        {
          "output_type": "stream",
          "name": "stdout",
          "text": [
            "[                                 ] 1/534, 0.5 task/s, elapsed: 2s, ETA:  1087s"
          ]
        },
        {
          "output_type": "stream",
          "name": "stderr",
          "text": [
            "/pytorch/torch/csrc/utils/python_arg_parser.cpp:756: UserWarning: This overload of nonzero is deprecated:\n",
            "\tnonzero(Tensor input, *, Tensor out)\n",
            "Consider using one of the following signatures instead:\n",
            "\tnonzero(Tensor input, *, bool as_tuple)\n"
          ]
        },
        {
          "output_type": "stream",
          "name": "stdout",
          "text": [
            "[>>>>>>>>>>>>>>>>>>>>>>>>>>>>>] 534/534, 3.3 task/s, elapsed: 164s, ETA:     0s"
          ]
        },
        {
          "output_type": "stream",
          "name": "stderr",
          "text": [
            "2021-11-20 21:10:23,589 - mmdet - INFO - Evaluating bbox...\n"
          ]
        },
        {
          "output_type": "stream",
          "name": "stdout",
          "text": [
            "Loading and preparing results...\n",
            "DONE (t=0.23s)\n",
            "creating index...\n",
            "index created!\n",
            "Running per image evaluation...\n",
            "Evaluate annotation type *bbox*\n",
            "DONE (t=62.32s).\n",
            "Accumulating evaluation results...\n"
          ]
        },
        {
          "output_type": "stream",
          "name": "stderr",
          "text": [
            "2021-11-20 21:11:27,325 - mmdet - INFO - \n",
            " Average Precision  (AP) @[ IoU=0.50:0.95 | area=   all | maxDets=100 ] = 0.388\n",
            " Average Precision  (AP) @[ IoU=0.50      | area=   all | maxDets=1000 ] = 0.576\n",
            " Average Precision  (AP) @[ IoU=0.75      | area=   all | maxDets=1000 ] = 0.454\n",
            " Average Precision  (AP) @[ IoU=0.50:0.95 | area= small | maxDets=1000 ] = 0.134\n",
            " Average Precision  (AP) @[ IoU=0.50:0.95 | area=medium | maxDets=1000 ] = 0.188\n",
            " Average Precision  (AP) @[ IoU=0.50:0.95 | area= large | maxDets=1000 ] = 0.496\n",
            " Average Recall     (AR) @[ IoU=0.50:0.95 | area=   all | maxDets=100 ] = 0.418\n",
            " Average Recall     (AR) @[ IoU=0.50:0.95 | area=   all | maxDets=300 ] = 0.418\n",
            " Average Recall     (AR) @[ IoU=0.50:0.95 | area=   all | maxDets=1000 ] = 0.418\n",
            " Average Recall     (AR) @[ IoU=0.50:0.95 | area= small | maxDets=1000 ] = 0.176\n",
            " Average Recall     (AR) @[ IoU=0.50:0.95 | area=medium | maxDets=1000 ] = 0.221\n",
            " Average Recall     (AR) @[ IoU=0.50:0.95 | area= large | maxDets=1000 ] = 0.534\n",
            "\n",
            "2021-11-20 21:11:27,368 - mmdet - INFO - Epoch(val) [1][534]\tbbox_mAP: 0.3880, bbox_mAP_50: 0.5760, bbox_mAP_75: 0.4540, bbox_mAP_s: 0.1340, bbox_mAP_m: 0.1880, bbox_mAP_l: 0.4960, bbox_mAP_copypaste: 0.388 0.576 0.454 0.134 0.188 0.496\n"
          ]
        },
        {
          "output_type": "stream",
          "name": "stdout",
          "text": [
            "DONE (t=1.05s).\n"
          ]
        },
        {
          "output_type": "stream",
          "name": "stderr",
          "text": [
            "2021-11-20 21:12:02,162 - mmdet - INFO - Epoch [2][10/228]\tlr: 5.266e-05, eta: 4:36:08, time: 3.478, data_time: 0.376, memory: 12171, loss_cls: 0.4373, loss_bbox: 0.1889, loss_bbox_rf: 0.2493, loss: 0.8754\n",
            "2021-11-20 21:12:31,968 - mmdet - INFO - Epoch [2][20/228]\tlr: 5.446e-05, eta: 4:34:57, time: 2.981, data_time: 0.008, memory: 12171, loss_cls: 0.4599, loss_bbox: 0.2133, loss_bbox_rf: 0.2799, loss: 0.9531\n",
            "2021-11-20 21:13:05,763 - mmdet - INFO - Epoch [2][30/228]\tlr: 5.626e-05, eta: 4:35:10, time: 3.380, data_time: 0.008, memory: 12171, loss_cls: 0.4592, loss_bbox: 0.2462, loss_bbox_rf: 0.3241, loss: 1.0295\n",
            "2021-11-20 21:13:37,886 - mmdet - INFO - Epoch [2][40/228]\tlr: 5.806e-05, eta: 4:34:47, time: 3.212, data_time: 0.008, memory: 12171, loss_cls: 0.4386, loss_bbox: 0.2586, loss_bbox_rf: 0.3398, loss: 1.0371\n",
            "2021-11-20 21:14:14,196 - mmdet - INFO - Epoch [2][50/228]\tlr: 5.986e-05, eta: 4:35:42, time: 3.631, data_time: 0.009, memory: 12171, loss_cls: 0.4559, loss_bbox: 0.2558, loss_bbox_rf: 0.3384, loss: 1.0500\n",
            "2021-11-20 21:14:47,385 - mmdet - INFO - Epoch [2][60/228]\tlr: 6.166e-05, eta: 4:35:34, time: 3.319, data_time: 0.008, memory: 12171, loss_cls: 0.4339, loss_bbox: 0.1650, loss_bbox_rf: 0.2170, loss: 0.8159\n",
            "2021-11-20 21:15:22,792 - mmdet - INFO - Epoch [2][70/228]\tlr: 6.346e-05, eta: 4:36:04, time: 3.541, data_time: 0.008, memory: 12171, loss_cls: 0.4528, loss_bbox: 0.2350, loss_bbox_rf: 0.3113, loss: 0.9991\n",
            "2021-11-20 21:15:56,235 - mmdet - INFO - Epoch [2][80/228]\tlr: 6.526e-05, eta: 4:35:55, time: 3.344, data_time: 0.008, memory: 12171, loss_cls: 0.4401, loss_bbox: 0.2399, loss_bbox_rf: 0.3166, loss: 0.9966\n",
            "2021-11-20 21:16:27,844 - mmdet - INFO - Epoch [2][90/228]\tlr: 6.706e-05, eta: 4:35:16, time: 3.161, data_time: 0.008, memory: 12171, loss_cls: 0.4578, loss_bbox: 0.2569, loss_bbox_rf: 0.3392, loss: 1.0539\n",
            "2021-11-20 21:17:02,058 - mmdet - INFO - Epoch [2][100/228]\tlr: 6.886e-05, eta: 4:35:18, time: 3.421, data_time: 0.008, memory: 12171, loss_cls: 0.4505, loss_bbox: 0.2213, loss_bbox_rf: 0.2899, loss: 0.9616\n",
            "2021-11-20 21:17:34,356 - mmdet - INFO - Epoch [2][110/228]\tlr: 7.066e-05, eta: 4:34:49, time: 3.230, data_time: 0.008, memory: 12171, loss_cls: 0.4909, loss_bbox: 0.2750, loss_bbox_rf: 0.3640, loss: 1.1299\n",
            "2021-11-20 21:18:04,525 - mmdet - INFO - Epoch [2][120/228]\tlr: 7.246e-05, eta: 4:33:48, time: 3.017, data_time: 0.007, memory: 12171, loss_cls: 0.4618, loss_bbox: 0.2653, loss_bbox_rf: 0.3492, loss: 1.0763\n",
            "2021-11-20 21:18:37,612 - mmdet - INFO - Epoch [2][130/228]\tlr: 7.426e-05, eta: 4:33:31, time: 3.309, data_time: 0.008, memory: 12171, loss_cls: 0.4695, loss_bbox: 0.2342, loss_bbox_rf: 0.3095, loss: 1.0133\n",
            "2021-11-20 21:19:08,884 - mmdet - INFO - Epoch [2][140/228]\tlr: 7.606e-05, eta: 4:32:47, time: 3.127, data_time: 0.008, memory: 12171, loss_cls: 0.4716, loss_bbox: 0.2331, loss_bbox_rf: 0.3072, loss: 1.0118\n",
            "2021-11-20 21:19:41,987 - mmdet - INFO - Epoch [2][150/228]\tlr: 7.786e-05, eta: 4:32:29, time: 3.310, data_time: 0.009, memory: 12171, loss_cls: 0.4407, loss_bbox: 0.2119, loss_bbox_rf: 0.2775, loss: 0.9302\n",
            "2021-11-20 21:20:14,731 - mmdet - INFO - Epoch [2][160/228]\tlr: 7.966e-05, eta: 4:32:05, time: 3.274, data_time: 0.008, memory: 12171, loss_cls: 0.4893, loss_bbox: 0.2710, loss_bbox_rf: 0.3554, loss: 1.1157\n",
            "2021-11-20 21:20:45,947 - mmdet - INFO - Epoch [2][170/228]\tlr: 8.146e-05, eta: 4:31:22, time: 3.122, data_time: 0.008, memory: 12171, loss_cls: 0.4763, loss_bbox: 0.2367, loss_bbox_rf: 0.3083, loss: 1.0212\n",
            "2021-11-20 21:21:19,757 - mmdet - INFO - Epoch [2][180/228]\tlr: 8.326e-05, eta: 4:31:11, time: 3.381, data_time: 0.008, memory: 12171, loss_cls: 0.4943, loss_bbox: 0.2691, loss_bbox_rf: 0.3544, loss: 1.1179\n",
            "2021-11-20 21:21:51,741 - mmdet - INFO - Epoch [2][190/228]\tlr: 8.506e-05, eta: 4:30:37, time: 3.198, data_time: 0.008, memory: 12717, loss_cls: 0.4384, loss_bbox: 0.2863, loss_bbox_rf: 0.3790, loss: 1.1037\n",
            "2021-11-20 21:22:20,180 - mmdet - INFO - Epoch [2][200/228]\tlr: 8.686e-05, eta: 4:29:22, time: 2.844, data_time: 0.007, memory: 12717, loss_cls: 0.4591, loss_bbox: 0.2763, loss_bbox_rf: 0.3665, loss: 1.1020\n",
            "2021-11-20 21:22:54,369 - mmdet - INFO - Epoch [2][210/228]\tlr: 8.866e-05, eta: 4:29:14, time: 3.419, data_time: 0.009, memory: 12717, loss_cls: 0.4719, loss_bbox: 0.2438, loss_bbox_rf: 0.3224, loss: 1.0382\n",
            "2021-11-20 21:23:27,745 - mmdet - INFO - Epoch [2][220/228]\tlr: 9.046e-05, eta: 4:28:56, time: 3.338, data_time: 0.008, memory: 12717, loss_cls: 0.4332, loss_bbox: 0.2111, loss_bbox_rf: 0.2788, loss: 0.9232\n"
          ]
        },
        {
          "output_type": "stream",
          "name": "stdout",
          "text": [
            "[>>>>>>>>>>>>>>>>>>>>>>>>>>>>>] 534/534, 3.3 task/s, elapsed: 163s, ETA:     0s"
          ]
        },
        {
          "output_type": "stream",
          "name": "stderr",
          "text": [
            "2021-11-20 21:26:37,972 - mmdet - INFO - Evaluating bbox...\n"
          ]
        },
        {
          "output_type": "stream",
          "name": "stdout",
          "text": [
            "Loading and preparing results...\n",
            "DONE (t=0.05s)\n",
            "creating index...\n",
            "index created!\n",
            "Running per image evaluation...\n",
            "Evaluate annotation type *bbox*\n",
            "DONE (t=62.20s).\n",
            "Accumulating evaluation results...\n"
          ]
        },
        {
          "output_type": "stream",
          "name": "stderr",
          "text": [
            "2021-11-20 21:27:41,591 - mmdet - INFO - \n",
            " Average Precision  (AP) @[ IoU=0.50:0.95 | area=   all | maxDets=100 ] = 0.389\n",
            " Average Precision  (AP) @[ IoU=0.50      | area=   all | maxDets=1000 ] = 0.577\n",
            " Average Precision  (AP) @[ IoU=0.75      | area=   all | maxDets=1000 ] = 0.455\n",
            " Average Precision  (AP) @[ IoU=0.50:0.95 | area= small | maxDets=1000 ] = 0.134\n",
            " Average Precision  (AP) @[ IoU=0.50:0.95 | area=medium | maxDets=1000 ] = 0.188\n",
            " Average Precision  (AP) @[ IoU=0.50:0.95 | area= large | maxDets=1000 ] = 0.498\n",
            " Average Recall     (AR) @[ IoU=0.50:0.95 | area=   all | maxDets=100 ] = 0.419\n",
            " Average Recall     (AR) @[ IoU=0.50:0.95 | area=   all | maxDets=300 ] = 0.419\n",
            " Average Recall     (AR) @[ IoU=0.50:0.95 | area=   all | maxDets=1000 ] = 0.419\n",
            " Average Recall     (AR) @[ IoU=0.50:0.95 | area= small | maxDets=1000 ] = 0.177\n",
            " Average Recall     (AR) @[ IoU=0.50:0.95 | area=medium | maxDets=1000 ] = 0.221\n",
            " Average Recall     (AR) @[ IoU=0.50:0.95 | area= large | maxDets=1000 ] = 0.535\n",
            "\n",
            "2021-11-20 21:27:41,629 - mmdet - INFO - Epoch(val) [2][534]\tbbox_mAP: 0.3890, bbox_mAP_50: 0.5770, bbox_mAP_75: 0.4550, bbox_mAP_s: 0.1340, bbox_mAP_m: 0.1880, bbox_mAP_l: 0.4980, bbox_mAP_copypaste: 0.389 0.577 0.455 0.134 0.188 0.498\n"
          ]
        },
        {
          "output_type": "stream",
          "name": "stdout",
          "text": [
            "DONE (t=1.04s).\n"
          ]
        },
        {
          "output_type": "stream",
          "name": "stderr",
          "text": [
            "2021-11-20 21:28:16,705 - mmdet - INFO - Epoch [3][10/228]\tlr: 9.370e-05, eta: 4:23:54, time: 3.506, data_time: 0.390, memory: 12717, loss_cls: 0.4539, loss_bbox: 0.2310, loss_bbox_rf: 0.3051, loss: 0.9900\n",
            "2021-11-20 21:28:46,511 - mmdet - INFO - Epoch [3][20/228]\tlr: 9.550e-05, eta: 4:23:03, time: 2.981, data_time: 0.008, memory: 12717, loss_cls: 0.4434, loss_bbox: 0.2224, loss_bbox_rf: 0.2913, loss: 0.9570\n",
            "2021-11-20 21:29:20,266 - mmdet - INFO - Epoch [3][30/228]\tlr: 9.730e-05, eta: 4:22:54, time: 3.375, data_time: 0.008, memory: 12717, loss_cls: 0.4346, loss_bbox: 0.1814, loss_bbox_rf: 0.2406, loss: 0.8566\n",
            "2021-11-20 21:29:52,390 - mmdet - INFO - Epoch [3][40/228]\tlr: 9.910e-05, eta: 4:22:27, time: 3.212, data_time: 0.008, memory: 12717, loss_cls: 0.4457, loss_bbox: 0.2131, loss_bbox_rf: 0.2797, loss: 0.9385\n",
            "2021-11-20 21:30:28,661 - mmdet - INFO - Epoch [3][50/228]\tlr: 1.000e-04, eta: 4:22:41, time: 3.627, data_time: 0.008, memory: 12717, loss_cls: 0.4500, loss_bbox: 0.2061, loss_bbox_rf: 0.2719, loss: 0.9280\n",
            "2021-11-20 21:31:01,908 - mmdet - INFO - Epoch [3][60/228]\tlr: 1.000e-04, eta: 4:22:24, time: 3.325, data_time: 0.008, memory: 12717, loss_cls: 0.4846, loss_bbox: 0.2785, loss_bbox_rf: 0.3694, loss: 1.1325\n",
            "2021-11-20 21:31:37,158 - mmdet - INFO - Epoch [3][70/228]\tlr: 1.000e-04, eta: 4:22:25, time: 3.525, data_time: 0.008, memory: 12717, loss_cls: 0.4764, loss_bbox: 0.2776, loss_bbox_rf: 0.3647, loss: 1.1187\n",
            "2021-11-20 21:32:10,597 - mmdet - INFO - Epoch [3][80/228]\tlr: 1.000e-04, eta: 4:22:08, time: 3.344, data_time: 0.008, memory: 12717, loss_cls: 0.4420, loss_bbox: 0.2296, loss_bbox_rf: 0.3006, loss: 0.9721\n",
            "2021-11-20 21:32:42,352 - mmdet - INFO - Epoch [3][90/228]\tlr: 1.000e-04, eta: 4:21:35, time: 3.175, data_time: 0.008, memory: 12717, loss_cls: 0.4582, loss_bbox: 0.2072, loss_bbox_rf: 0.2745, loss: 0.9399\n",
            "2021-11-20 21:33:16,684 - mmdet - INFO - Epoch [3][100/228]\tlr: 1.000e-04, eta: 4:21:25, time: 3.433, data_time: 0.008, memory: 12717, loss_cls: 0.4440, loss_bbox: 0.2330, loss_bbox_rf: 0.3088, loss: 0.9858\n",
            "2021-11-20 21:33:49,044 - mmdet - INFO - Epoch [3][110/228]\tlr: 1.000e-04, eta: 4:20:57, time: 3.236, data_time: 0.008, memory: 12717, loss_cls: 0.4251, loss_bbox: 0.2432, loss_bbox_rf: 0.3198, loss: 0.9881\n",
            "2021-11-20 21:34:19,020 - mmdet - INFO - Epoch [3][120/228]\tlr: 1.000e-04, eta: 4:20:08, time: 2.998, data_time: 0.007, memory: 12717, loss_cls: 0.4566, loss_bbox: 0.2393, loss_bbox_rf: 0.3145, loss: 1.0104\n",
            "2021-11-20 21:34:51,764 - mmdet - INFO - Epoch [3][130/228]\tlr: 1.000e-04, eta: 4:19:44, time: 3.274, data_time: 0.008, memory: 12717, loss_cls: 0.4657, loss_bbox: 0.2849, loss_bbox_rf: 0.3763, loss: 1.1269\n",
            "2021-11-20 21:35:22,514 - mmdet - INFO - Epoch [3][140/228]\tlr: 1.000e-04, eta: 4:19:02, time: 3.075, data_time: 0.008, memory: 12717, loss_cls: 0.4728, loss_bbox: 0.2542, loss_bbox_rf: 0.3343, loss: 1.0612\n",
            "2021-11-20 21:35:55,736 - mmdet - INFO - Epoch [3][150/228]\tlr: 1.000e-04, eta: 4:18:41, time: 3.322, data_time: 0.008, memory: 12717, loss_cls: 0.4696, loss_bbox: 0.2187, loss_bbox_rf: 0.2857, loss: 0.9740\n",
            "2021-11-20 21:36:28,488 - mmdet - INFO - Epoch [3][160/228]\tlr: 1.000e-04, eta: 4:18:16, time: 3.275, data_time: 0.008, memory: 12717, loss_cls: 0.4698, loss_bbox: 0.2717, loss_bbox_rf: 0.3567, loss: 1.0982\n",
            "2021-11-20 21:36:59,439 - mmdet - INFO - Epoch [3][170/228]\tlr: 1.000e-04, eta: 4:17:37, time: 3.095, data_time: 0.007, memory: 12717, loss_cls: 0.4884, loss_bbox: 0.2124, loss_bbox_rf: 0.2794, loss: 0.9802\n",
            "2021-11-20 21:37:33,292 - mmdet - INFO - Epoch [3][180/228]\tlr: 1.000e-04, eta: 4:17:20, time: 3.385, data_time: 0.008, memory: 12717, loss_cls: 0.4541, loss_bbox: 0.2430, loss_bbox_rf: 0.3195, loss: 1.0165\n",
            "2021-11-20 21:38:04,951 - mmdet - INFO - Epoch [3][190/228]\tlr: 1.000e-04, eta: 4:16:46, time: 3.166, data_time: 0.008, memory: 12717, loss_cls: 0.4516, loss_bbox: 0.2096, loss_bbox_rf: 0.2773, loss: 0.9385\n",
            "2021-11-20 21:38:33,523 - mmdet - INFO - Epoch [3][200/228]\tlr: 1.000e-04, eta: 4:15:49, time: 2.857, data_time: 0.007, memory: 12717, loss_cls: 0.4890, loss_bbox: 0.2639, loss_bbox_rf: 0.3463, loss: 1.0993\n",
            "2021-11-20 21:39:07,466 - mmdet - INFO - Epoch [3][210/228]\tlr: 1.000e-04, eta: 4:15:32, time: 3.394, data_time: 0.008, memory: 12717, loss_cls: 0.4207, loss_bbox: 0.2014, loss_bbox_rf: 0.2664, loss: 0.8885\n",
            "2021-11-20 21:39:41,017 - mmdet - INFO - Epoch [3][220/228]\tlr: 1.000e-04, eta: 4:15:12, time: 3.355, data_time: 0.008, memory: 12717, loss_cls: 0.4882, loss_bbox: 0.2799, loss_bbox_rf: 0.3700, loss: 1.1382\n",
            "2021-11-20 21:40:06,867 - mmdet - INFO - Saving checkpoint at 3 epochs\n"
          ]
        },
        {
          "output_type": "stream",
          "name": "stdout",
          "text": [
            "[>>>>>>>>>>>>>>>>>>>>>>>>>>>>>] 534/534, 3.3 task/s, elapsed: 164s, ETA:     0s"
          ]
        },
        {
          "output_type": "stream",
          "name": "stderr",
          "text": [
            "2021-11-20 21:42:55,858 - mmdet - INFO - Evaluating bbox...\n"
          ]
        },
        {
          "output_type": "stream",
          "name": "stdout",
          "text": [
            "Loading and preparing results...\n",
            "DONE (t=0.05s)\n",
            "creating index...\n",
            "index created!\n",
            "Running per image evaluation...\n",
            "Evaluate annotation type *bbox*\n",
            "DONE (t=60.33s).\n",
            "Accumulating evaluation results...\n"
          ]
        },
        {
          "output_type": "stream",
          "name": "stderr",
          "text": [
            "2021-11-20 21:43:57,585 - mmdet - INFO - \n",
            " Average Precision  (AP) @[ IoU=0.50:0.95 | area=   all | maxDets=100 ] = 0.390\n",
            " Average Precision  (AP) @[ IoU=0.50      | area=   all | maxDets=1000 ] = 0.581\n",
            " Average Precision  (AP) @[ IoU=0.75      | area=   all | maxDets=1000 ] = 0.456\n",
            " Average Precision  (AP) @[ IoU=0.50:0.95 | area= small | maxDets=1000 ] = 0.132\n",
            " Average Precision  (AP) @[ IoU=0.50:0.95 | area=medium | maxDets=1000 ] = 0.188\n",
            " Average Precision  (AP) @[ IoU=0.50:0.95 | area= large | maxDets=1000 ] = 0.502\n",
            " Average Recall     (AR) @[ IoU=0.50:0.95 | area=   all | maxDets=100 ] = 0.420\n",
            " Average Recall     (AR) @[ IoU=0.50:0.95 | area=   all | maxDets=300 ] = 0.420\n",
            " Average Recall     (AR) @[ IoU=0.50:0.95 | area=   all | maxDets=1000 ] = 0.420\n",
            " Average Recall     (AR) @[ IoU=0.50:0.95 | area= small | maxDets=1000 ] = 0.174\n",
            " Average Recall     (AR) @[ IoU=0.50:0.95 | area=medium | maxDets=1000 ] = 0.221\n",
            " Average Recall     (AR) @[ IoU=0.50:0.95 | area= large | maxDets=1000 ] = 0.538\n",
            "\n",
            "2021-11-20 21:43:57,623 - mmdet - INFO - Epoch(val) [3][534]\tbbox_mAP: 0.3900, bbox_mAP_50: 0.5810, bbox_mAP_75: 0.4560, bbox_mAP_s: 0.1320, bbox_mAP_m: 0.1880, bbox_mAP_l: 0.5020, bbox_mAP_copypaste: 0.390 0.581 0.456 0.132 0.188 0.502\n"
          ]
        },
        {
          "output_type": "stream",
          "name": "stdout",
          "text": [
            "DONE (t=1.05s).\n"
          ]
        },
        {
          "output_type": "stream",
          "name": "stderr",
          "text": [
            "2021-11-20 21:44:32,726 - mmdet - INFO - Epoch [4][10/228]\tlr: 1.000e-04, eta: 4:11:41, time: 3.509, data_time: 0.383, memory: 12717, loss_cls: 0.4706, loss_bbox: 0.2454, loss_bbox_rf: 0.3209, loss: 1.0369\n",
            "2021-11-20 21:45:02,492 - mmdet - INFO - Epoch [4][20/228]\tlr: 1.000e-04, eta: 4:10:57, time: 2.977, data_time: 0.008, memory: 12717, loss_cls: 0.4618, loss_bbox: 0.2107, loss_bbox_rf: 0.2766, loss: 0.9491\n",
            "2021-11-20 21:45:36,322 - mmdet - INFO - Epoch [4][30/228]\tlr: 1.000e-04, eta: 4:10:40, time: 3.383, data_time: 0.008, memory: 12717, loss_cls: 0.4690, loss_bbox: 0.2577, loss_bbox_rf: 0.3401, loss: 1.0669\n",
            "2021-11-20 21:46:08,945 - mmdet - INFO - Epoch [4][40/228]\tlr: 1.000e-04, eta: 4:10:15, time: 3.262, data_time: 0.008, memory: 12717, loss_cls: 0.4601, loss_bbox: 0.2339, loss_bbox_rf: 0.3070, loss: 1.0011\n",
            "2021-11-20 21:46:45,195 - mmdet - INFO - Epoch [4][50/228]\tlr: 1.000e-04, eta: 4:10:13, time: 3.625, data_time: 0.008, memory: 12717, loss_cls: 0.4767, loss_bbox: 0.2556, loss_bbox_rf: 0.3362, loss: 1.0685\n",
            "2021-11-20 21:47:18,542 - mmdet - INFO - Epoch [4][60/228]\tlr: 1.000e-04, eta: 4:09:52, time: 3.335, data_time: 0.008, memory: 12717, loss_cls: 0.4892, loss_bbox: 0.2444, loss_bbox_rf: 0.3229, loss: 1.0565\n",
            "2021-11-20 21:47:53,599 - mmdet - INFO - Epoch [4][70/228]\tlr: 1.000e-04, eta: 4:09:41, time: 3.506, data_time: 0.008, memory: 12717, loss_cls: 0.3517, loss_bbox: 0.1797, loss_bbox_rf: 0.2371, loss: 0.7685\n",
            "2021-11-20 21:48:27,045 - mmdet - INFO - Epoch [4][80/228]\tlr: 1.000e-04, eta: 4:09:20, time: 3.344, data_time: 0.008, memory: 12717, loss_cls: 0.4719, loss_bbox: 0.2476, loss_bbox_rf: 0.3266, loss: 1.0461\n",
            "2021-11-20 21:48:58,657 - mmdet - INFO - Epoch [4][90/228]\tlr: 1.000e-04, eta: 4:08:47, time: 3.161, data_time: 0.008, memory: 12717, loss_cls: 0.4243, loss_bbox: 0.2057, loss_bbox_rf: 0.2727, loss: 0.9027\n",
            "2021-11-20 21:49:32,711 - mmdet - INFO - Epoch [4][100/228]\tlr: 1.000e-04, eta: 4:08:29, time: 3.405, data_time: 0.008, memory: 12717, loss_cls: 0.4475, loss_bbox: 0.2235, loss_bbox_rf: 0.2957, loss: 0.9666\n",
            "2021-11-20 21:50:05,001 - mmdet - INFO - Epoch [4][110/228]\tlr: 1.000e-04, eta: 4:08:00, time: 3.229, data_time: 0.008, memory: 12717, loss_cls: 0.5019, loss_bbox: 0.2396, loss_bbox_rf: 0.3134, loss: 1.0549\n",
            "2021-11-20 21:50:35,417 - mmdet - INFO - Epoch [4][120/228]\tlr: 1.000e-04, eta: 4:07:20, time: 3.042, data_time: 0.007, memory: 12717, loss_cls: 0.4611, loss_bbox: 0.2337, loss_bbox_rf: 0.3061, loss: 1.0008\n",
            "2021-11-20 21:51:08,581 - mmdet - INFO - Epoch [4][130/228]\tlr: 1.000e-04, eta: 4:06:56, time: 3.316, data_time: 0.008, memory: 12717, loss_cls: 0.4434, loss_bbox: 0.2569, loss_bbox_rf: 0.3378, loss: 1.0380\n",
            "2021-11-20 21:51:39,247 - mmdet - INFO - Epoch [4][140/228]\tlr: 1.000e-04, eta: 4:06:18, time: 3.067, data_time: 0.008, memory: 12717, loss_cls: 0.4675, loss_bbox: 0.2537, loss_bbox_rf: 0.3341, loss: 1.0553\n",
            "2021-11-20 21:52:12,548 - mmdet - INFO - Epoch [4][150/228]\tlr: 1.000e-04, eta: 4:05:55, time: 3.330, data_time: 0.008, memory: 12717, loss_cls: 0.4257, loss_bbox: 0.2238, loss_bbox_rf: 0.2961, loss: 0.9456\n",
            "2021-11-20 21:52:45,261 - mmdet - INFO - Epoch [4][160/228]\tlr: 1.000e-04, eta: 4:05:28, time: 3.271, data_time: 0.007, memory: 12717, loss_cls: 0.4611, loss_bbox: 0.2497, loss_bbox_rf: 0.3293, loss: 1.0401\n",
            "2021-11-20 21:53:16,745 - mmdet - INFO - Epoch [4][170/228]\tlr: 1.000e-04, eta: 4:04:54, time: 3.148, data_time: 0.007, memory: 12717, loss_cls: 0.4734, loss_bbox: 0.2618, loss_bbox_rf: 0.3439, loss: 1.0791\n",
            "2021-11-20 21:53:50,293 - mmdet - INFO - Epoch [4][180/228]\tlr: 1.000e-04, eta: 4:04:31, time: 3.355, data_time: 0.008, memory: 12717, loss_cls: 0.4682, loss_bbox: 0.2886, loss_bbox_rf: 0.3805, loss: 1.1373\n",
            "2021-11-20 21:54:21,955 - mmdet - INFO - Epoch [4][190/228]\tlr: 1.000e-04, eta: 4:03:59, time: 3.166, data_time: 0.007, memory: 12717, loss_cls: 0.4561, loss_bbox: 0.2666, loss_bbox_rf: 0.3516, loss: 1.0743\n",
            "2021-11-20 21:54:50,481 - mmdet - INFO - Epoch [4][200/228]\tlr: 1.000e-04, eta: 4:03:10, time: 2.853, data_time: 0.007, memory: 12717, loss_cls: 0.4549, loss_bbox: 0.1984, loss_bbox_rf: 0.2619, loss: 0.9152\n",
            "2021-11-20 21:55:24,359 - mmdet - INFO - Epoch [4][210/228]\tlr: 1.000e-04, eta: 4:02:48, time: 3.388, data_time: 0.008, memory: 12717, loss_cls: 0.4482, loss_bbox: 0.2492, loss_bbox_rf: 0.3288, loss: 1.0262\n",
            "2021-11-20 21:55:57,541 - mmdet - INFO - Epoch [4][220/228]\tlr: 1.000e-04, eta: 4:02:24, time: 3.318, data_time: 0.008, memory: 12717, loss_cls: 0.4609, loss_bbox: 0.2705, loss_bbox_rf: 0.3564, loss: 1.0878\n"
          ]
        },
        {
          "output_type": "stream",
          "name": "stdout",
          "text": [
            "[>>>>>>>>>>>>>>>>>>>>>>>>>>>>>] 534/534, 3.3 task/s, elapsed: 163s, ETA:     0s"
          ]
        },
        {
          "output_type": "stream",
          "name": "stderr",
          "text": [
            "2021-11-20 21:59:07,620 - mmdet - INFO - Evaluating bbox...\n"
          ]
        },
        {
          "output_type": "stream",
          "name": "stdout",
          "text": [
            "Loading and preparing results...\n",
            "DONE (t=0.22s)\n",
            "creating index...\n",
            "index created!\n",
            "Running per image evaluation...\n",
            "Evaluate annotation type *bbox*\n",
            "DONE (t=61.18s).\n",
            "Accumulating evaluation results...\n"
          ]
        },
        {
          "output_type": "stream",
          "name": "stderr",
          "text": [
            "2021-11-20 22:00:10,131 - mmdet - INFO - \n",
            " Average Precision  (AP) @[ IoU=0.50:0.95 | area=   all | maxDets=100 ] = 0.387\n",
            " Average Precision  (AP) @[ IoU=0.50      | area=   all | maxDets=1000 ] = 0.576\n",
            " Average Precision  (AP) @[ IoU=0.75      | area=   all | maxDets=1000 ] = 0.451\n",
            " Average Precision  (AP) @[ IoU=0.50:0.95 | area= small | maxDets=1000 ] = 0.136\n",
            " Average Precision  (AP) @[ IoU=0.50:0.95 | area=medium | maxDets=1000 ] = 0.187\n",
            " Average Precision  (AP) @[ IoU=0.50:0.95 | area= large | maxDets=1000 ] = 0.495\n",
            " Average Recall     (AR) @[ IoU=0.50:0.95 | area=   all | maxDets=100 ] = 0.417\n",
            " Average Recall     (AR) @[ IoU=0.50:0.95 | area=   all | maxDets=300 ] = 0.417\n",
            " Average Recall     (AR) @[ IoU=0.50:0.95 | area=   all | maxDets=1000 ] = 0.417\n",
            " Average Recall     (AR) @[ IoU=0.50:0.95 | area= small | maxDets=1000 ] = 0.179\n",
            " Average Recall     (AR) @[ IoU=0.50:0.95 | area=medium | maxDets=1000 ] = 0.220\n",
            " Average Recall     (AR) @[ IoU=0.50:0.95 | area= large | maxDets=1000 ] = 0.532\n",
            "\n",
            "2021-11-20 22:00:10,167 - mmdet - INFO - Epoch(val) [4][534]\tbbox_mAP: 0.3870, bbox_mAP_50: 0.5760, bbox_mAP_75: 0.4510, bbox_mAP_s: 0.1360, bbox_mAP_m: 0.1870, bbox_mAP_l: 0.4950, bbox_mAP_copypaste: 0.387 0.576 0.451 0.136 0.187 0.495\n"
          ]
        },
        {
          "output_type": "stream",
          "name": "stdout",
          "text": [
            "DONE (t=0.98s).\n"
          ]
        },
        {
          "output_type": "stream",
          "name": "stderr",
          "text": [
            "2021-11-20 22:00:45,698 - mmdet - INFO - Epoch [5][10/228]\tlr: 1.000e-04, eta: 3:59:39, time: 3.551, data_time: 0.390, memory: 12717, loss_cls: 0.4630, loss_bbox: 0.2266, loss_bbox_rf: 0.3002, loss: 0.9898\n",
            "2021-11-20 22:01:15,490 - mmdet - INFO - Epoch [5][20/228]\tlr: 1.000e-04, eta: 3:58:58, time: 2.979, data_time: 0.008, memory: 12717, loss_cls: 0.4735, loss_bbox: 0.2553, loss_bbox_rf: 0.3369, loss: 1.0657\n",
            "2021-11-20 22:01:49,253 - mmdet - INFO - Epoch [5][30/228]\tlr: 1.000e-04, eta: 3:58:37, time: 3.376, data_time: 0.008, memory: 12717, loss_cls: 0.4256, loss_bbox: 0.2196, loss_bbox_rf: 0.2876, loss: 0.9327\n",
            "2021-11-20 22:02:21,584 - mmdet - INFO - Epoch [5][40/228]\tlr: 1.000e-04, eta: 3:58:09, time: 3.233, data_time: 0.007, memory: 12717, loss_cls: 0.4437, loss_bbox: 0.2463, loss_bbox_rf: 0.3240, loss: 1.0141\n",
            "2021-11-20 22:02:57,792 - mmdet - INFO - Epoch [5][50/228]\tlr: 1.000e-04, eta: 3:57:59, time: 3.621, data_time: 0.008, memory: 12717, loss_cls: 0.5155, loss_bbox: 0.2557, loss_bbox_rf: 0.3355, loss: 1.1067\n",
            "2021-11-20 22:03:31,258 - mmdet - INFO - Epoch [5][60/228]\tlr: 1.000e-04, eta: 3:57:36, time: 3.347, data_time: 0.008, memory: 12717, loss_cls: 0.4660, loss_bbox: 0.2472, loss_bbox_rf: 0.3250, loss: 1.0383\n",
            "2021-11-20 22:04:06,606 - mmdet - INFO - Epoch [5][70/228]\tlr: 1.000e-04, eta: 3:57:21, time: 3.535, data_time: 0.008, memory: 12717, loss_cls: 0.4423, loss_bbox: 0.2746, loss_bbox_rf: 0.3630, loss: 1.0799\n",
            "2021-11-20 22:04:40,009 - mmdet - INFO - Epoch [5][80/228]\tlr: 1.000e-04, eta: 3:56:57, time: 3.340, data_time: 0.008, memory: 12717, loss_cls: 0.4437, loss_bbox: 0.2217, loss_bbox_rf: 0.2931, loss: 0.9585\n",
            "2021-11-20 22:05:11,630 - mmdet - INFO - Epoch [5][90/228]\tlr: 1.000e-04, eta: 3:56:24, time: 3.162, data_time: 0.007, memory: 12717, loss_cls: 0.4485, loss_bbox: 0.2598, loss_bbox_rf: 0.3421, loss: 1.0504\n",
            "2021-11-20 22:05:45,958 - mmdet - INFO - Epoch [5][100/228]\tlr: 1.000e-04, eta: 3:56:04, time: 3.433, data_time: 0.008, memory: 12717, loss_cls: 0.4943, loss_bbox: 0.2742, loss_bbox_rf: 0.3611, loss: 1.1297\n",
            "2021-11-20 22:06:18,295 - mmdet - INFO - Epoch [5][110/228]\tlr: 1.000e-04, eta: 3:55:35, time: 3.234, data_time: 0.008, memory: 12717, loss_cls: 0.4374, loss_bbox: 0.2248, loss_bbox_rf: 0.2950, loss: 0.9572\n",
            "2021-11-20 22:06:48,466 - mmdet - INFO - Epoch [5][120/228]\tlr: 1.000e-04, eta: 3:54:56, time: 3.017, data_time: 0.007, memory: 12717, loss_cls: 0.4480, loss_bbox: 0.2180, loss_bbox_rf: 0.2863, loss: 0.9523\n",
            "2021-11-20 22:07:20,921 - mmdet - INFO - Epoch [5][130/228]\tlr: 1.000e-04, eta: 3:54:27, time: 3.246, data_time: 0.008, memory: 12717, loss_cls: 0.4428, loss_bbox: 0.2446, loss_bbox_rf: 0.3232, loss: 1.0106\n",
            "2021-11-20 22:07:51,679 - mmdet - INFO - Epoch [5][140/228]\tlr: 1.000e-04, eta: 3:53:51, time: 3.076, data_time: 0.007, memory: 12717, loss_cls: 0.4499, loss_bbox: 0.2522, loss_bbox_rf: 0.3334, loss: 1.0355\n",
            "2021-11-20 22:08:24,806 - mmdet - INFO - Epoch [5][150/228]\tlr: 1.000e-04, eta: 3:53:25, time: 3.313, data_time: 0.008, memory: 12717, loss_cls: 0.4753, loss_bbox: 0.2982, loss_bbox_rf: 0.3947, loss: 1.1683\n",
            "2021-11-20 22:08:57,488 - mmdet - INFO - Epoch [5][160/228]\tlr: 1.000e-04, eta: 3:52:57, time: 3.268, data_time: 0.008, memory: 12717, loss_cls: 0.4653, loss_bbox: 0.2235, loss_bbox_rf: 0.2934, loss: 0.9822\n",
            "2021-11-20 22:09:28,648 - mmdet - INFO - Epoch [5][170/228]\tlr: 1.000e-04, eta: 3:52:23, time: 3.116, data_time: 0.007, memory: 12717, loss_cls: 0.4599, loss_bbox: 0.2568, loss_bbox_rf: 0.3399, loss: 1.0565\n",
            "2021-11-20 22:10:02,245 - mmdet - INFO - Epoch [5][180/228]\tlr: 1.000e-04, eta: 3:51:59, time: 3.360, data_time: 0.008, memory: 12717, loss_cls: 0.4547, loss_bbox: 0.2088, loss_bbox_rf: 0.2732, loss: 0.9366\n",
            "2021-11-20 22:10:33,987 - mmdet - INFO - Epoch [5][190/228]\tlr: 1.000e-04, eta: 3:51:27, time: 3.174, data_time: 0.008, memory: 12717, loss_cls: 0.4548, loss_bbox: 0.2158, loss_bbox_rf: 0.2850, loss: 0.9555\n",
            "2021-11-20 22:11:02,511 - mmdet - INFO - Epoch [5][200/228]\tlr: 1.000e-04, eta: 3:50:42, time: 2.852, data_time: 0.007, memory: 12717, loss_cls: 0.4779, loss_bbox: 0.2520, loss_bbox_rf: 0.3324, loss: 1.0622\n",
            "2021-11-20 22:11:36,721 - mmdet - INFO - Epoch [5][210/228]\tlr: 1.000e-04, eta: 3:50:20, time: 3.421, data_time: 0.008, memory: 12717, loss_cls: 0.4875, loss_bbox: 0.2661, loss_bbox_rf: 0.3514, loss: 1.1051\n",
            "2021-11-20 22:12:09,380 - mmdet - INFO - Epoch [5][220/228]\tlr: 1.000e-04, eta: 3:49:52, time: 3.266, data_time: 0.008, memory: 12717, loss_cls: 0.4815, loss_bbox: 0.2582, loss_bbox_rf: 0.3409, loss: 1.0806\n"
          ]
        },
        {
          "output_type": "stream",
          "name": "stdout",
          "text": [
            "[>>>>>>>>>>>>>>>>>>>>>>>>>>>>>] 534/534, 3.3 task/s, elapsed: 162s, ETA:     0s"
          ]
        },
        {
          "output_type": "stream",
          "name": "stderr",
          "text": [
            "2021-11-20 22:15:18,257 - mmdet - INFO - Evaluating bbox...\n"
          ]
        },
        {
          "output_type": "stream",
          "name": "stdout",
          "text": [
            "Loading and preparing results...\n",
            "DONE (t=0.04s)\n",
            "creating index...\n",
            "index created!\n",
            "Running per image evaluation...\n",
            "Evaluate annotation type *bbox*\n",
            "DONE (t=60.52s).\n",
            "Accumulating evaluation results...\n"
          ]
        },
        {
          "output_type": "stream",
          "name": "stderr",
          "text": [
            "2021-11-20 22:16:20,119 - mmdet - INFO - \n",
            " Average Precision  (AP) @[ IoU=0.50:0.95 | area=   all | maxDets=100 ] = 0.391\n",
            " Average Precision  (AP) @[ IoU=0.50      | area=   all | maxDets=1000 ] = 0.581\n",
            " Average Precision  (AP) @[ IoU=0.75      | area=   all | maxDets=1000 ] = 0.456\n",
            " Average Precision  (AP) @[ IoU=0.50:0.95 | area= small | maxDets=1000 ] = 0.136\n",
            " Average Precision  (AP) @[ IoU=0.50:0.95 | area=medium | maxDets=1000 ] = 0.189\n",
            " Average Precision  (AP) @[ IoU=0.50:0.95 | area= large | maxDets=1000 ] = 0.501\n",
            " Average Recall     (AR) @[ IoU=0.50:0.95 | area=   all | maxDets=100 ] = 0.421\n",
            " Average Recall     (AR) @[ IoU=0.50:0.95 | area=   all | maxDets=300 ] = 0.421\n",
            " Average Recall     (AR) @[ IoU=0.50:0.95 | area=   all | maxDets=1000 ] = 0.421\n",
            " Average Recall     (AR) @[ IoU=0.50:0.95 | area= small | maxDets=1000 ] = 0.175\n",
            " Average Recall     (AR) @[ IoU=0.50:0.95 | area=medium | maxDets=1000 ] = 0.222\n",
            " Average Recall     (AR) @[ IoU=0.50:0.95 | area= large | maxDets=1000 ] = 0.538\n",
            "\n",
            "2021-11-20 22:16:20,153 - mmdet - INFO - Epoch(val) [5][534]\tbbox_mAP: 0.3910, bbox_mAP_50: 0.5810, bbox_mAP_75: 0.4560, bbox_mAP_s: 0.1360, bbox_mAP_m: 0.1890, bbox_mAP_l: 0.5010, bbox_mAP_copypaste: 0.391 0.581 0.456 0.136 0.189 0.501\n"
          ]
        },
        {
          "output_type": "stream",
          "name": "stdout",
          "text": [
            "DONE (t=0.99s).\n"
          ]
        },
        {
          "output_type": "stream",
          "name": "stderr",
          "text": [
            "2021-11-20 22:16:54,925 - mmdet - INFO - Epoch [6][10/228]\tlr: 1.000e-04, eta: 3:47:30, time: 3.476, data_time: 0.392, memory: 12717, loss_cls: 0.4822, loss_bbox: 0.2493, loss_bbox_rf: 0.3293, loss: 1.0608\n",
            "2021-11-20 22:17:24,711 - mmdet - INFO - Epoch [6][20/228]\tlr: 1.000e-04, eta: 3:46:52, time: 2.979, data_time: 0.008, memory: 12717, loss_cls: 0.4682, loss_bbox: 0.2502, loss_bbox_rf: 0.3287, loss: 1.0471\n",
            "2021-11-20 22:17:58,483 - mmdet - INFO - Epoch [6][30/228]\tlr: 1.000e-04, eta: 3:46:28, time: 3.377, data_time: 0.008, memory: 12717, loss_cls: 0.4319, loss_bbox: 0.2214, loss_bbox_rf: 0.2924, loss: 0.9457\n",
            "2021-11-20 22:18:30,714 - mmdet - INFO - Epoch [6][40/228]\tlr: 1.000e-04, eta: 3:45:59, time: 3.223, data_time: 0.008, memory: 12717, loss_cls: 0.4887, loss_bbox: 0.2834, loss_bbox_rf: 0.3741, loss: 1.1462\n",
            "2021-11-20 22:19:06,658 - mmdet - INFO - Epoch [6][50/228]\tlr: 1.000e-04, eta: 3:45:43, time: 3.594, data_time: 0.008, memory: 12717, loss_cls: 0.4409, loss_bbox: 0.2203, loss_bbox_rf: 0.2895, loss: 0.9508\n",
            "2021-11-20 22:19:39,919 - mmdet - INFO - Epoch [6][60/228]\tlr: 1.000e-04, eta: 3:45:17, time: 3.326, data_time: 0.008, memory: 12717, loss_cls: 0.4787, loss_bbox: 0.2448, loss_bbox_rf: 0.3231, loss: 1.0466\n",
            "2021-11-20 22:20:15,257 - mmdet - INFO - Epoch [6][70/228]\tlr: 1.000e-04, eta: 3:44:59, time: 3.534, data_time: 0.008, memory: 12717, loss_cls: 0.4445, loss_bbox: 0.2218, loss_bbox_rf: 0.2930, loss: 0.9594\n",
            "2021-11-20 22:20:48,658 - mmdet - INFO - Epoch [6][80/228]\tlr: 1.000e-04, eta: 3:44:33, time: 3.340, data_time: 0.008, memory: 12717, loss_cls: 0.4513, loss_bbox: 0.1975, loss_bbox_rf: 0.2601, loss: 0.9089\n",
            "2021-11-20 22:21:20,256 - mmdet - INFO - Epoch [6][90/228]\tlr: 1.000e-04, eta: 3:44:01, time: 3.160, data_time: 0.008, memory: 12717, loss_cls: 0.4752, loss_bbox: 0.2270, loss_bbox_rf: 0.2981, loss: 1.0003\n",
            "2021-11-20 22:21:54,554 - mmdet - INFO - Epoch [6][100/228]\tlr: 1.000e-04, eta: 3:43:38, time: 3.430, data_time: 0.007, memory: 12717, loss_cls: 0.4335, loss_bbox: 0.2302, loss_bbox_rf: 0.3065, loss: 0.9702\n",
            "2021-11-20 22:22:27,233 - mmdet - INFO - Epoch [6][110/228]\tlr: 1.000e-04, eta: 3:43:10, time: 3.268, data_time: 0.008, memory: 12717, loss_cls: 0.4655, loss_bbox: 0.2407, loss_bbox_rf: 0.3181, loss: 1.0243\n",
            "2021-11-20 22:22:57,363 - mmdet - INFO - Epoch [6][120/228]\tlr: 1.000e-04, eta: 3:42:33, time: 3.013, data_time: 0.007, memory: 12717, loss_cls: 0.4925, loss_bbox: 0.2666, loss_bbox_rf: 0.3483, loss: 1.1074\n",
            "2021-11-20 22:23:30,093 - mmdet - INFO - Epoch [6][130/228]\tlr: 1.000e-04, eta: 3:42:05, time: 3.273, data_time: 0.007, memory: 12717, loss_cls: 0.4643, loss_bbox: 0.2443, loss_bbox_rf: 0.3200, loss: 1.0286\n",
            "2021-11-20 22:24:00,548 - mmdet - INFO - Epoch [6][140/228]\tlr: 1.000e-04, eta: 3:41:29, time: 3.046, data_time: 0.007, memory: 12717, loss_cls: 0.4230, loss_bbox: 0.1981, loss_bbox_rf: 0.2593, loss: 0.8805\n",
            "2021-11-20 22:24:34,257 - mmdet - INFO - Epoch [6][150/228]\tlr: 1.000e-04, eta: 3:41:04, time: 3.371, data_time: 0.008, memory: 12717, loss_cls: 0.4153, loss_bbox: 0.2175, loss_bbox_rf: 0.2835, loss: 0.9163\n",
            "2021-11-20 22:25:06,641 - mmdet - INFO - Epoch [6][160/228]\tlr: 1.000e-04, eta: 3:40:34, time: 3.238, data_time: 0.008, memory: 12717, loss_cls: 0.4431, loss_bbox: 0.2084, loss_bbox_rf: 0.2731, loss: 0.9246\n",
            "2021-11-20 22:25:37,474 - mmdet - INFO - Epoch [6][170/228]\tlr: 1.000e-04, eta: 3:40:00, time: 3.083, data_time: 0.007, memory: 12717, loss_cls: 0.4446, loss_bbox: 0.2290, loss_bbox_rf: 0.2997, loss: 0.9733\n",
            "2021-11-20 22:26:11,388 - mmdet - INFO - Epoch [6][180/228]\tlr: 1.000e-04, eta: 3:39:35, time: 3.391, data_time: 0.008, memory: 12717, loss_cls: 0.4596, loss_bbox: 0.2600, loss_bbox_rf: 0.3420, loss: 1.0616\n",
            "2021-11-20 22:26:43,326 - mmdet - INFO - Epoch [6][190/228]\tlr: 1.000e-04, eta: 3:39:04, time: 3.194, data_time: 0.007, memory: 12717, loss_cls: 0.4517, loss_bbox: 0.2698, loss_bbox_rf: 0.3550, loss: 1.0765\n",
            "2021-11-20 22:27:11,853 - mmdet - INFO - Epoch [6][200/228]\tlr: 1.000e-04, eta: 3:38:22, time: 2.853, data_time: 0.007, memory: 12717, loss_cls: 0.4440, loss_bbox: 0.2496, loss_bbox_rf: 0.3276, loss: 1.0212\n",
            "2021-11-20 22:27:45,837 - mmdet - INFO - Epoch [6][210/228]\tlr: 1.000e-04, eta: 3:37:57, time: 3.398, data_time: 0.008, memory: 12717, loss_cls: 0.5104, loss_bbox: 0.3339, loss_bbox_rf: 0.4416, loss: 1.2859\n",
            "2021-11-20 22:28:19,016 - mmdet - INFO - Epoch [6][220/228]\tlr: 1.000e-04, eta: 3:37:30, time: 3.318, data_time: 0.008, memory: 12717, loss_cls: 0.4646, loss_bbox: 0.2589, loss_bbox_rf: 0.3449, loss: 1.0684\n",
            "2021-11-20 22:28:45,260 - mmdet - INFO - Saving checkpoint at 6 epochs\n"
          ]
        },
        {
          "output_type": "stream",
          "name": "stdout",
          "text": [
            "[>>>>>>>>>>>>>>>>>>>>>>>>>>>>>] 534/534, 3.3 task/s, elapsed: 162s, ETA:     0s"
          ]
        },
        {
          "output_type": "stream",
          "name": "stderr",
          "text": [
            "2021-11-20 22:31:32,956 - mmdet - INFO - Evaluating bbox...\n"
          ]
        },
        {
          "output_type": "stream",
          "name": "stdout",
          "text": [
            "Loading and preparing results...\n",
            "DONE (t=0.23s)\n",
            "creating index...\n",
            "index created!\n",
            "Running per image evaluation...\n",
            "Evaluate annotation type *bbox*\n",
            "DONE (t=60.47s).\n",
            "Accumulating evaluation results...\n"
          ]
        },
        {
          "output_type": "stream",
          "name": "stderr",
          "text": [
            "2021-11-20 22:32:34,765 - mmdet - INFO - \n",
            " Average Precision  (AP) @[ IoU=0.50:0.95 | area=   all | maxDets=100 ] = 0.394\n",
            " Average Precision  (AP) @[ IoU=0.50      | area=   all | maxDets=1000 ] = 0.589\n",
            " Average Precision  (AP) @[ IoU=0.75      | area=   all | maxDets=1000 ] = 0.459\n",
            " Average Precision  (AP) @[ IoU=0.50:0.95 | area= small | maxDets=1000 ] = 0.134\n",
            " Average Precision  (AP) @[ IoU=0.50:0.95 | area=medium | maxDets=1000 ] = 0.191\n",
            " Average Precision  (AP) @[ IoU=0.50:0.95 | area= large | maxDets=1000 ] = 0.507\n",
            " Average Recall     (AR) @[ IoU=0.50:0.95 | area=   all | maxDets=100 ] = 0.425\n",
            " Average Recall     (AR) @[ IoU=0.50:0.95 | area=   all | maxDets=300 ] = 0.425\n",
            " Average Recall     (AR) @[ IoU=0.50:0.95 | area=   all | maxDets=1000 ] = 0.425\n",
            " Average Recall     (AR) @[ IoU=0.50:0.95 | area= small | maxDets=1000 ] = 0.175\n",
            " Average Recall     (AR) @[ IoU=0.50:0.95 | area=medium | maxDets=1000 ] = 0.226\n",
            " Average Recall     (AR) @[ IoU=0.50:0.95 | area= large | maxDets=1000 ] = 0.545\n",
            "\n",
            "2021-11-20 22:32:34,801 - mmdet - INFO - Epoch(val) [6][534]\tbbox_mAP: 0.3940, bbox_mAP_50: 0.5890, bbox_mAP_75: 0.4590, bbox_mAP_s: 0.1340, bbox_mAP_m: 0.1910, bbox_mAP_l: 0.5070, bbox_mAP_copypaste: 0.394 0.589 0.459 0.134 0.191 0.507\n"
          ]
        },
        {
          "output_type": "stream",
          "name": "stdout",
          "text": [
            "DONE (t=0.99s).\n"
          ]
        },
        {
          "output_type": "stream",
          "name": "stderr",
          "text": [
            "2021-11-20 22:33:10,267 - mmdet - INFO - Epoch [7][10/228]\tlr: 1.000e-04, eta: 3:35:28, time: 3.545, data_time: 0.409, memory: 12717, loss_cls: 0.4514, loss_bbox: 0.2436, loss_bbox_rf: 0.3189, loss: 1.0139\n",
            "2021-11-20 22:33:40,179 - mmdet - INFO - Epoch [7][20/228]\tlr: 1.000e-04, eta: 3:34:52, time: 2.991, data_time: 0.008, memory: 12717, loss_cls: 0.4545, loss_bbox: 0.2382, loss_bbox_rf: 0.3143, loss: 1.0070\n",
            "2021-11-20 22:34:13,558 - mmdet - INFO - Epoch [7][30/228]\tlr: 1.000e-04, eta: 3:34:26, time: 3.338, data_time: 0.008, memory: 12717, loss_cls: 0.4593, loss_bbox: 0.2034, loss_bbox_rf: 0.2678, loss: 0.9306\n",
            "2021-11-20 22:34:45,822 - mmdet - INFO - Epoch [7][40/228]\tlr: 1.000e-04, eta: 3:33:56, time: 3.226, data_time: 0.008, memory: 12717, loss_cls: 0.4870, loss_bbox: 0.2414, loss_bbox_rf: 0.3189, loss: 1.0473\n",
            "2021-11-20 22:35:22,097 - mmdet - INFO - Epoch [7][50/228]\tlr: 1.000e-04, eta: 3:33:38, time: 3.627, data_time: 0.008, memory: 12717, loss_cls: 0.4517, loss_bbox: 0.2451, loss_bbox_rf: 0.3239, loss: 1.0207\n",
            "2021-11-20 22:35:54,988 - mmdet - INFO - Epoch [7][60/228]\tlr: 1.000e-04, eta: 3:33:10, time: 3.289, data_time: 0.008, memory: 12717, loss_cls: 0.4666, loss_bbox: 0.2917, loss_bbox_rf: 0.3848, loss: 1.1430\n",
            "2021-11-20 22:36:30,296 - mmdet - INFO - Epoch [7][70/228]\tlr: 1.000e-04, eta: 3:32:48, time: 3.531, data_time: 0.008, memory: 12717, loss_cls: 0.4477, loss_bbox: 0.2193, loss_bbox_rf: 0.2888, loss: 0.9558\n",
            "2021-11-20 22:37:03,236 - mmdet - INFO - Epoch [7][80/228]\tlr: 1.000e-04, eta: 3:32:20, time: 3.294, data_time: 0.008, memory: 12717, loss_cls: 0.4301, loss_bbox: 0.2108, loss_bbox_rf: 0.2773, loss: 0.9182\n",
            "2021-11-20 22:37:34,866 - mmdet - INFO - Epoch [7][90/228]\tlr: 1.000e-04, eta: 3:31:49, time: 3.163, data_time: 0.008, memory: 12717, loss_cls: 0.4569, loss_bbox: 0.2551, loss_bbox_rf: 0.3368, loss: 1.0488\n",
            "2021-11-20 22:38:08,986 - mmdet - INFO - Epoch [7][100/228]\tlr: 1.000e-04, eta: 3:31:24, time: 3.412, data_time: 0.008, memory: 12717, loss_cls: 0.4358, loss_bbox: 0.2312, loss_bbox_rf: 0.3037, loss: 0.9707\n",
            "2021-11-20 22:38:41,575 - mmdet - INFO - Epoch [7][110/228]\tlr: 1.000e-04, eta: 3:30:54, time: 3.259, data_time: 0.008, memory: 12717, loss_cls: 0.4346, loss_bbox: 0.2214, loss_bbox_rf: 0.2908, loss: 0.9469\n",
            "2021-11-20 22:39:12,175 - mmdet - INFO - Epoch [7][120/228]\tlr: 1.000e-04, eta: 3:30:20, time: 3.060, data_time: 0.007, memory: 12717, loss_cls: 0.4434, loss_bbox: 0.2338, loss_bbox_rf: 0.3072, loss: 0.9844\n",
            "2021-11-20 22:39:44,884 - mmdet - INFO - Epoch [7][130/228]\tlr: 1.000e-04, eta: 3:29:51, time: 3.271, data_time: 0.008, memory: 12717, loss_cls: 0.4516, loss_bbox: 0.2172, loss_bbox_rf: 0.2851, loss: 0.9539\n",
            "2021-11-20 22:40:15,664 - mmdet - INFO - Epoch [7][140/228]\tlr: 1.000e-04, eta: 3:29:17, time: 3.078, data_time: 0.007, memory: 12717, loss_cls: 0.4712, loss_bbox: 0.2836, loss_bbox_rf: 0.3744, loss: 1.1292\n",
            "2021-11-20 22:40:48,617 - mmdet - INFO - Epoch [7][150/228]\tlr: 1.000e-04, eta: 3:28:49, time: 3.295, data_time: 0.008, memory: 12717, loss_cls: 0.4404, loss_bbox: 0.2212, loss_bbox_rf: 0.2902, loss: 0.9518\n",
            "2021-11-20 22:41:21,297 - mmdet - INFO - Epoch [7][160/228]\tlr: 1.000e-04, eta: 3:28:19, time: 3.268, data_time: 0.008, memory: 12717, loss_cls: 0.4830, loss_bbox: 0.2588, loss_bbox_rf: 0.3399, loss: 1.0817\n",
            "2021-11-20 22:41:52,313 - mmdet - INFO - Epoch [7][170/228]\tlr: 1.000e-04, eta: 3:27:46, time: 3.102, data_time: 0.007, memory: 12717, loss_cls: 0.4457, loss_bbox: 0.2217, loss_bbox_rf: 0.2908, loss: 0.9581\n",
            "2021-11-20 22:42:26,090 - mmdet - INFO - Epoch [7][180/228]\tlr: 1.000e-04, eta: 3:27:20, time: 3.378, data_time: 0.008, memory: 12717, loss_cls: 0.4648, loss_bbox: 0.2729, loss_bbox_rf: 0.3593, loss: 1.0969\n",
            "2021-11-20 22:42:57,750 - mmdet - INFO - Epoch [7][190/228]\tlr: 1.000e-04, eta: 3:26:48, time: 3.166, data_time: 0.008, memory: 12717, loss_cls: 0.4075, loss_bbox: 0.2510, loss_bbox_rf: 0.3302, loss: 0.9886\n",
            "2021-11-20 22:43:26,518 - mmdet - INFO - Epoch [7][200/228]\tlr: 1.000e-04, eta: 3:26:09, time: 2.877, data_time: 0.007, memory: 12717, loss_cls: 0.4687, loss_bbox: 0.2772, loss_bbox_rf: 0.3665, loss: 1.1125\n",
            "2021-11-20 22:44:00,699 - mmdet - INFO - Epoch [7][210/228]\tlr: 1.000e-04, eta: 3:25:43, time: 3.418, data_time: 0.008, memory: 12717, loss_cls: 0.4360, loss_bbox: 0.1899, loss_bbox_rf: 0.2487, loss: 0.8746\n",
            "2021-11-20 22:44:34,224 - mmdet - INFO - Epoch [7][220/228]\tlr: 1.000e-04, eta: 3:25:16, time: 3.352, data_time: 0.008, memory: 12717, loss_cls: 0.4619, loss_bbox: 0.2398, loss_bbox_rf: 0.3153, loss: 1.0171\n"
          ]
        },
        {
          "output_type": "stream",
          "name": "stdout",
          "text": [
            "[>>>>>>>>>>>>>>>>>>>>>>>>>>>>>] 534/534, 3.3 task/s, elapsed: 162s, ETA:     0s"
          ]
        },
        {
          "output_type": "stream",
          "name": "stderr",
          "text": [
            "2021-11-20 22:47:43,457 - mmdet - INFO - Evaluating bbox...\n"
          ]
        },
        {
          "output_type": "stream",
          "name": "stdout",
          "text": [
            "Loading and preparing results...\n",
            "DONE (t=0.23s)\n",
            "creating index...\n",
            "index created!\n",
            "Running per image evaluation...\n",
            "Evaluate annotation type *bbox*\n",
            "DONE (t=61.21s).\n",
            "Accumulating evaluation results...\n"
          ]
        },
        {
          "output_type": "stream",
          "name": "stderr",
          "text": [
            "2021-11-20 22:48:46,009 - mmdet - INFO - \n",
            " Average Precision  (AP) @[ IoU=0.50:0.95 | area=   all | maxDets=100 ] = 0.394\n",
            " Average Precision  (AP) @[ IoU=0.50      | area=   all | maxDets=1000 ] = 0.585\n",
            " Average Precision  (AP) @[ IoU=0.75      | area=   all | maxDets=1000 ] = 0.460\n",
            " Average Precision  (AP) @[ IoU=0.50:0.95 | area= small | maxDets=1000 ] = 0.136\n",
            " Average Precision  (AP) @[ IoU=0.50:0.95 | area=medium | maxDets=1000 ] = 0.189\n",
            " Average Precision  (AP) @[ IoU=0.50:0.95 | area= large | maxDets=1000 ] = 0.506\n",
            " Average Recall     (AR) @[ IoU=0.50:0.95 | area=   all | maxDets=100 ] = 0.423\n",
            " Average Recall     (AR) @[ IoU=0.50:0.95 | area=   all | maxDets=300 ] = 0.423\n",
            " Average Recall     (AR) @[ IoU=0.50:0.95 | area=   all | maxDets=1000 ] = 0.423\n",
            " Average Recall     (AR) @[ IoU=0.50:0.95 | area= small | maxDets=1000 ] = 0.179\n",
            " Average Recall     (AR) @[ IoU=0.50:0.95 | area=medium | maxDets=1000 ] = 0.223\n",
            " Average Recall     (AR) @[ IoU=0.50:0.95 | area= large | maxDets=1000 ] = 0.544\n",
            "\n",
            "2021-11-20 22:48:46,045 - mmdet - INFO - Epoch(val) [7][534]\tbbox_mAP: 0.3940, bbox_mAP_50: 0.5850, bbox_mAP_75: 0.4600, bbox_mAP_s: 0.1360, bbox_mAP_m: 0.1890, bbox_mAP_l: 0.5060, bbox_mAP_copypaste: 0.394 0.585 0.460 0.136 0.189 0.506\n"
          ]
        },
        {
          "output_type": "stream",
          "name": "stdout",
          "text": [
            "DONE (t=0.99s).\n"
          ]
        },
        {
          "output_type": "stream",
          "name": "stderr",
          "text": [
            "2021-11-20 22:49:21,031 - mmdet - INFO - Epoch [8][10/228]\tlr: 1.000e-04, eta: 3:23:26, time: 3.497, data_time: 0.389, memory: 12717, loss_cls: 0.4769, loss_bbox: 0.2667, loss_bbox_rf: 0.3512, loss: 1.0948\n",
            "2021-11-20 22:49:50,790 - mmdet - INFO - Epoch [8][20/228]\tlr: 1.000e-04, eta: 3:22:50, time: 2.976, data_time: 0.008, memory: 12717, loss_cls: 0.4578, loss_bbox: 0.2253, loss_bbox_rf: 0.2979, loss: 0.9811\n",
            "2021-11-20 22:50:24,533 - mmdet - INFO - Epoch [8][30/228]\tlr: 1.000e-04, eta: 3:22:23, time: 3.374, data_time: 0.008, memory: 12717, loss_cls: 0.4370, loss_bbox: 0.2203, loss_bbox_rf: 0.2911, loss: 0.9484\n",
            "2021-11-20 22:50:57,316 - mmdet - INFO - Epoch [8][40/228]\tlr: 1.000e-04, eta: 3:21:55, time: 3.278, data_time: 0.008, memory: 12717, loss_cls: 0.4590, loss_bbox: 0.2433, loss_bbox_rf: 0.3195, loss: 1.0219\n",
            "2021-11-20 22:51:33,147 - mmdet - INFO - Epoch [8][50/228]\tlr: 1.000e-04, eta: 3:21:33, time: 3.583, data_time: 0.008, memory: 12717, loss_cls: 0.4428, loss_bbox: 0.2256, loss_bbox_rf: 0.2983, loss: 0.9667\n",
            "2021-11-20 22:52:06,339 - mmdet - INFO - Epoch [8][60/228]\tlr: 1.000e-04, eta: 3:21:05, time: 3.319, data_time: 0.008, memory: 12717, loss_cls: 0.4456, loss_bbox: 0.2227, loss_bbox_rf: 0.2933, loss: 0.9615\n",
            "2021-11-20 22:52:41,698 - mmdet - INFO - Epoch [8][70/228]\tlr: 1.000e-04, eta: 3:20:42, time: 3.536, data_time: 0.008, memory: 12717, loss_cls: 0.4738, loss_bbox: 0.2936, loss_bbox_rf: 0.3870, loss: 1.1544\n",
            "2021-11-20 22:53:15,120 - mmdet - INFO - Epoch [8][80/228]\tlr: 1.000e-04, eta: 3:20:14, time: 3.342, data_time: 0.008, memory: 12717, loss_cls: 0.4697, loss_bbox: 0.2254, loss_bbox_rf: 0.2980, loss: 0.9930\n",
            "2021-11-20 22:53:46,698 - mmdet - INFO - Epoch [8][90/228]\tlr: 1.000e-04, eta: 3:19:42, time: 3.158, data_time: 0.008, memory: 12717, loss_cls: 0.4301, loss_bbox: 0.1984, loss_bbox_rf: 0.2597, loss: 0.8882\n",
            "2021-11-20 22:54:21,343 - mmdet - INFO - Epoch [8][100/228]\tlr: 1.000e-04, eta: 3:19:18, time: 3.465, data_time: 0.008, memory: 12717, loss_cls: 0.4421, loss_bbox: 0.2392, loss_bbox_rf: 0.3139, loss: 0.9952\n",
            "2021-11-20 22:54:53,709 - mmdet - INFO - Epoch [8][110/228]\tlr: 1.000e-04, eta: 3:18:47, time: 3.236, data_time: 0.008, memory: 12717, loss_cls: 0.4729, loss_bbox: 0.2631, loss_bbox_rf: 0.3465, loss: 1.0826\n",
            "2021-11-20 22:55:24,311 - mmdet - INFO - Epoch [8][120/228]\tlr: 1.000e-04, eta: 3:18:13, time: 3.060, data_time: 0.007, memory: 12717, loss_cls: 0.4416, loss_bbox: 0.2504, loss_bbox_rf: 0.3315, loss: 1.0235\n",
            "2021-11-20 22:55:56,686 - mmdet - INFO - Epoch [8][130/228]\tlr: 1.000e-04, eta: 3:17:43, time: 3.238, data_time: 0.008, memory: 12717, loss_cls: 0.4630, loss_bbox: 0.2347, loss_bbox_rf: 0.3075, loss: 1.0052\n",
            "2021-11-20 22:56:26,870 - mmdet - INFO - Epoch [8][140/228]\tlr: 1.000e-04, eta: 3:17:08, time: 3.018, data_time: 0.007, memory: 12717, loss_cls: 0.4276, loss_bbox: 0.1882, loss_bbox_rf: 0.2495, loss: 0.8654\n",
            "2021-11-20 22:57:00,035 - mmdet - INFO - Epoch [8][150/228]\tlr: 1.000e-04, eta: 3:16:40, time: 3.316, data_time: 0.008, memory: 12717, loss_cls: 0.4429, loss_bbox: 0.2554, loss_bbox_rf: 0.3358, loss: 1.0341\n",
            "2021-11-20 22:57:32,542 - mmdet - INFO - Epoch [8][160/228]\tlr: 1.000e-04, eta: 3:16:10, time: 3.251, data_time: 0.008, memory: 12717, loss_cls: 0.4489, loss_bbox: 0.2649, loss_bbox_rf: 0.3467, loss: 1.0605\n",
            "2021-11-20 22:58:03,716 - mmdet - INFO - Epoch [8][170/228]\tlr: 1.000e-04, eta: 3:15:37, time: 3.118, data_time: 0.007, memory: 12717, loss_cls: 0.4672, loss_bbox: 0.2320, loss_bbox_rf: 0.3064, loss: 1.0056\n",
            "2021-11-20 22:58:37,510 - mmdet - INFO - Epoch [8][180/228]\tlr: 1.000e-04, eta: 3:15:10, time: 3.379, data_time: 0.008, memory: 12717, loss_cls: 0.4468, loss_bbox: 0.2258, loss_bbox_rf: 0.2977, loss: 0.9703\n",
            "2021-11-20 22:59:09,002 - mmdet - INFO - Epoch [8][190/228]\tlr: 1.000e-04, eta: 3:14:38, time: 3.149, data_time: 0.008, memory: 12717, loss_cls: 0.4590, loss_bbox: 0.2598, loss_bbox_rf: 0.3418, loss: 1.0605\n",
            "2021-11-20 22:59:37,527 - mmdet - INFO - Epoch [8][200/228]\tlr: 1.000e-04, eta: 3:14:00, time: 2.853, data_time: 0.007, memory: 12717, loss_cls: 0.4490, loss_bbox: 0.2513, loss_bbox_rf: 0.3298, loss: 1.0301\n",
            "2021-11-20 23:00:11,712 - mmdet - INFO - Epoch [8][210/228]\tlr: 1.000e-04, eta: 3:13:33, time: 3.418, data_time: 0.008, memory: 12717, loss_cls: 0.4580, loss_bbox: 0.2250, loss_bbox_rf: 0.2977, loss: 0.9808\n",
            "2021-11-20 23:00:44,807 - mmdet - INFO - Epoch [8][220/228]\tlr: 1.000e-04, eta: 3:13:04, time: 3.309, data_time: 0.008, memory: 12717, loss_cls: 0.4749, loss_bbox: 0.2635, loss_bbox_rf: 0.3478, loss: 1.0863\n"
          ]
        },
        {
          "output_type": "stream",
          "name": "stdout",
          "text": [
            "[>>>>>>>>>>>>>>>>>>>>>>>>>>>>>] 534/534, 3.3 task/s, elapsed: 162s, ETA:     0s"
          ]
        },
        {
          "output_type": "stream",
          "name": "stderr",
          "text": [
            "2021-11-20 23:03:53,640 - mmdet - INFO - Evaluating bbox...\n"
          ]
        },
        {
          "output_type": "stream",
          "name": "stdout",
          "text": [
            "Loading and preparing results...\n",
            "DONE (t=0.04s)\n",
            "creating index...\n",
            "index created!\n",
            "Running per image evaluation...\n",
            "Evaluate annotation type *bbox*\n",
            "DONE (t=62.17s).\n",
            "Accumulating evaluation results...\n"
          ]
        },
        {
          "output_type": "stream",
          "name": "stderr",
          "text": [
            "2021-11-20 23:04:57,373 - mmdet - INFO - \n",
            " Average Precision  (AP) @[ IoU=0.50:0.95 | area=   all | maxDets=100 ] = 0.390\n",
            " Average Precision  (AP) @[ IoU=0.50      | area=   all | maxDets=1000 ] = 0.578\n",
            " Average Precision  (AP) @[ IoU=0.75      | area=   all | maxDets=1000 ] = 0.456\n",
            " Average Precision  (AP) @[ IoU=0.50:0.95 | area= small | maxDets=1000 ] = 0.139\n",
            " Average Precision  (AP) @[ IoU=0.50:0.95 | area=medium | maxDets=1000 ] = 0.190\n",
            " Average Precision  (AP) @[ IoU=0.50:0.95 | area= large | maxDets=1000 ] = 0.501\n",
            " Average Recall     (AR) @[ IoU=0.50:0.95 | area=   all | maxDets=100 ] = 0.420\n",
            " Average Recall     (AR) @[ IoU=0.50:0.95 | area=   all | maxDets=300 ] = 0.420\n",
            " Average Recall     (AR) @[ IoU=0.50:0.95 | area=   all | maxDets=1000 ] = 0.420\n",
            " Average Recall     (AR) @[ IoU=0.50:0.95 | area= small | maxDets=1000 ] = 0.183\n",
            " Average Recall     (AR) @[ IoU=0.50:0.95 | area=medium | maxDets=1000 ] = 0.223\n",
            " Average Recall     (AR) @[ IoU=0.50:0.95 | area= large | maxDets=1000 ] = 0.538\n",
            "\n",
            "2021-11-20 23:04:57,408 - mmdet - INFO - Epoch(val) [8][534]\tbbox_mAP: 0.3900, bbox_mAP_50: 0.5780, bbox_mAP_75: 0.4560, bbox_mAP_s: 0.1390, bbox_mAP_m: 0.1900, bbox_mAP_l: 0.5010, bbox_mAP_copypaste: 0.390 0.578 0.456 0.139 0.190 0.501\n"
          ]
        },
        {
          "output_type": "stream",
          "name": "stdout",
          "text": [
            "DONE (t=1.21s).\n"
          ]
        },
        {
          "output_type": "stream",
          "name": "stderr",
          "text": [
            "2021-11-20 23:05:32,338 - mmdet - INFO - Epoch [9][10/228]\tlr: 1.000e-04, eta: 3:11:23, time: 3.492, data_time: 0.387, memory: 12717, loss_cls: 0.4783, loss_bbox: 0.2431, loss_bbox_rf: 0.3209, loss: 1.0424\n",
            "2021-11-20 23:06:02,637 - mmdet - INFO - Epoch [9][20/228]\tlr: 1.000e-04, eta: 3:10:49, time: 3.030, data_time: 0.008, memory: 12717, loss_cls: 0.4780, loss_bbox: 0.2850, loss_bbox_rf: 0.3771, loss: 1.1401\n",
            "2021-11-20 23:06:36,468 - mmdet - INFO - Epoch [9][30/228]\tlr: 1.000e-04, eta: 3:10:22, time: 3.383, data_time: 0.008, memory: 12717, loss_cls: 0.4654, loss_bbox: 0.2253, loss_bbox_rf: 0.2971, loss: 0.9878\n",
            "2021-11-20 23:07:08,772 - mmdet - INFO - Epoch [9][40/228]\tlr: 1.000e-04, eta: 3:09:52, time: 3.230, data_time: 0.008, memory: 12717, loss_cls: 0.4679, loss_bbox: 0.1939, loss_bbox_rf: 0.2536, loss: 0.9153\n",
            "2021-11-20 23:07:45,032 - mmdet - INFO - Epoch [9][50/228]\tlr: 1.000e-04, eta: 3:09:30, time: 3.626, data_time: 0.008, memory: 12717, loss_cls: 0.4706, loss_bbox: 0.2447, loss_bbox_rf: 0.3232, loss: 1.0385\n",
            "2021-11-20 23:08:18,306 - mmdet - INFO - Epoch [9][60/228]\tlr: 1.000e-04, eta: 3:09:01, time: 3.327, data_time: 0.008, memory: 12717, loss_cls: 0.4621, loss_bbox: 0.2250, loss_bbox_rf: 0.2971, loss: 0.9842\n",
            "2021-11-20 23:08:53,764 - mmdet - INFO - Epoch [9][70/228]\tlr: 1.000e-04, eta: 3:08:37, time: 3.546, data_time: 0.008, memory: 12717, loss_cls: 0.4610, loss_bbox: 0.2417, loss_bbox_rf: 0.3170, loss: 1.0198\n",
            "2021-11-20 23:09:26,979 - mmdet - INFO - Epoch [9][80/228]\tlr: 1.000e-04, eta: 3:08:08, time: 3.321, data_time: 0.008, memory: 12717, loss_cls: 0.5022, loss_bbox: 0.2854, loss_bbox_rf: 0.3752, loss: 1.1628\n",
            "2021-11-20 23:09:58,583 - mmdet - INFO - Epoch [9][90/228]\tlr: 1.000e-04, eta: 3:07:36, time: 3.160, data_time: 0.007, memory: 12717, loss_cls: 0.4496, loss_bbox: 0.2419, loss_bbox_rf: 0.3203, loss: 1.0118\n",
            "2021-11-20 23:10:32,866 - mmdet - INFO - Epoch [9][100/228]\tlr: 1.000e-04, eta: 3:07:10, time: 3.428, data_time: 0.008, memory: 12717, loss_cls: 0.4263, loss_bbox: 0.2065, loss_bbox_rf: 0.2728, loss: 0.9056\n",
            "2021-11-20 23:11:05,178 - mmdet - INFO - Epoch [9][110/228]\tlr: 1.000e-04, eta: 3:06:39, time: 3.231, data_time: 0.008, memory: 12717, loss_cls: 0.4361, loss_bbox: 0.2788, loss_bbox_rf: 0.3678, loss: 1.0827\n",
            "2021-11-20 23:11:35,597 - mmdet - INFO - Epoch [9][120/228]\tlr: 1.000e-04, eta: 3:06:05, time: 3.042, data_time: 0.007, memory: 12717, loss_cls: 0.5080, loss_bbox: 0.2951, loss_bbox_rf: 0.3893, loss: 1.1925\n",
            "2021-11-20 23:12:08,811 - mmdet - INFO - Epoch [9][130/228]\tlr: 1.000e-04, eta: 3:05:37, time: 3.321, data_time: 0.008, memory: 12717, loss_cls: 0.4469, loss_bbox: 0.2270, loss_bbox_rf: 0.3004, loss: 0.9742\n",
            "2021-11-20 23:12:39,535 - mmdet - INFO - Epoch [9][140/228]\tlr: 1.000e-04, eta: 3:05:03, time: 3.072, data_time: 0.007, memory: 12717, loss_cls: 0.4405, loss_bbox: 0.2161, loss_bbox_rf: 0.2851, loss: 0.9416\n",
            "2021-11-20 23:13:12,426 - mmdet - INFO - Epoch [9][150/228]\tlr: 1.000e-04, eta: 3:04:34, time: 3.289, data_time: 0.008, memory: 12717, loss_cls: 0.4514, loss_bbox: 0.2632, loss_bbox_rf: 0.3460, loss: 1.0607\n",
            "2021-11-20 23:13:45,218 - mmdet - INFO - Epoch [9][160/228]\tlr: 1.000e-04, eta: 3:04:04, time: 3.279, data_time: 0.008, memory: 12717, loss_cls: 0.4445, loss_bbox: 0.2841, loss_bbox_rf: 0.3743, loss: 1.1029\n",
            "2021-11-20 23:14:16,418 - mmdet - INFO - Epoch [9][170/228]\tlr: 1.000e-04, eta: 3:03:32, time: 3.120, data_time: 0.008, memory: 12717, loss_cls: 0.4695, loss_bbox: 0.2184, loss_bbox_rf: 0.2871, loss: 0.9749\n",
            "2021-11-20 23:14:50,143 - mmdet - INFO - Epoch [9][180/228]\tlr: 1.000e-04, eta: 3:03:03, time: 3.372, data_time: 0.008, memory: 12717, loss_cls: 0.4867, loss_bbox: 0.2145, loss_bbox_rf: 0.2820, loss: 0.9832\n",
            "2021-11-20 23:15:22,339 - mmdet - INFO - Epoch [9][190/228]\tlr: 1.000e-04, eta: 3:02:33, time: 3.220, data_time: 0.008, memory: 12717, loss_cls: 0.4510, loss_bbox: 0.2590, loss_bbox_rf: 0.3382, loss: 1.0481\n",
            "2021-11-20 23:15:50,966 - mmdet - INFO - Epoch [9][200/228]\tlr: 1.000e-04, eta: 3:01:56, time: 2.863, data_time: 0.007, memory: 12717, loss_cls: 0.3856, loss_bbox: 0.1758, loss_bbox_rf: 0.2305, loss: 0.7919\n",
            "2021-11-20 23:16:25,166 - mmdet - INFO - Epoch [9][210/228]\tlr: 1.000e-04, eta: 3:01:28, time: 3.420, data_time: 0.008, memory: 12717, loss_cls: 0.4380, loss_bbox: 0.2234, loss_bbox_rf: 0.2954, loss: 0.9569\n",
            "2021-11-20 23:16:58,088 - mmdet - INFO - Epoch [9][220/228]\tlr: 1.000e-04, eta: 3:00:59, time: 3.292, data_time: 0.008, memory: 12717, loss_cls: 0.4419, loss_bbox: 0.2202, loss_bbox_rf: 0.2894, loss: 0.9514\n",
            "2021-11-20 23:17:23,950 - mmdet - INFO - Saving checkpoint at 9 epochs\n"
          ]
        },
        {
          "output_type": "stream",
          "name": "stdout",
          "text": [
            "[>>>>>>>>>>>>>>>>>>>>>>>>>>>>>] 534/534, 3.3 task/s, elapsed: 163s, ETA:     0s"
          ]
        },
        {
          "output_type": "stream",
          "name": "stderr",
          "text": [
            "2021-11-20 23:20:11,808 - mmdet - INFO - Evaluating bbox...\n"
          ]
        },
        {
          "output_type": "stream",
          "name": "stdout",
          "text": [
            "Loading and preparing results...\n",
            "DONE (t=0.24s)\n",
            "creating index...\n",
            "index created!\n",
            "Running per image evaluation...\n",
            "Evaluate annotation type *bbox*\n",
            "DONE (t=61.02s).\n",
            "Accumulating evaluation results...\n"
          ]
        },
        {
          "output_type": "stream",
          "name": "stderr",
          "text": [
            "2021-11-20 23:21:14,190 - mmdet - INFO - \n",
            " Average Precision  (AP) @[ IoU=0.50:0.95 | area=   all | maxDets=100 ] = 0.393\n",
            " Average Precision  (AP) @[ IoU=0.50      | area=   all | maxDets=1000 ] = 0.583\n",
            " Average Precision  (AP) @[ IoU=0.75      | area=   all | maxDets=1000 ] = 0.461\n",
            " Average Precision  (AP) @[ IoU=0.50:0.95 | area= small | maxDets=1000 ] = 0.137\n",
            " Average Precision  (AP) @[ IoU=0.50:0.95 | area=medium | maxDets=1000 ] = 0.190\n",
            " Average Precision  (AP) @[ IoU=0.50:0.95 | area= large | maxDets=1000 ] = 0.506\n",
            " Average Recall     (AR) @[ IoU=0.50:0.95 | area=   all | maxDets=100 ] = 0.423\n",
            " Average Recall     (AR) @[ IoU=0.50:0.95 | area=   all | maxDets=300 ] = 0.423\n",
            " Average Recall     (AR) @[ IoU=0.50:0.95 | area=   all | maxDets=1000 ] = 0.423\n",
            " Average Recall     (AR) @[ IoU=0.50:0.95 | area= small | maxDets=1000 ] = 0.178\n",
            " Average Recall     (AR) @[ IoU=0.50:0.95 | area=medium | maxDets=1000 ] = 0.222\n",
            " Average Recall     (AR) @[ IoU=0.50:0.95 | area= large | maxDets=1000 ] = 0.543\n",
            "\n",
            "2021-11-20 23:21:14,224 - mmdet - INFO - Epoch(val) [9][534]\tbbox_mAP: 0.3930, bbox_mAP_50: 0.5830, bbox_mAP_75: 0.4610, bbox_mAP_s: 0.1370, bbox_mAP_m: 0.1900, bbox_mAP_l: 0.5060, bbox_mAP_copypaste: 0.393 0.583 0.461 0.137 0.190 0.506\n"
          ]
        },
        {
          "output_type": "stream",
          "name": "stdout",
          "text": [
            "DONE (t=1.00s).\n"
          ]
        },
        {
          "output_type": "stream",
          "name": "stderr",
          "text": [
            "2021-11-20 23:21:48,999 - mmdet - INFO - Epoch [10][10/228]\tlr: 1.000e-04, eta: 2:59:25, time: 3.476, data_time: 0.334, memory: 12717, loss_cls: 0.4801, loss_bbox: 0.2541, loss_bbox_rf: 0.3331, loss: 1.0673\n",
            "2021-11-20 23:22:18,778 - mmdet - INFO - Epoch [10][20/228]\tlr: 1.000e-04, eta: 2:58:51, time: 2.978, data_time: 0.008, memory: 12717, loss_cls: 0.4655, loss_bbox: 0.2389, loss_bbox_rf: 0.3144, loss: 1.0189\n",
            "2021-11-20 23:22:52,372 - mmdet - INFO - Epoch [10][30/228]\tlr: 1.000e-04, eta: 2:58:22, time: 3.359, data_time: 0.008, memory: 12717, loss_cls: 0.4605, loss_bbox: 0.2558, loss_bbox_rf: 0.3376, loss: 1.0540\n",
            "2021-11-20 23:23:24,463 - mmdet - INFO - Epoch [10][40/228]\tlr: 1.000e-04, eta: 2:57:52, time: 3.209, data_time: 0.008, memory: 12717, loss_cls: 0.4533, loss_bbox: 0.2381, loss_bbox_rf: 0.3140, loss: 1.0053\n",
            "2021-11-20 23:24:00,729 - mmdet - INFO - Epoch [10][50/228]\tlr: 1.000e-04, eta: 2:57:28, time: 3.627, data_time: 0.008, memory: 12717, loss_cls: 0.4414, loss_bbox: 0.2458, loss_bbox_rf: 0.3242, loss: 1.0114\n",
            "2021-11-20 23:24:34,013 - mmdet - INFO - Epoch [10][60/228]\tlr: 1.000e-04, eta: 2:56:59, time: 3.328, data_time: 0.008, memory: 12717, loss_cls: 0.4452, loss_bbox: 0.2597, loss_bbox_rf: 0.3406, loss: 1.0454\n",
            "2021-11-20 23:25:09,390 - mmdet - INFO - Epoch [10][70/228]\tlr: 1.000e-04, eta: 2:56:33, time: 3.538, data_time: 0.008, memory: 12717, loss_cls: 0.4332, loss_bbox: 0.2091, loss_bbox_rf: 0.2760, loss: 0.9183\n",
            "2021-11-20 23:25:42,840 - mmdet - INFO - Epoch [10][80/228]\tlr: 1.000e-04, eta: 2:56:04, time: 3.345, data_time: 0.008, memory: 12717, loss_cls: 0.4355, loss_bbox: 0.2180, loss_bbox_rf: 0.2871, loss: 0.9405\n",
            "2021-11-20 23:26:14,419 - mmdet - INFO - Epoch [10][90/228]\tlr: 1.000e-04, eta: 2:55:32, time: 3.158, data_time: 0.007, memory: 12717, loss_cls: 0.4465, loss_bbox: 0.2270, loss_bbox_rf: 0.3010, loss: 0.9745\n",
            "2021-11-20 23:26:48,688 - mmdet - INFO - Epoch [10][100/228]\tlr: 1.000e-04, eta: 2:55:05, time: 3.427, data_time: 0.008, memory: 12717, loss_cls: 0.4477, loss_bbox: 0.2106, loss_bbox_rf: 0.2744, loss: 0.9326\n",
            "2021-11-20 23:27:20,913 - mmdet - INFO - Epoch [10][110/228]\tlr: 1.000e-04, eta: 2:54:34, time: 3.222, data_time: 0.008, memory: 12717, loss_cls: 0.4510, loss_bbox: 0.2541, loss_bbox_rf: 0.3349, loss: 1.0400\n",
            "2021-11-20 23:27:50,764 - mmdet - INFO - Epoch [10][120/228]\tlr: 1.000e-04, eta: 2:54:00, time: 2.985, data_time: 0.007, memory: 12717, loss_cls: 0.4554, loss_bbox: 0.2266, loss_bbox_rf: 0.2972, loss: 0.9792\n",
            "2021-11-20 23:28:23,148 - mmdet - INFO - Epoch [10][130/228]\tlr: 1.000e-04, eta: 2:53:29, time: 3.238, data_time: 0.008, memory: 12717, loss_cls: 0.4277, loss_bbox: 0.2367, loss_bbox_rf: 0.3107, loss: 0.9751\n",
            "2021-11-20 23:28:54,079 - mmdet - INFO - Epoch [10][140/228]\tlr: 1.000e-04, eta: 2:52:57, time: 3.093, data_time: 0.007, memory: 12717, loss_cls: 0.4232, loss_bbox: 0.2391, loss_bbox_rf: 0.3151, loss: 0.9774\n",
            "2021-11-20 23:29:27,090 - mmdet - INFO - Epoch [10][150/228]\tlr: 1.000e-04, eta: 2:52:27, time: 3.301, data_time: 0.008, memory: 12717, loss_cls: 0.4427, loss_bbox: 0.2276, loss_bbox_rf: 0.3005, loss: 0.9709\n",
            "2021-11-20 23:30:00,183 - mmdet - INFO - Epoch [10][160/228]\tlr: 1.000e-04, eta: 2:51:57, time: 3.309, data_time: 0.008, memory: 12717, loss_cls: 0.4501, loss_bbox: 0.2387, loss_bbox_rf: 0.3126, loss: 1.0014\n",
            "2021-11-20 23:30:31,410 - mmdet - INFO - Epoch [10][170/228]\tlr: 1.000e-04, eta: 2:51:25, time: 3.123, data_time: 0.007, memory: 12717, loss_cls: 0.4535, loss_bbox: 0.2386, loss_bbox_rf: 0.3153, loss: 1.0075\n",
            "2021-11-20 23:31:05,293 - mmdet - INFO - Epoch [10][180/228]\tlr: 1.000e-04, eta: 2:50:57, time: 3.388, data_time: 0.008, memory: 12717, loss_cls: 0.4419, loss_bbox: 0.2005, loss_bbox_rf: 0.2640, loss: 0.9064\n",
            "2021-11-20 23:31:37,564 - mmdet - INFO - Epoch [10][190/228]\tlr: 1.000e-04, eta: 2:50:26, time: 3.227, data_time: 0.008, memory: 12717, loss_cls: 0.4483, loss_bbox: 0.2557, loss_bbox_rf: 0.3385, loss: 1.0424\n",
            "2021-11-20 23:32:06,094 - mmdet - INFO - Epoch [10][200/228]\tlr: 1.000e-04, eta: 2:49:50, time: 2.853, data_time: 0.007, memory: 12717, loss_cls: 0.4531, loss_bbox: 0.2253, loss_bbox_rf: 0.2981, loss: 0.9765\n",
            "2021-11-20 23:32:40,019 - mmdet - INFO - Epoch [10][210/228]\tlr: 1.000e-04, eta: 2:49:21, time: 3.393, data_time: 0.008, memory: 12717, loss_cls: 0.4521, loss_bbox: 0.2547, loss_bbox_rf: 0.3364, loss: 1.0432\n",
            "2021-11-20 23:33:13,456 - mmdet - INFO - Epoch [10][220/228]\tlr: 1.000e-04, eta: 2:48:52, time: 3.344, data_time: 0.008, memory: 12717, loss_cls: 0.4395, loss_bbox: 0.2512, loss_bbox_rf: 0.3300, loss: 1.0207\n"
          ]
        },
        {
          "output_type": "stream",
          "name": "stdout",
          "text": [
            "[>>>>>>>>>>>>>>>>>>>>>>>>>>>>>] 534/534, 3.3 task/s, elapsed: 163s, ETA:     0s"
          ]
        },
        {
          "output_type": "stream",
          "name": "stderr",
          "text": [
            "2021-11-20 23:36:22,512 - mmdet - INFO - Evaluating bbox...\n"
          ]
        },
        {
          "output_type": "stream",
          "name": "stdout",
          "text": [
            "Loading and preparing results...\n",
            "DONE (t=0.23s)\n",
            "creating index...\n",
            "index created!\n",
            "Running per image evaluation...\n",
            "Evaluate annotation type *bbox*\n",
            "DONE (t=62.00s).\n",
            "Accumulating evaluation results...\n"
          ]
        },
        {
          "output_type": "stream",
          "name": "stderr",
          "text": [
            "2021-11-20 23:37:26,066 - mmdet - INFO - \n",
            " Average Precision  (AP) @[ IoU=0.50:0.95 | area=   all | maxDets=100 ] = 0.392\n",
            " Average Precision  (AP) @[ IoU=0.50      | area=   all | maxDets=1000 ] = 0.582\n",
            " Average Precision  (AP) @[ IoU=0.75      | area=   all | maxDets=1000 ] = 0.458\n",
            " Average Precision  (AP) @[ IoU=0.50:0.95 | area= small | maxDets=1000 ] = 0.139\n",
            " Average Precision  (AP) @[ IoU=0.50:0.95 | area=medium | maxDets=1000 ] = 0.190\n",
            " Average Precision  (AP) @[ IoU=0.50:0.95 | area= large | maxDets=1000 ] = 0.504\n",
            " Average Recall     (AR) @[ IoU=0.50:0.95 | area=   all | maxDets=100 ] = 0.422\n",
            " Average Recall     (AR) @[ IoU=0.50:0.95 | area=   all | maxDets=300 ] = 0.422\n",
            " Average Recall     (AR) @[ IoU=0.50:0.95 | area=   all | maxDets=1000 ] = 0.422\n",
            " Average Recall     (AR) @[ IoU=0.50:0.95 | area= small | maxDets=1000 ] = 0.179\n",
            " Average Recall     (AR) @[ IoU=0.50:0.95 | area=medium | maxDets=1000 ] = 0.222\n",
            " Average Recall     (AR) @[ IoU=0.50:0.95 | area= large | maxDets=1000 ] = 0.541\n",
            "\n",
            "2021-11-20 23:37:26,102 - mmdet - INFO - Epoch(val) [10][534]\tbbox_mAP: 0.3920, bbox_mAP_50: 0.5820, bbox_mAP_75: 0.4580, bbox_mAP_s: 0.1390, bbox_mAP_m: 0.1900, bbox_mAP_l: 0.5040, bbox_mAP_copypaste: 0.392 0.582 0.458 0.139 0.190 0.504\n"
          ]
        },
        {
          "output_type": "stream",
          "name": "stdout",
          "text": [
            "DONE (t=1.02s).\n"
          ]
        },
        {
          "output_type": "stream",
          "name": "stderr",
          "text": [
            "2021-11-20 23:38:01,588 - mmdet - INFO - Epoch [11][10/228]\tlr: 1.000e-04, eta: 2:47:25, time: 3.547, data_time: 0.408, memory: 12717, loss_cls: 0.4268, loss_bbox: 0.2436, loss_bbox_rf: 0.3200, loss: 0.9904\n",
            "2021-11-20 23:38:31,392 - mmdet - INFO - Epoch [11][20/228]\tlr: 1.000e-04, eta: 2:46:51, time: 2.980, data_time: 0.008, memory: 12717, loss_cls: 0.4553, loss_bbox: 0.2408, loss_bbox_rf: 0.3197, loss: 1.0158\n",
            "2021-11-20 23:39:04,994 - mmdet - INFO - Epoch [11][30/228]\tlr: 1.000e-04, eta: 2:46:23, time: 3.360, data_time: 0.008, memory: 12717, loss_cls: 0.4216, loss_bbox: 0.2353, loss_bbox_rf: 0.3080, loss: 0.9648\n",
            "2021-11-20 23:39:37,012 - mmdet - INFO - Epoch [11][40/228]\tlr: 1.000e-04, eta: 2:45:52, time: 3.202, data_time: 0.008, memory: 12717, loss_cls: 0.4799, loss_bbox: 0.2471, loss_bbox_rf: 0.3259, loss: 1.0528\n",
            "2021-11-20 23:40:13,261 - mmdet - INFO - Epoch [11][50/228]\tlr: 1.000e-04, eta: 2:45:26, time: 3.625, data_time: 0.008, memory: 12717, loss_cls: 0.4710, loss_bbox: 0.2524, loss_bbox_rf: 0.3320, loss: 1.0554\n",
            "2021-11-20 23:40:46,537 - mmdet - INFO - Epoch [11][60/228]\tlr: 1.000e-04, eta: 2:44:57, time: 3.328, data_time: 0.008, memory: 12717, loss_cls: 0.4195, loss_bbox: 0.2106, loss_bbox_rf: 0.2762, loss: 0.9063\n",
            "2021-11-20 23:41:21,895 - mmdet - INFO - Epoch [11][70/228]\tlr: 1.000e-04, eta: 2:44:30, time: 3.536, data_time: 0.008, memory: 12717, loss_cls: 0.4541, loss_bbox: 0.2356, loss_bbox_rf: 0.3103, loss: 1.0001\n",
            "2021-11-20 23:41:54,718 - mmdet - INFO - Epoch [11][80/228]\tlr: 1.000e-04, eta: 2:44:00, time: 3.282, data_time: 0.008, memory: 12717, loss_cls: 0.4172, loss_bbox: 0.1935, loss_bbox_rf: 0.2559, loss: 0.8666\n",
            "2021-11-20 23:42:26,304 - mmdet - INFO - Epoch [11][90/228]\tlr: 1.000e-04, eta: 2:43:29, time: 3.159, data_time: 0.007, memory: 12717, loss_cls: 0.4343, loss_bbox: 0.2368, loss_bbox_rf: 0.3099, loss: 0.9810\n",
            "2021-11-20 23:43:00,643 - mmdet - INFO - Epoch [11][100/228]\tlr: 1.000e-04, eta: 2:43:01, time: 3.434, data_time: 0.008, memory: 12717, loss_cls: 0.4637, loss_bbox: 0.2009, loss_bbox_rf: 0.2607, loss: 0.9252\n",
            "2021-11-20 23:43:32,980 - mmdet - INFO - Epoch [11][110/228]\tlr: 1.000e-04, eta: 2:42:30, time: 3.234, data_time: 0.008, memory: 12717, loss_cls: 0.4462, loss_bbox: 0.2454, loss_bbox_rf: 0.3228, loss: 1.0144\n",
            "2021-11-20 23:44:03,126 - mmdet - INFO - Epoch [11][120/228]\tlr: 1.000e-04, eta: 2:41:56, time: 3.014, data_time: 0.007, memory: 12717, loss_cls: 0.4554, loss_bbox: 0.2349, loss_bbox_rf: 0.3105, loss: 1.0008\n",
            "2021-11-20 23:44:36,187 - mmdet - INFO - Epoch [11][130/228]\tlr: 1.000e-04, eta: 2:41:27, time: 3.306, data_time: 0.008, memory: 12717, loss_cls: 0.4298, loss_bbox: 0.2444, loss_bbox_rf: 0.3212, loss: 0.9954\n",
            "2021-11-20 23:45:06,733 - mmdet - INFO - Epoch [11][140/228]\tlr: 1.000e-04, eta: 2:40:54, time: 3.055, data_time: 0.007, memory: 12717, loss_cls: 0.4583, loss_bbox: 0.2663, loss_bbox_rf: 0.3522, loss: 1.0768\n",
            "2021-11-20 23:45:39,847 - mmdet - INFO - Epoch [11][150/228]\tlr: 1.000e-04, eta: 2:40:24, time: 3.311, data_time: 0.008, memory: 12717, loss_cls: 0.4511, loss_bbox: 0.2469, loss_bbox_rf: 0.3256, loss: 1.0236\n",
            "2021-11-20 23:46:12,941 - mmdet - INFO - Epoch [11][160/228]\tlr: 1.000e-04, eta: 2:39:54, time: 3.309, data_time: 0.008, memory: 12717, loss_cls: 0.4562, loss_bbox: 0.2532, loss_bbox_rf: 0.3342, loss: 1.0436\n",
            "2021-11-20 23:46:43,830 - mmdet - INFO - Epoch [11][170/228]\tlr: 1.000e-04, eta: 2:39:21, time: 3.089, data_time: 0.007, memory: 12717, loss_cls: 0.4022, loss_bbox: 0.2042, loss_bbox_rf: 0.2684, loss: 0.8747\n",
            "2021-11-20 23:47:17,165 - mmdet - INFO - Epoch [11][180/228]\tlr: 1.000e-04, eta: 2:38:52, time: 3.333, data_time: 0.008, memory: 12717, loss_cls: 0.4736, loss_bbox: 0.2517, loss_bbox_rf: 0.3335, loss: 1.0587\n",
            "2021-11-20 23:47:48,857 - mmdet - INFO - Epoch [11][190/228]\tlr: 1.000e-04, eta: 2:38:20, time: 3.169, data_time: 0.008, memory: 12717, loss_cls: 0.4576, loss_bbox: 0.2574, loss_bbox_rf: 0.3396, loss: 1.0546\n",
            "2021-11-20 23:48:16,970 - mmdet - INFO - Epoch [11][200/228]\tlr: 1.000e-04, eta: 2:37:44, time: 2.811, data_time: 0.007, memory: 12717, loss_cls: 0.4782, loss_bbox: 0.2709, loss_bbox_rf: 0.3559, loss: 1.1051\n",
            "2021-11-20 23:48:51,575 - mmdet - INFO - Epoch [11][210/228]\tlr: 1.000e-04, eta: 2:37:16, time: 3.461, data_time: 0.008, memory: 12717, loss_cls: 0.4444, loss_bbox: 0.2504, loss_bbox_rf: 0.3301, loss: 1.0249\n",
            "2021-11-20 23:49:24,933 - mmdet - INFO - Epoch [11][220/228]\tlr: 1.000e-04, eta: 2:36:47, time: 3.336, data_time: 0.008, memory: 12717, loss_cls: 0.4777, loss_bbox: 0.2394, loss_bbox_rf: 0.3169, loss: 1.0341\n"
          ]
        },
        {
          "output_type": "stream",
          "name": "stdout",
          "text": [
            "[>>>>>>>>>>>>>>>>>>>>>>>>>>>>>] 534/534, 3.3 task/s, elapsed: 162s, ETA:     0s"
          ]
        },
        {
          "output_type": "stream",
          "name": "stderr",
          "text": [
            "2021-11-20 23:52:33,535 - mmdet - INFO - Evaluating bbox...\n"
          ]
        },
        {
          "output_type": "stream",
          "name": "stdout",
          "text": [
            "Loading and preparing results...\n",
            "DONE (t=0.04s)\n",
            "creating index...\n",
            "index created!\n",
            "Running per image evaluation...\n",
            "Evaluate annotation type *bbox*\n",
            "DONE (t=59.54s).\n",
            "Accumulating evaluation results...\n"
          ]
        },
        {
          "output_type": "stream",
          "name": "stderr",
          "text": [
            "2021-11-20 23:53:34,383 - mmdet - INFO - \n",
            " Average Precision  (AP) @[ IoU=0.50:0.95 | area=   all | maxDets=100 ] = 0.393\n",
            " Average Precision  (AP) @[ IoU=0.50      | area=   all | maxDets=1000 ] = 0.583\n",
            " Average Precision  (AP) @[ IoU=0.75      | area=   all | maxDets=1000 ] = 0.461\n",
            " Average Precision  (AP) @[ IoU=0.50:0.95 | area= small | maxDets=1000 ] = 0.138\n",
            " Average Precision  (AP) @[ IoU=0.50:0.95 | area=medium | maxDets=1000 ] = 0.191\n",
            " Average Precision  (AP) @[ IoU=0.50:0.95 | area= large | maxDets=1000 ] = 0.506\n",
            " Average Recall     (AR) @[ IoU=0.50:0.95 | area=   all | maxDets=100 ] = 0.424\n",
            " Average Recall     (AR) @[ IoU=0.50:0.95 | area=   all | maxDets=300 ] = 0.424\n",
            " Average Recall     (AR) @[ IoU=0.50:0.95 | area=   all | maxDets=1000 ] = 0.424\n",
            " Average Recall     (AR) @[ IoU=0.50:0.95 | area= small | maxDets=1000 ] = 0.180\n",
            " Average Recall     (AR) @[ IoU=0.50:0.95 | area=medium | maxDets=1000 ] = 0.224\n",
            " Average Recall     (AR) @[ IoU=0.50:0.95 | area= large | maxDets=1000 ] = 0.543\n",
            "\n",
            "2021-11-20 23:53:34,417 - mmdet - INFO - Epoch(val) [11][534]\tbbox_mAP: 0.3930, bbox_mAP_50: 0.5830, bbox_mAP_75: 0.4610, bbox_mAP_s: 0.1380, bbox_mAP_m: 0.1910, bbox_mAP_l: 0.5060, bbox_mAP_copypaste: 0.393 0.583 0.461 0.138 0.191 0.506\n"
          ]
        },
        {
          "output_type": "stream",
          "name": "stdout",
          "text": [
            "DONE (t=0.96s).\n"
          ]
        },
        {
          "output_type": "stream",
          "name": "stderr",
          "text": [
            "2021-11-20 23:54:09,561 - mmdet - INFO - Epoch [12][10/228]\tlr: 1.000e-04, eta: 2:35:24, time: 3.513, data_time: 0.390, memory: 12717, loss_cls: 0.4456, loss_bbox: 0.2416, loss_bbox_rf: 0.3189, loss: 1.0061\n",
            "2021-11-20 23:54:39,158 - mmdet - INFO - Epoch [12][20/228]\tlr: 1.000e-04, eta: 2:34:50, time: 2.960, data_time: 0.008, memory: 12717, loss_cls: 0.4377, loss_bbox: 0.2111, loss_bbox_rf: 0.2775, loss: 0.9263\n",
            "2021-11-20 23:55:12,713 - mmdet - INFO - Epoch [12][30/228]\tlr: 1.000e-04, eta: 2:34:21, time: 3.355, data_time: 0.008, memory: 12717, loss_cls: 0.3955, loss_bbox: 0.2096, loss_bbox_rf: 0.2771, loss: 0.8821\n",
            "2021-11-20 23:55:44,993 - mmdet - INFO - Epoch [12][40/228]\tlr: 1.000e-04, eta: 2:33:50, time: 3.228, data_time: 0.008, memory: 12717, loss_cls: 0.4386, loss_bbox: 0.2174, loss_bbox_rf: 0.2862, loss: 0.9422\n",
            "2021-11-20 23:56:21,266 - mmdet - INFO - Epoch [12][50/228]\tlr: 1.000e-04, eta: 2:33:24, time: 3.627, data_time: 0.008, memory: 12717, loss_cls: 0.4558, loss_bbox: 0.2306, loss_bbox_rf: 0.3016, loss: 0.9880\n",
            "2021-11-20 23:56:54,533 - mmdet - INFO - Epoch [12][60/228]\tlr: 1.000e-04, eta: 2:32:54, time: 3.327, data_time: 0.008, memory: 12717, loss_cls: 0.4245, loss_bbox: 0.2223, loss_bbox_rf: 0.2935, loss: 0.9403\n",
            "2021-11-20 23:57:29,882 - mmdet - INFO - Epoch [12][70/228]\tlr: 1.000e-04, eta: 2:32:27, time: 3.535, data_time: 0.008, memory: 12717, loss_cls: 0.4423, loss_bbox: 0.2222, loss_bbox_rf: 0.2916, loss: 0.9560\n",
            "2021-11-20 23:58:03,292 - mmdet - INFO - Epoch [12][80/228]\tlr: 1.000e-04, eta: 2:31:57, time: 3.341, data_time: 0.008, memory: 12717, loss_cls: 0.4342, loss_bbox: 0.2445, loss_bbox_rf: 0.3216, loss: 1.0003\n",
            "2021-11-20 23:58:35,111 - mmdet - INFO - Epoch [12][90/228]\tlr: 1.000e-04, eta: 2:31:26, time: 3.182, data_time: 0.007, memory: 12717, loss_cls: 0.4888, loss_bbox: 0.2608, loss_bbox_rf: 0.3413, loss: 1.0909\n",
            "2021-11-20 23:59:09,423 - mmdet - INFO - Epoch [12][100/228]\tlr: 1.000e-04, eta: 2:30:57, time: 3.431, data_time: 0.008, memory: 12717, loss_cls: 0.4871, loss_bbox: 0.2272, loss_bbox_rf: 0.3001, loss: 1.0143\n",
            "2021-11-20 23:59:41,590 - mmdet - INFO - Epoch [12][110/228]\tlr: 1.000e-04, eta: 2:30:26, time: 3.217, data_time: 0.008, memory: 12717, loss_cls: 0.4557, loss_bbox: 0.2378, loss_bbox_rf: 0.3115, loss: 1.0050\n",
            "2021-11-21 00:00:11,491 - mmdet - INFO - Epoch [12][120/228]\tlr: 1.000e-04, eta: 2:29:53, time: 2.990, data_time: 0.007, memory: 12717, loss_cls: 0.4469, loss_bbox: 0.2351, loss_bbox_rf: 0.3083, loss: 0.9902\n",
            "2021-11-21 00:00:44,169 - mmdet - INFO - Epoch [12][130/228]\tlr: 1.000e-04, eta: 2:29:22, time: 3.268, data_time: 0.008, memory: 12717, loss_cls: 0.4384, loss_bbox: 0.2314, loss_bbox_rf: 0.3044, loss: 0.9743\n",
            "2021-11-21 00:01:14,825 - mmdet - INFO - Epoch [12][140/228]\tlr: 1.000e-04, eta: 2:28:50, time: 3.066, data_time: 0.008, memory: 12717, loss_cls: 0.4334, loss_bbox: 0.2282, loss_bbox_rf: 0.2996, loss: 0.9612\n",
            "2021-11-21 00:01:47,743 - mmdet - INFO - Epoch [12][150/228]\tlr: 1.000e-04, eta: 2:28:19, time: 3.292, data_time: 0.008, memory: 12717, loss_cls: 0.4191, loss_bbox: 0.2655, loss_bbox_rf: 0.3496, loss: 1.0342\n",
            "2021-11-21 00:02:20,433 - mmdet - INFO - Epoch [12][160/228]\tlr: 1.000e-04, eta: 2:27:49, time: 3.269, data_time: 0.007, memory: 12717, loss_cls: 0.4449, loss_bbox: 0.2232, loss_bbox_rf: 0.2936, loss: 0.9617\n",
            "2021-11-21 00:02:51,719 - mmdet - INFO - Epoch [12][170/228]\tlr: 1.000e-04, eta: 2:27:17, time: 3.129, data_time: 0.007, memory: 12717, loss_cls: 0.4612, loss_bbox: 0.2548, loss_bbox_rf: 0.3359, loss: 1.0519\n",
            "2021-11-21 00:03:25,715 - mmdet - INFO - Epoch [12][180/228]\tlr: 1.000e-04, eta: 2:26:48, time: 3.400, data_time: 0.008, memory: 12717, loss_cls: 0.4974, loss_bbox: 0.2635, loss_bbox_rf: 0.3474, loss: 1.1083\n",
            "2021-11-21 00:03:57,372 - mmdet - INFO - Epoch [12][190/228]\tlr: 1.000e-04, eta: 2:26:16, time: 3.166, data_time: 0.008, memory: 12717, loss_cls: 0.4286, loss_bbox: 0.2055, loss_bbox_rf: 0.2692, loss: 0.9033\n",
            "2021-11-21 00:04:25,555 - mmdet - INFO - Epoch [12][200/228]\tlr: 1.000e-04, eta: 2:25:41, time: 2.818, data_time: 0.007, memory: 12717, loss_cls: 0.4213, loss_bbox: 0.1935, loss_bbox_rf: 0.2558, loss: 0.8706\n",
            "2021-11-21 00:04:59,741 - mmdet - INFO - Epoch [12][210/228]\tlr: 1.000e-04, eta: 2:25:12, time: 3.419, data_time: 0.008, memory: 12717, loss_cls: 0.4662, loss_bbox: 0.2711, loss_bbox_rf: 0.3576, loss: 1.0949\n",
            "2021-11-21 00:05:32,915 - mmdet - INFO - Epoch [12][220/228]\tlr: 1.000e-04, eta: 2:24:42, time: 3.317, data_time: 0.008, memory: 12717, loss_cls: 0.4285, loss_bbox: 0.2138, loss_bbox_rf: 0.2818, loss: 0.9241\n",
            "2021-11-21 00:05:58,899 - mmdet - INFO - Saving checkpoint at 12 epochs\n"
          ]
        },
        {
          "output_type": "stream",
          "name": "stdout",
          "text": [
            "[>>>>>>>>>>>>>>>>>>>>>>>>>>>>>] 534/534, 3.3 task/s, elapsed: 162s, ETA:     0s"
          ]
        },
        {
          "output_type": "stream",
          "name": "stderr",
          "text": [
            "2021-11-21 00:08:46,312 - mmdet - INFO - Evaluating bbox...\n"
          ]
        },
        {
          "output_type": "stream",
          "name": "stdout",
          "text": [
            "Loading and preparing results...\n",
            "DONE (t=0.22s)\n",
            "creating index...\n",
            "index created!\n",
            "Running per image evaluation...\n",
            "Evaluate annotation type *bbox*\n",
            "DONE (t=59.64s).\n",
            "Accumulating evaluation results...\n"
          ]
        },
        {
          "output_type": "stream",
          "name": "stderr",
          "text": [
            "2021-11-21 00:09:47,262 - mmdet - INFO - \n",
            " Average Precision  (AP) @[ IoU=0.50:0.95 | area=   all | maxDets=100 ] = 0.395\n",
            " Average Precision  (AP) @[ IoU=0.50      | area=   all | maxDets=1000 ] = 0.586\n",
            " Average Precision  (AP) @[ IoU=0.75      | area=   all | maxDets=1000 ] = 0.462\n",
            " Average Precision  (AP) @[ IoU=0.50:0.95 | area= small | maxDets=1000 ] = 0.135\n",
            " Average Precision  (AP) @[ IoU=0.50:0.95 | area=medium | maxDets=1000 ] = 0.193\n",
            " Average Precision  (AP) @[ IoU=0.50:0.95 | area= large | maxDets=1000 ] = 0.507\n",
            " Average Recall     (AR) @[ IoU=0.50:0.95 | area=   all | maxDets=100 ] = 0.425\n",
            " Average Recall     (AR) @[ IoU=0.50:0.95 | area=   all | maxDets=300 ] = 0.425\n",
            " Average Recall     (AR) @[ IoU=0.50:0.95 | area=   all | maxDets=1000 ] = 0.425\n",
            " Average Recall     (AR) @[ IoU=0.50:0.95 | area= small | maxDets=1000 ] = 0.174\n",
            " Average Recall     (AR) @[ IoU=0.50:0.95 | area=medium | maxDets=1000 ] = 0.226\n",
            " Average Recall     (AR) @[ IoU=0.50:0.95 | area= large | maxDets=1000 ] = 0.544\n",
            "\n",
            "2021-11-21 00:09:47,298 - mmdet - INFO - Epoch(val) [12][534]\tbbox_mAP: 0.3950, bbox_mAP_50: 0.5860, bbox_mAP_75: 0.4620, bbox_mAP_s: 0.1350, bbox_mAP_m: 0.1930, bbox_mAP_l: 0.5070, bbox_mAP_copypaste: 0.395 0.586 0.462 0.135 0.193 0.507\n"
          ]
        },
        {
          "output_type": "stream",
          "name": "stdout",
          "text": [
            "DONE (t=0.96s).\n"
          ]
        },
        {
          "output_type": "stream",
          "name": "stderr",
          "text": [
            "2021-11-21 00:10:22,443 - mmdet - INFO - Epoch [13][10/228]\tlr: 1.000e-04, eta: 2:23:23, time: 3.513, data_time: 0.421, memory: 12717, loss_cls: 0.4060, loss_bbox: 0.2024, loss_bbox_rf: 0.2662, loss: 0.8747\n",
            "2021-11-21 00:10:52,224 - mmdet - INFO - Epoch [13][20/228]\tlr: 1.000e-04, eta: 2:22:50, time: 2.978, data_time: 0.008, memory: 12717, loss_cls: 0.4454, loss_bbox: 0.2289, loss_bbox_rf: 0.3031, loss: 0.9774\n",
            "2021-11-21 00:11:25,973 - mmdet - INFO - Epoch [13][30/228]\tlr: 1.000e-04, eta: 2:22:20, time: 3.375, data_time: 0.008, memory: 12717, loss_cls: 0.5012, loss_bbox: 0.2464, loss_bbox_rf: 0.3247, loss: 1.0724\n",
            "2021-11-21 00:11:58,399 - mmdet - INFO - Epoch [13][40/228]\tlr: 1.000e-04, eta: 2:21:50, time: 3.243, data_time: 0.008, memory: 12717, loss_cls: 0.4823, loss_bbox: 0.2800, loss_bbox_rf: 0.3671, loss: 1.1293\n",
            "2021-11-21 00:12:34,841 - mmdet - INFO - Epoch [13][50/228]\tlr: 1.000e-04, eta: 2:21:23, time: 3.644, data_time: 0.008, memory: 12717, loss_cls: 0.4712, loss_bbox: 0.2369, loss_bbox_rf: 0.3125, loss: 1.0205\n",
            "2021-11-21 00:13:08,128 - mmdet - INFO - Epoch [13][60/228]\tlr: 1.000e-04, eta: 2:20:53, time: 3.329, data_time: 0.008, memory: 12717, loss_cls: 0.4717, loss_bbox: 0.3157, loss_bbox_rf: 0.4174, loss: 1.2048\n",
            "2021-11-21 00:13:43,469 - mmdet - INFO - Epoch [13][70/228]\tlr: 1.000e-04, eta: 2:20:25, time: 3.534, data_time: 0.008, memory: 12717, loss_cls: 0.4152, loss_bbox: 0.1953, loss_bbox_rf: 0.2577, loss: 0.8683\n",
            "2021-11-21 00:14:16,881 - mmdet - INFO - Epoch [13][80/228]\tlr: 1.000e-04, eta: 2:19:55, time: 3.341, data_time: 0.008, memory: 12717, loss_cls: 0.4534, loss_bbox: 0.2408, loss_bbox_rf: 0.3172, loss: 1.0114\n",
            "2021-11-21 00:14:48,496 - mmdet - INFO - Epoch [13][90/228]\tlr: 1.000e-04, eta: 2:19:23, time: 3.162, data_time: 0.007, memory: 12717, loss_cls: 0.4715, loss_bbox: 0.2526, loss_bbox_rf: 0.3302, loss: 1.0542\n",
            "2021-11-21 00:15:22,804 - mmdet - INFO - Epoch [13][100/228]\tlr: 1.000e-04, eta: 2:18:54, time: 3.431, data_time: 0.008, memory: 12717, loss_cls: 0.4269, loss_bbox: 0.2326, loss_bbox_rf: 0.3070, loss: 0.9666\n",
            "2021-11-21 00:15:55,003 - mmdet - INFO - Epoch [13][110/228]\tlr: 1.000e-04, eta: 2:18:23, time: 3.220, data_time: 0.008, memory: 12717, loss_cls: 0.4626, loss_bbox: 0.2666, loss_bbox_rf: 0.3508, loss: 1.0800\n",
            "2021-11-21 00:16:25,121 - mmdet - INFO - Epoch [13][120/228]\tlr: 1.000e-04, eta: 2:17:50, time: 3.012, data_time: 0.007, memory: 12717, loss_cls: 0.4610, loss_bbox: 0.2538, loss_bbox_rf: 0.3348, loss: 1.0496\n",
            "2021-11-21 00:16:57,827 - mmdet - INFO - Epoch [13][130/228]\tlr: 1.000e-04, eta: 2:17:20, time: 3.271, data_time: 0.008, memory: 12717, loss_cls: 0.4433, loss_bbox: 0.2325, loss_bbox_rf: 0.3087, loss: 0.9845\n",
            "2021-11-21 00:17:28,605 - mmdet - INFO - Epoch [13][140/228]\tlr: 1.000e-04, eta: 2:16:47, time: 3.078, data_time: 0.007, memory: 12717, loss_cls: 0.4899, loss_bbox: 0.2800, loss_bbox_rf: 0.3690, loss: 1.1389\n",
            "2021-11-21 00:18:01,724 - mmdet - INFO - Epoch [13][150/228]\tlr: 1.000e-04, eta: 2:16:17, time: 3.312, data_time: 0.008, memory: 12717, loss_cls: 0.4493, loss_bbox: 0.2314, loss_bbox_rf: 0.3034, loss: 0.9841\n",
            "2021-11-21 00:18:34,493 - mmdet - INFO - Epoch [13][160/228]\tlr: 1.000e-04, eta: 2:15:46, time: 3.277, data_time: 0.008, memory: 12717, loss_cls: 0.4463, loss_bbox: 0.2461, loss_bbox_rf: 0.3247, loss: 1.0171\n",
            "2021-11-21 00:19:05,446 - mmdet - INFO - Epoch [13][170/228]\tlr: 1.000e-04, eta: 2:15:14, time: 3.095, data_time: 0.007, memory: 12717, loss_cls: 0.4222, loss_bbox: 0.2061, loss_bbox_rf: 0.2719, loss: 0.9002\n",
            "2021-11-21 00:19:39,237 - mmdet - INFO - Epoch [13][180/228]\tlr: 1.000e-04, eta: 2:14:44, time: 3.379, data_time: 0.008, memory: 12717, loss_cls: 0.4473, loss_bbox: 0.2701, loss_bbox_rf: 0.3549, loss: 1.0723\n",
            "2021-11-21 00:20:11,163 - mmdet - INFO - Epoch [13][190/228]\tlr: 1.000e-04, eta: 2:14:13, time: 3.193, data_time: 0.008, memory: 12717, loss_cls: 0.4279, loss_bbox: 0.2086, loss_bbox_rf: 0.2744, loss: 0.9110\n",
            "2021-11-21 00:20:39,940 - mmdet - INFO - Epoch [13][200/228]\tlr: 1.000e-04, eta: 2:13:39, time: 2.878, data_time: 0.006, memory: 12717, loss_cls: 0.4595, loss_bbox: 0.2312, loss_bbox_rf: 0.3031, loss: 0.9938\n",
            "2021-11-21 00:21:14,123 - mmdet - INFO - Epoch [13][210/228]\tlr: 1.000e-04, eta: 2:13:09, time: 3.418, data_time: 0.008, memory: 12717, loss_cls: 0.4170, loss_bbox: 0.1984, loss_bbox_rf: 0.2611, loss: 0.8765\n",
            "2021-11-21 00:21:47,312 - mmdet - INFO - Epoch [13][220/228]\tlr: 1.000e-04, eta: 2:12:39, time: 3.319, data_time: 0.008, memory: 12717, loss_cls: 0.4549, loss_bbox: 0.2389, loss_bbox_rf: 0.3146, loss: 1.0084\n"
          ]
        },
        {
          "output_type": "stream",
          "name": "stdout",
          "text": [
            "[>>>>>>>>>>>>>>>>>>>>>>>>>>>>>] 534/534, 3.3 task/s, elapsed: 161s, ETA:     0s"
          ]
        },
        {
          "output_type": "stream",
          "name": "stderr",
          "text": [
            "2021-11-21 00:24:55,736 - mmdet - INFO - Evaluating bbox...\n"
          ]
        },
        {
          "output_type": "stream",
          "name": "stdout",
          "text": [
            "Loading and preparing results...\n",
            "DONE (t=0.04s)\n",
            "creating index...\n",
            "index created!\n",
            "Running per image evaluation...\n",
            "Evaluate annotation type *bbox*\n",
            "DONE (t=59.59s).\n",
            "Accumulating evaluation results...\n"
          ]
        },
        {
          "output_type": "stream",
          "name": "stderr",
          "text": [
            "2021-11-21 00:25:56,641 - mmdet - INFO - \n",
            " Average Precision  (AP) @[ IoU=0.50:0.95 | area=   all | maxDets=100 ] = 0.391\n",
            " Average Precision  (AP) @[ IoU=0.50      | area=   all | maxDets=1000 ] = 0.578\n",
            " Average Precision  (AP) @[ IoU=0.75      | area=   all | maxDets=1000 ] = 0.457\n",
            " Average Precision  (AP) @[ IoU=0.50:0.95 | area= small | maxDets=1000 ] = 0.140\n",
            " Average Precision  (AP) @[ IoU=0.50:0.95 | area=medium | maxDets=1000 ] = 0.192\n",
            " Average Precision  (AP) @[ IoU=0.50:0.95 | area= large | maxDets=1000 ] = 0.501\n",
            " Average Recall     (AR) @[ IoU=0.50:0.95 | area=   all | maxDets=100 ] = 0.421\n",
            " Average Recall     (AR) @[ IoU=0.50:0.95 | area=   all | maxDets=300 ] = 0.421\n",
            " Average Recall     (AR) @[ IoU=0.50:0.95 | area=   all | maxDets=1000 ] = 0.421\n",
            " Average Recall     (AR) @[ IoU=0.50:0.95 | area= small | maxDets=1000 ] = 0.183\n",
            " Average Recall     (AR) @[ IoU=0.50:0.95 | area=medium | maxDets=1000 ] = 0.225\n",
            " Average Recall     (AR) @[ IoU=0.50:0.95 | area= large | maxDets=1000 ] = 0.538\n",
            "\n",
            "2021-11-21 00:25:56,677 - mmdet - INFO - Epoch(val) [13][534]\tbbox_mAP: 0.3910, bbox_mAP_50: 0.5780, bbox_mAP_75: 0.4570, bbox_mAP_s: 0.1400, bbox_mAP_m: 0.1920, bbox_mAP_l: 0.5010, bbox_mAP_copypaste: 0.391 0.578 0.457 0.140 0.192 0.501\n"
          ]
        },
        {
          "output_type": "stream",
          "name": "stdout",
          "text": [
            "DONE (t=0.97s).\n"
          ]
        },
        {
          "output_type": "stream",
          "name": "stderr",
          "text": [
            "2021-11-21 00:26:31,911 - mmdet - INFO - Epoch [14][10/228]\tlr: 1.000e-04, eta: 2:11:24, time: 3.522, data_time: 0.364, memory: 12717, loss_cls: 0.3861, loss_bbox: 0.2363, loss_bbox_rf: 0.3121, loss: 0.9344\n",
            "2021-11-21 00:27:01,649 - mmdet - INFO - Epoch [14][20/228]\tlr: 1.000e-04, eta: 2:10:51, time: 2.974, data_time: 0.008, memory: 12717, loss_cls: 0.4477, loss_bbox: 0.2483, loss_bbox_rf: 0.3285, loss: 1.0245\n",
            "2021-11-21 00:27:35,686 - mmdet - INFO - Epoch [14][30/228]\tlr: 1.000e-04, eta: 2:10:21, time: 3.404, data_time: 0.008, memory: 12717, loss_cls: 0.4607, loss_bbox: 0.2111, loss_bbox_rf: 0.2777, loss: 0.9496\n",
            "2021-11-21 00:28:07,713 - mmdet - INFO - Epoch [14][40/228]\tlr: 1.000e-04, eta: 2:09:50, time: 3.203, data_time: 0.008, memory: 12717, loss_cls: 0.4260, loss_bbox: 0.2239, loss_bbox_rf: 0.2941, loss: 0.9439\n",
            "2021-11-21 00:28:44,001 - mmdet - INFO - Epoch [14][50/228]\tlr: 1.000e-04, eta: 2:09:22, time: 3.629, data_time: 0.008, memory: 12717, loss_cls: 0.4764, loss_bbox: 0.2774, loss_bbox_rf: 0.3661, loss: 1.1199\n",
            "2021-11-21 00:29:17,289 - mmdet - INFO - Epoch [14][60/228]\tlr: 1.000e-04, eta: 2:08:52, time: 3.329, data_time: 0.008, memory: 12717, loss_cls: 0.4547, loss_bbox: 0.2349, loss_bbox_rf: 0.3089, loss: 0.9985\n",
            "2021-11-21 00:29:52,636 - mmdet - INFO - Epoch [14][70/228]\tlr: 1.000e-04, eta: 2:08:24, time: 3.535, data_time: 0.008, memory: 12717, loss_cls: 0.4579, loss_bbox: 0.2710, loss_bbox_rf: 0.3567, loss: 1.0857\n",
            "2021-11-21 00:30:25,860 - mmdet - INFO - Epoch [14][80/228]\tlr: 1.000e-04, eta: 2:07:53, time: 3.322, data_time: 0.008, memory: 12717, loss_cls: 0.4191, loss_bbox: 0.2088, loss_bbox_rf: 0.2754, loss: 0.9033\n",
            "2021-11-21 00:30:57,735 - mmdet - INFO - Epoch [14][90/228]\tlr: 1.000e-04, eta: 2:07:22, time: 3.187, data_time: 0.007, memory: 12718, loss_cls: 0.4439, loss_bbox: 0.2079, loss_bbox_rf: 0.2725, loss: 0.9243\n",
            "2021-11-21 00:31:31,602 - mmdet - INFO - Epoch [14][100/228]\tlr: 1.000e-04, eta: 2:06:52, time: 3.387, data_time: 0.008, memory: 12718, loss_cls: 0.4598, loss_bbox: 0.2156, loss_bbox_rf: 0.2854, loss: 0.9608\n",
            "2021-11-21 00:32:03,695 - mmdet - INFO - Epoch [14][110/228]\tlr: 1.000e-04, eta: 2:06:21, time: 3.209, data_time: 0.008, memory: 12718, loss_cls: 0.4509, loss_bbox: 0.2669, loss_bbox_rf: 0.3515, loss: 1.0693\n",
            "2021-11-21 00:32:33,798 - mmdet - INFO - Epoch [14][120/228]\tlr: 1.000e-04, eta: 2:05:48, time: 3.010, data_time: 0.007, memory: 12718, loss_cls: 0.4562, loss_bbox: 0.2567, loss_bbox_rf: 0.3389, loss: 1.0518\n",
            "2021-11-21 00:33:06,499 - mmdet - INFO - Epoch [14][130/228]\tlr: 1.000e-04, eta: 2:05:17, time: 3.270, data_time: 0.007, memory: 12718, loss_cls: 0.4573, loss_bbox: 0.2251, loss_bbox_rf: 0.2967, loss: 0.9791\n",
            "2021-11-21 00:33:37,263 - mmdet - INFO - Epoch [14][140/228]\tlr: 1.000e-04, eta: 2:04:45, time: 3.076, data_time: 0.007, memory: 12718, loss_cls: 0.4598, loss_bbox: 0.2498, loss_bbox_rf: 0.3292, loss: 1.0388\n",
            "2021-11-21 00:34:10,499 - mmdet - INFO - Epoch [14][150/228]\tlr: 1.000e-04, eta: 2:04:15, time: 3.324, data_time: 0.008, memory: 12718, loss_cls: 0.4353, loss_bbox: 0.2212, loss_bbox_rf: 0.2917, loss: 0.9481\n",
            "2021-11-21 00:34:43,292 - mmdet - INFO - Epoch [14][160/228]\tlr: 1.000e-04, eta: 2:03:44, time: 3.279, data_time: 0.007, memory: 12718, loss_cls: 0.4558, loss_bbox: 0.2451, loss_bbox_rf: 0.3238, loss: 1.0246\n",
            "2021-11-21 00:35:15,409 - mmdet - INFO - Epoch [14][170/228]\tlr: 1.000e-04, eta: 2:03:13, time: 3.212, data_time: 0.007, memory: 12718, loss_cls: 0.4232, loss_bbox: 0.2178, loss_bbox_rf: 0.2859, loss: 0.9270\n",
            "2021-11-21 00:35:48,993 - mmdet - INFO - Epoch [14][180/228]\tlr: 1.000e-04, eta: 2:02:43, time: 3.358, data_time: 0.008, memory: 12718, loss_cls: 0.4536, loss_bbox: 0.2164, loss_bbox_rf: 0.2848, loss: 0.9548\n",
            "2021-11-21 00:36:20,588 - mmdet - INFO - Epoch [14][190/228]\tlr: 1.000e-04, eta: 2:02:11, time: 3.159, data_time: 0.008, memory: 12718, loss_cls: 0.4228, loss_bbox: 0.2347, loss_bbox_rf: 0.3093, loss: 0.9668\n",
            "2021-11-21 00:36:48,680 - mmdet - INFO - Epoch [14][200/228]\tlr: 1.000e-04, eta: 2:01:37, time: 2.809, data_time: 0.007, memory: 12718, loss_cls: 0.4269, loss_bbox: 0.1965, loss_bbox_rf: 0.2576, loss: 0.8810\n",
            "2021-11-21 00:37:22,864 - mmdet - INFO - Epoch [14][210/228]\tlr: 1.000e-04, eta: 2:01:07, time: 3.418, data_time: 0.008, memory: 12718, loss_cls: 0.4527, loss_bbox: 0.2619, loss_bbox_rf: 0.3456, loss: 1.0602\n",
            "2021-11-21 00:37:56,246 - mmdet - INFO - Epoch [14][220/228]\tlr: 1.000e-04, eta: 2:00:37, time: 3.338, data_time: 0.008, memory: 12718, loss_cls: 0.4074, loss_bbox: 0.1806, loss_bbox_rf: 0.2379, loss: 0.8259\n"
          ]
        },
        {
          "output_type": "stream",
          "name": "stdout",
          "text": [
            "[>>>>>>>>>>>>>>>>>>>>>>>>>>>>>] 534/534, 3.3 task/s, elapsed: 162s, ETA:     0s"
          ]
        },
        {
          "output_type": "stream",
          "name": "stderr",
          "text": [
            "2021-11-21 00:41:05,076 - mmdet - INFO - Evaluating bbox...\n"
          ]
        },
        {
          "output_type": "stream",
          "name": "stdout",
          "text": [
            "Loading and preparing results...\n",
            "DONE (t=0.24s)\n",
            "creating index...\n",
            "index created!\n",
            "Running per image evaluation...\n",
            "Evaluate annotation type *bbox*\n",
            "DONE (t=60.39s).\n",
            "Accumulating evaluation results...\n"
          ]
        },
        {
          "output_type": "stream",
          "name": "stderr",
          "text": [
            "2021-11-21 00:42:06,786 - mmdet - INFO - \n",
            " Average Precision  (AP) @[ IoU=0.50:0.95 | area=   all | maxDets=100 ] = 0.397\n",
            " Average Precision  (AP) @[ IoU=0.50      | area=   all | maxDets=1000 ] = 0.590\n",
            " Average Precision  (AP) @[ IoU=0.75      | area=   all | maxDets=1000 ] = 0.465\n",
            " Average Precision  (AP) @[ IoU=0.50:0.95 | area= small | maxDets=1000 ] = 0.137\n",
            " Average Precision  (AP) @[ IoU=0.50:0.95 | area=medium | maxDets=1000 ] = 0.193\n",
            " Average Precision  (AP) @[ IoU=0.50:0.95 | area= large | maxDets=1000 ] = 0.511\n",
            " Average Recall     (AR) @[ IoU=0.50:0.95 | area=   all | maxDets=100 ] = 0.427\n",
            " Average Recall     (AR) @[ IoU=0.50:0.95 | area=   all | maxDets=300 ] = 0.427\n",
            " Average Recall     (AR) @[ IoU=0.50:0.95 | area=   all | maxDets=1000 ] = 0.427\n",
            " Average Recall     (AR) @[ IoU=0.50:0.95 | area= small | maxDets=1000 ] = 0.175\n",
            " Average Recall     (AR) @[ IoU=0.50:0.95 | area=medium | maxDets=1000 ] = 0.226\n",
            " Average Recall     (AR) @[ IoU=0.50:0.95 | area= large | maxDets=1000 ] = 0.548\n",
            "\n",
            "2021-11-21 00:42:06,822 - mmdet - INFO - Epoch(val) [14][534]\tbbox_mAP: 0.3970, bbox_mAP_50: 0.5900, bbox_mAP_75: 0.4650, bbox_mAP_s: 0.1370, bbox_mAP_m: 0.1930, bbox_mAP_l: 0.5110, bbox_mAP_copypaste: 0.397 0.590 0.465 0.137 0.193 0.511\n"
          ]
        },
        {
          "output_type": "stream",
          "name": "stdout",
          "text": [
            "DONE (t=0.97s).\n"
          ]
        },
        {
          "output_type": "stream",
          "name": "stderr",
          "text": [
            "2021-11-21 00:42:41,857 - mmdet - INFO - Epoch [15][10/228]\tlr: 1.000e-04, eta: 1:59:24, time: 3.502, data_time: 0.398, memory: 12718, loss_cls: 0.4195, loss_bbox: 0.2255, loss_bbox_rf: 0.2968, loss: 0.9418\n",
            "2021-11-21 00:43:11,706 - mmdet - INFO - Epoch [15][20/228]\tlr: 1.000e-04, eta: 1:58:51, time: 2.985, data_time: 0.008, memory: 12718, loss_cls: 0.4642, loss_bbox: 0.2683, loss_bbox_rf: 0.3534, loss: 1.0859\n",
            "2021-11-21 00:43:45,458 - mmdet - INFO - Epoch [15][30/228]\tlr: 1.000e-04, eta: 1:58:21, time: 3.375, data_time: 0.008, memory: 12718, loss_cls: 0.4349, loss_bbox: 0.2243, loss_bbox_rf: 0.2940, loss: 0.9532\n",
            "2021-11-21 00:44:17,736 - mmdet - INFO - Epoch [15][40/228]\tlr: 1.000e-04, eta: 1:57:50, time: 3.228, data_time: 0.007, memory: 12718, loss_cls: 0.4742, loss_bbox: 0.2528, loss_bbox_rf: 0.3325, loss: 1.0595\n",
            "2021-11-21 00:44:53,994 - mmdet - INFO - Epoch [15][50/228]\tlr: 1.000e-04, eta: 1:57:22, time: 3.626, data_time: 0.008, memory: 12718, loss_cls: 0.4675, loss_bbox: 0.2118, loss_bbox_rf: 0.2770, loss: 0.9563\n",
            "2021-11-21 00:45:27,271 - mmdet - INFO - Epoch [15][60/228]\tlr: 1.000e-04, eta: 1:56:51, time: 3.328, data_time: 0.008, memory: 12718, loss_cls: 0.4747, loss_bbox: 0.2736, loss_bbox_rf: 0.3599, loss: 1.1082\n",
            "2021-11-21 00:46:02,575 - mmdet - INFO - Epoch [15][70/228]\tlr: 1.000e-04, eta: 1:56:22, time: 3.530, data_time: 0.008, memory: 12718, loss_cls: 0.4822, loss_bbox: 0.2287, loss_bbox_rf: 0.3015, loss: 1.0124\n",
            "2021-11-21 00:46:35,804 - mmdet - INFO - Epoch [15][80/228]\tlr: 1.000e-04, eta: 1:55:52, time: 3.323, data_time: 0.008, memory: 12718, loss_cls: 0.4235, loss_bbox: 0.2150, loss_bbox_rf: 0.2842, loss: 0.9227\n",
            "2021-11-21 00:47:07,718 - mmdet - INFO - Epoch [15][90/228]\tlr: 1.000e-04, eta: 1:55:21, time: 3.191, data_time: 0.007, memory: 12718, loss_cls: 0.4127, loss_bbox: 0.2190, loss_bbox_rf: 0.2857, loss: 0.9174\n",
            "2021-11-21 00:47:42,024 - mmdet - INFO - Epoch [15][100/228]\tlr: 1.000e-04, eta: 1:54:51, time: 3.431, data_time: 0.008, memory: 12718, loss_cls: 0.4037, loss_bbox: 0.2156, loss_bbox_rf: 0.2850, loss: 0.9043\n",
            "2021-11-21 00:48:14,404 - mmdet - INFO - Epoch [15][110/228]\tlr: 1.000e-04, eta: 1:54:20, time: 3.238, data_time: 0.008, memory: 12718, loss_cls: 0.4124, loss_bbox: 0.1883, loss_bbox_rf: 0.2481, loss: 0.8488\n",
            "2021-11-21 00:48:44,560 - mmdet - INFO - Epoch [15][120/228]\tlr: 1.000e-04, eta: 1:53:47, time: 3.016, data_time: 0.007, memory: 12718, loss_cls: 0.4547, loss_bbox: 0.2287, loss_bbox_rf: 0.3023, loss: 0.9857\n",
            "2021-11-21 00:49:17,265 - mmdet - INFO - Epoch [15][130/228]\tlr: 1.000e-04, eta: 1:53:16, time: 3.270, data_time: 0.008, memory: 12718, loss_cls: 0.4783, loss_bbox: 0.2406, loss_bbox_rf: 0.3158, loss: 1.0347\n",
            "2021-11-21 00:49:48,073 - mmdet - INFO - Epoch [15][140/228]\tlr: 1.000e-04, eta: 1:52:44, time: 3.081, data_time: 0.007, memory: 12718, loss_cls: 0.4469, loss_bbox: 0.2754, loss_bbox_rf: 0.3615, loss: 1.0839\n",
            "2021-11-21 00:50:21,212 - mmdet - INFO - Epoch [15][150/228]\tlr: 1.000e-04, eta: 1:52:13, time: 3.314, data_time: 0.008, memory: 12718, loss_cls: 0.4367, loss_bbox: 0.1969, loss_bbox_rf: 0.2612, loss: 0.8948\n",
            "2021-11-21 00:50:53,928 - mmdet - INFO - Epoch [15][160/228]\tlr: 1.000e-04, eta: 1:51:42, time: 3.272, data_time: 0.007, memory: 12718, loss_cls: 0.4414, loss_bbox: 0.2261, loss_bbox_rf: 0.2974, loss: 0.9650\n",
            "2021-11-21 00:51:25,109 - mmdet - INFO - Epoch [15][170/228]\tlr: 1.000e-04, eta: 1:51:11, time: 3.118, data_time: 0.007, memory: 12718, loss_cls: 0.4688, loss_bbox: 0.2485, loss_bbox_rf: 0.3252, loss: 1.0426\n",
            "2021-11-21 00:51:59,124 - mmdet - INFO - Epoch [15][180/228]\tlr: 1.000e-04, eta: 1:50:40, time: 3.401, data_time: 0.008, memory: 12718, loss_cls: 0.4517, loss_bbox: 0.2360, loss_bbox_rf: 0.3115, loss: 0.9991\n",
            "2021-11-21 00:52:30,896 - mmdet - INFO - Epoch [15][190/228]\tlr: 1.000e-04, eta: 1:50:09, time: 3.177, data_time: 0.008, memory: 12718, loss_cls: 0.4571, loss_bbox: 0.2441, loss_bbox_rf: 0.3208, loss: 1.0220\n",
            "2021-11-21 00:52:59,463 - mmdet - INFO - Epoch [15][200/228]\tlr: 1.000e-04, eta: 1:49:35, time: 2.857, data_time: 0.007, memory: 12718, loss_cls: 0.4049, loss_bbox: 0.1877, loss_bbox_rf: 0.2462, loss: 0.8388\n",
            "2021-11-21 00:53:33,471 - mmdet - INFO - Epoch [15][210/228]\tlr: 1.000e-04, eta: 1:49:05, time: 3.401, data_time: 0.008, memory: 12718, loss_cls: 0.4322, loss_bbox: 0.2181, loss_bbox_rf: 0.2895, loss: 0.9398\n",
            "2021-11-21 00:54:06,681 - mmdet - INFO - Epoch [15][220/228]\tlr: 1.000e-04, eta: 1:48:35, time: 3.321, data_time: 0.008, memory: 12718, loss_cls: 0.4103, loss_bbox: 0.2209, loss_bbox_rf: 0.2895, loss: 0.9206\n",
            "2021-11-21 00:54:32,864 - mmdet - INFO - Saving checkpoint at 15 epochs\n"
          ]
        },
        {
          "output_type": "stream",
          "name": "stdout",
          "text": [
            "[>>>>>>>>>>>>>>>>>>>>>>>>>>>>>] 534/534, 3.3 task/s, elapsed: 162s, ETA:     0s"
          ]
        },
        {
          "output_type": "stream",
          "name": "stderr",
          "text": [
            "2021-11-21 00:57:20,168 - mmdet - INFO - Evaluating bbox...\n"
          ]
        },
        {
          "output_type": "stream",
          "name": "stdout",
          "text": [
            "Loading and preparing results...\n",
            "DONE (t=0.23s)\n",
            "creating index...\n",
            "index created!\n",
            "Running per image evaluation...\n",
            "Evaluate annotation type *bbox*\n",
            "DONE (t=60.29s).\n",
            "Accumulating evaluation results...\n"
          ]
        },
        {
          "output_type": "stream",
          "name": "stderr",
          "text": [
            "2021-11-21 00:58:21,799 - mmdet - INFO - \n",
            " Average Precision  (AP) @[ IoU=0.50:0.95 | area=   all | maxDets=100 ] = 0.394\n",
            " Average Precision  (AP) @[ IoU=0.50      | area=   all | maxDets=1000 ] = 0.584\n",
            " Average Precision  (AP) @[ IoU=0.75      | area=   all | maxDets=1000 ] = 0.460\n",
            " Average Precision  (AP) @[ IoU=0.50:0.95 | area= small | maxDets=1000 ] = 0.141\n",
            " Average Precision  (AP) @[ IoU=0.50:0.95 | area=medium | maxDets=1000 ] = 0.192\n",
            " Average Precision  (AP) @[ IoU=0.50:0.95 | area= large | maxDets=1000 ] = 0.506\n",
            " Average Recall     (AR) @[ IoU=0.50:0.95 | area=   all | maxDets=100 ] = 0.424\n",
            " Average Recall     (AR) @[ IoU=0.50:0.95 | area=   all | maxDets=300 ] = 0.424\n",
            " Average Recall     (AR) @[ IoU=0.50:0.95 | area=   all | maxDets=1000 ] = 0.424\n",
            " Average Recall     (AR) @[ IoU=0.50:0.95 | area= small | maxDets=1000 ] = 0.183\n",
            " Average Recall     (AR) @[ IoU=0.50:0.95 | area=medium | maxDets=1000 ] = 0.225\n",
            " Average Recall     (AR) @[ IoU=0.50:0.95 | area= large | maxDets=1000 ] = 0.543\n",
            "\n",
            "2021-11-21 00:58:21,835 - mmdet - INFO - Epoch(val) [15][534]\tbbox_mAP: 0.3940, bbox_mAP_50: 0.5840, bbox_mAP_75: 0.4600, bbox_mAP_s: 0.1410, bbox_mAP_m: 0.1920, bbox_mAP_l: 0.5060, bbox_mAP_copypaste: 0.394 0.584 0.460 0.141 0.192 0.506\n"
          ]
        },
        {
          "output_type": "stream",
          "name": "stdout",
          "text": [
            "DONE (t=0.98s).\n"
          ]
        },
        {
          "output_type": "stream",
          "name": "stderr",
          "text": [
            "2021-11-21 00:58:56,507 - mmdet - INFO - Epoch [16][10/228]\tlr: 1.000e-04, eta: 1:47:24, time: 3.466, data_time: 0.323, memory: 12718, loss_cls: 0.4469, loss_bbox: 0.2134, loss_bbox_rf: 0.2789, loss: 0.9392\n",
            "2021-11-21 00:59:26,308 - mmdet - INFO - Epoch [16][20/228]\tlr: 1.000e-04, eta: 1:46:52, time: 2.980, data_time: 0.008, memory: 12718, loss_cls: 0.3968, loss_bbox: 0.2035, loss_bbox_rf: 0.2666, loss: 0.8670\n",
            "2021-11-21 01:00:00,062 - mmdet - INFO - Epoch [16][30/228]\tlr: 1.000e-04, eta: 1:46:22, time: 3.375, data_time: 0.008, memory: 12718, loss_cls: 0.4364, loss_bbox: 0.2104, loss_bbox_rf: 0.2775, loss: 0.9244\n",
            "2021-11-21 01:00:32,675 - mmdet - INFO - Epoch [16][40/228]\tlr: 1.000e-04, eta: 1:45:51, time: 3.261, data_time: 0.007, memory: 12718, loss_cls: 0.4549, loss_bbox: 0.2327, loss_bbox_rf: 0.3058, loss: 0.9933\n",
            "2021-11-21 01:01:08,941 - mmdet - INFO - Epoch [16][50/228]\tlr: 1.000e-04, eta: 1:45:22, time: 3.627, data_time: 0.008, memory: 12718, loss_cls: 0.4247, loss_bbox: 0.2493, loss_bbox_rf: 0.3298, loss: 1.0037\n",
            "2021-11-21 01:01:42,181 - mmdet - INFO - Epoch [16][60/228]\tlr: 1.000e-04, eta: 1:44:51, time: 3.324, data_time: 0.008, memory: 12718, loss_cls: 0.4537, loss_bbox: 0.2453, loss_bbox_rf: 0.3245, loss: 1.0234\n",
            "2021-11-21 01:02:17,327 - mmdet - INFO - Epoch [16][70/228]\tlr: 1.000e-04, eta: 1:44:22, time: 3.515, data_time: 0.008, memory: 12718, loss_cls: 0.4189, loss_bbox: 0.1896, loss_bbox_rf: 0.2484, loss: 0.8569\n",
            "2021-11-21 01:02:50,751 - mmdet - INFO - Epoch [16][80/228]\tlr: 1.000e-04, eta: 1:43:51, time: 3.342, data_time: 0.008, memory: 12718, loss_cls: 0.4387, loss_bbox: 0.2365, loss_bbox_rf: 0.3095, loss: 0.9847\n",
            "2021-11-21 01:03:22,172 - mmdet - INFO - Epoch [16][90/228]\tlr: 1.000e-04, eta: 1:43:19, time: 3.142, data_time: 0.007, memory: 12718, loss_cls: 0.4818, loss_bbox: 0.2497, loss_bbox_rf: 0.3306, loss: 1.0621\n",
            "2021-11-21 01:03:56,478 - mmdet - INFO - Epoch [16][100/228]\tlr: 1.000e-04, eta: 1:42:49, time: 3.431, data_time: 0.008, memory: 12718, loss_cls: 0.4550, loss_bbox: 0.2100, loss_bbox_rf: 0.2768, loss: 0.9418\n",
            "2021-11-21 01:04:28,807 - mmdet - INFO - Epoch [16][110/228]\tlr: 1.000e-04, eta: 1:42:18, time: 3.233, data_time: 0.008, memory: 12718, loss_cls: 0.4245, loss_bbox: 0.2144, loss_bbox_rf: 0.2801, loss: 0.9191\n",
            "2021-11-21 01:04:58,940 - mmdet - INFO - Epoch [16][120/228]\tlr: 1.000e-04, eta: 1:41:46, time: 3.013, data_time: 0.007, memory: 12718, loss_cls: 0.4544, loss_bbox: 0.2314, loss_bbox_rf: 0.3026, loss: 0.9883\n",
            "2021-11-21 01:05:31,615 - mmdet - INFO - Epoch [16][130/228]\tlr: 1.000e-04, eta: 1:41:15, time: 3.268, data_time: 0.008, memory: 12718, loss_cls: 0.4519, loss_bbox: 0.2017, loss_bbox_rf: 0.2635, loss: 0.9172\n",
            "2021-11-21 01:06:02,274 - mmdet - INFO - Epoch [16][140/228]\tlr: 1.000e-04, eta: 1:40:42, time: 3.066, data_time: 0.007, memory: 12718, loss_cls: 0.4346, loss_bbox: 0.2371, loss_bbox_rf: 0.3122, loss: 0.9840\n",
            "2021-11-21 01:06:35,412 - mmdet - INFO - Epoch [16][150/228]\tlr: 1.000e-04, eta: 1:40:12, time: 3.314, data_time: 0.008, memory: 12718, loss_cls: 0.4419, loss_bbox: 0.2431, loss_bbox_rf: 0.3185, loss: 1.0035\n",
            "2021-11-21 01:07:08,119 - mmdet - INFO - Epoch [16][160/228]\tlr: 1.000e-04, eta: 1:39:41, time: 3.271, data_time: 0.008, memory: 12718, loss_cls: 0.4553, loss_bbox: 0.2616, loss_bbox_rf: 0.3456, loss: 1.0625\n",
            "2021-11-21 01:07:39,749 - mmdet - INFO - Epoch [16][170/228]\tlr: 1.000e-04, eta: 1:39:09, time: 3.163, data_time: 0.007, memory: 12718, loss_cls: 0.4487, loss_bbox: 0.2528, loss_bbox_rf: 0.3320, loss: 1.0335\n",
            "2021-11-21 01:08:13,558 - mmdet - INFO - Epoch [16][180/228]\tlr: 1.000e-04, eta: 1:38:39, time: 3.381, data_time: 0.008, memory: 12718, loss_cls: 0.4503, loss_bbox: 0.2265, loss_bbox_rf: 0.2982, loss: 0.9751\n",
            "2021-11-21 01:08:45,225 - mmdet - INFO - Epoch [16][190/228]\tlr: 1.000e-04, eta: 1:38:07, time: 3.167, data_time: 0.008, memory: 12718, loss_cls: 0.4437, loss_bbox: 0.2111, loss_bbox_rf: 0.2790, loss: 0.9337\n",
            "2021-11-21 01:09:13,744 - mmdet - INFO - Epoch [16][200/228]\tlr: 1.000e-04, eta: 1:37:34, time: 2.852, data_time: 0.007, memory: 12718, loss_cls: 0.4219, loss_bbox: 0.2021, loss_bbox_rf: 0.2670, loss: 0.8910\n",
            "2021-11-21 01:09:48,148 - mmdet - INFO - Epoch [16][210/228]\tlr: 1.000e-04, eta: 1:37:04, time: 3.440, data_time: 0.007, memory: 12718, loss_cls: 0.4596, loss_bbox: 0.2610, loss_bbox_rf: 0.3427, loss: 1.0633\n",
            "2021-11-21 01:10:21,441 - mmdet - INFO - Epoch [16][220/228]\tlr: 1.000e-04, eta: 1:36:33, time: 3.329, data_time: 0.008, memory: 12718, loss_cls: 0.4796, loss_bbox: 0.2486, loss_bbox_rf: 0.3275, loss: 1.0557\n"
          ]
        },
        {
          "output_type": "stream",
          "name": "stdout",
          "text": [
            "[>>>>>>>>>>>>>>>>>>>>>>>>>>>>>] 534/534, 3.3 task/s, elapsed: 162s, ETA:     0s"
          ]
        },
        {
          "output_type": "stream",
          "name": "stderr",
          "text": [
            "2021-11-21 01:13:30,094 - mmdet - INFO - Evaluating bbox...\n"
          ]
        },
        {
          "output_type": "stream",
          "name": "stdout",
          "text": [
            "Loading and preparing results...\n",
            "DONE (t=0.04s)\n",
            "creating index...\n",
            "index created!\n",
            "Running per image evaluation...\n",
            "Evaluate annotation type *bbox*\n",
            "DONE (t=59.82s).\n",
            "Accumulating evaluation results...\n"
          ]
        },
        {
          "output_type": "stream",
          "name": "stderr",
          "text": [
            "2021-11-21 01:14:31,198 - mmdet - INFO - \n",
            " Average Precision  (AP) @[ IoU=0.50:0.95 | area=   all | maxDets=100 ] = 0.395\n",
            " Average Precision  (AP) @[ IoU=0.50      | area=   all | maxDets=1000 ] = 0.586\n",
            " Average Precision  (AP) @[ IoU=0.75      | area=   all | maxDets=1000 ] = 0.461\n",
            " Average Precision  (AP) @[ IoU=0.50:0.95 | area= small | maxDets=1000 ] = 0.143\n",
            " Average Precision  (AP) @[ IoU=0.50:0.95 | area=medium | maxDets=1000 ] = 0.193\n",
            " Average Precision  (AP) @[ IoU=0.50:0.95 | area= large | maxDets=1000 ] = 0.507\n",
            " Average Recall     (AR) @[ IoU=0.50:0.95 | area=   all | maxDets=100 ] = 0.425\n",
            " Average Recall     (AR) @[ IoU=0.50:0.95 | area=   all | maxDets=300 ] = 0.425\n",
            " Average Recall     (AR) @[ IoU=0.50:0.95 | area=   all | maxDets=1000 ] = 0.425\n",
            " Average Recall     (AR) @[ IoU=0.50:0.95 | area= small | maxDets=1000 ] = 0.188\n",
            " Average Recall     (AR) @[ IoU=0.50:0.95 | area=medium | maxDets=1000 ] = 0.227\n",
            " Average Recall     (AR) @[ IoU=0.50:0.95 | area= large | maxDets=1000 ] = 0.544\n",
            "\n",
            "2021-11-21 01:14:31,236 - mmdet - INFO - Epoch(val) [16][534]\tbbox_mAP: 0.3950, bbox_mAP_50: 0.5860, bbox_mAP_75: 0.4610, bbox_mAP_s: 0.1430, bbox_mAP_m: 0.1930, bbox_mAP_l: 0.5070, bbox_mAP_copypaste: 0.395 0.586 0.461 0.143 0.193 0.507\n"
          ]
        },
        {
          "output_type": "stream",
          "name": "stdout",
          "text": [
            "DONE (t=0.94s).\n"
          ]
        },
        {
          "output_type": "stream",
          "name": "stderr",
          "text": [
            "2021-11-21 01:15:06,162 - mmdet - INFO - Epoch [17][10/228]\tlr: 1.000e-05, eta: 1:35:25, time: 3.491, data_time: 0.373, memory: 12718, loss_cls: 0.4711, loss_bbox: 0.2167, loss_bbox_rf: 0.2848, loss: 0.9726\n",
            "2021-11-21 01:15:35,915 - mmdet - INFO - Epoch [17][20/228]\tlr: 1.000e-05, eta: 1:34:52, time: 2.975, data_time: 0.008, memory: 12718, loss_cls: 0.4334, loss_bbox: 0.2116, loss_bbox_rf: 0.2767, loss: 0.9217\n",
            "2021-11-21 01:16:09,983 - mmdet - INFO - Epoch [17][30/228]\tlr: 1.000e-05, eta: 1:34:22, time: 3.407, data_time: 0.008, memory: 12718, loss_cls: 0.4654, loss_bbox: 0.2530, loss_bbox_rf: 0.3328, loss: 1.0512\n",
            "2021-11-21 01:16:42,288 - mmdet - INFO - Epoch [17][40/228]\tlr: 1.000e-05, eta: 1:33:51, time: 3.231, data_time: 0.007, memory: 12718, loss_cls: 0.4469, loss_bbox: 0.2177, loss_bbox_rf: 0.2860, loss: 0.9507\n",
            "2021-11-21 01:17:18,524 - mmdet - INFO - Epoch [17][50/228]\tlr: 1.000e-05, eta: 1:33:22, time: 3.624, data_time: 0.008, memory: 12718, loss_cls: 0.4771, loss_bbox: 0.2551, loss_bbox_rf: 0.3361, loss: 1.0682\n",
            "2021-11-21 01:17:51,858 - mmdet - INFO - Epoch [17][60/228]\tlr: 1.000e-05, eta: 1:32:51, time: 3.333, data_time: 0.007, memory: 12718, loss_cls: 0.4559, loss_bbox: 0.2850, loss_bbox_rf: 0.3758, loss: 1.1166\n",
            "2021-11-21 01:18:27,204 - mmdet - INFO - Epoch [17][70/228]\tlr: 1.000e-05, eta: 1:32:21, time: 3.535, data_time: 0.008, memory: 12718, loss_cls: 0.4416, loss_bbox: 0.2204, loss_bbox_rf: 0.2882, loss: 0.9502\n",
            "2021-11-21 01:19:00,643 - mmdet - INFO - Epoch [17][80/228]\tlr: 1.000e-05, eta: 1:31:50, time: 3.344, data_time: 0.008, memory: 12718, loss_cls: 0.4486, loss_bbox: 0.2594, loss_bbox_rf: 0.3426, loss: 1.0506\n",
            "2021-11-21 01:19:32,253 - mmdet - INFO - Epoch [17][90/228]\tlr: 1.000e-05, eta: 1:31:19, time: 3.161, data_time: 0.007, memory: 12718, loss_cls: 0.4308, loss_bbox: 0.2069, loss_bbox_rf: 0.2715, loss: 0.9092\n",
            "2021-11-21 01:20:06,532 - mmdet - INFO - Epoch [17][100/228]\tlr: 1.000e-05, eta: 1:30:48, time: 3.428, data_time: 0.008, memory: 12718, loss_cls: 0.4473, loss_bbox: 0.1962, loss_bbox_rf: 0.2586, loss: 0.9021\n",
            "2021-11-21 01:20:38,979 - mmdet - INFO - Epoch [17][110/228]\tlr: 1.000e-05, eta: 1:30:17, time: 3.245, data_time: 0.008, memory: 12718, loss_cls: 0.4713, loss_bbox: 0.2254, loss_bbox_rf: 0.2971, loss: 0.9938\n",
            "2021-11-21 01:21:09,102 - mmdet - INFO - Epoch [17][120/228]\tlr: 1.000e-05, eta: 1:29:45, time: 3.012, data_time: 0.007, memory: 12718, loss_cls: 0.4754, loss_bbox: 0.2430, loss_bbox_rf: 0.3210, loss: 1.0394\n",
            "2021-11-21 01:21:41,768 - mmdet - INFO - Epoch [17][130/228]\tlr: 1.000e-05, eta: 1:29:14, time: 3.267, data_time: 0.008, memory: 12718, loss_cls: 0.4401, loss_bbox: 0.2311, loss_bbox_rf: 0.3033, loss: 0.9745\n",
            "2021-11-21 01:22:12,497 - mmdet - INFO - Epoch [17][140/228]\tlr: 1.000e-05, eta: 1:28:42, time: 3.073, data_time: 0.007, memory: 12718, loss_cls: 0.4188, loss_bbox: 0.1799, loss_bbox_rf: 0.2369, loss: 0.8357\n",
            "2021-11-21 01:22:45,957 - mmdet - INFO - Epoch [17][150/228]\tlr: 1.000e-05, eta: 1:28:11, time: 3.346, data_time: 0.008, memory: 12718, loss_cls: 0.4753, loss_bbox: 0.2563, loss_bbox_rf: 0.3381, loss: 1.0697\n",
            "2021-11-21 01:23:18,628 - mmdet - INFO - Epoch [17][160/228]\tlr: 1.000e-05, eta: 1:27:40, time: 3.267, data_time: 0.008, memory: 12718, loss_cls: 0.4759, loss_bbox: 0.2767, loss_bbox_rf: 0.3651, loss: 1.1177\n",
            "2021-11-21 01:23:49,778 - mmdet - INFO - Epoch [17][170/228]\tlr: 1.000e-05, eta: 1:27:08, time: 3.115, data_time: 0.007, memory: 12718, loss_cls: 0.4686, loss_bbox: 0.2761, loss_bbox_rf: 0.3632, loss: 1.1080\n",
            "2021-11-21 01:24:23,542 - mmdet - INFO - Epoch [17][180/228]\tlr: 1.000e-05, eta: 1:26:37, time: 3.376, data_time: 0.008, memory: 12718, loss_cls: 0.4225, loss_bbox: 0.1714, loss_bbox_rf: 0.2247, loss: 0.8186\n",
            "2021-11-21 01:24:55,213 - mmdet - INFO - Epoch [17][190/228]\tlr: 1.000e-05, eta: 1:26:06, time: 3.167, data_time: 0.008, memory: 12718, loss_cls: 0.4654, loss_bbox: 0.2771, loss_bbox_rf: 0.3652, loss: 1.1078\n",
            "2021-11-21 01:25:24,041 - mmdet - INFO - Epoch [17][200/228]\tlr: 1.000e-05, eta: 1:25:33, time: 2.883, data_time: 0.007, memory: 12718, loss_cls: 0.4548, loss_bbox: 0.2230, loss_bbox_rf: 0.2929, loss: 0.9707\n",
            "2021-11-21 01:25:58,412 - mmdet - INFO - Epoch [17][210/228]\tlr: 1.000e-05, eta: 1:25:02, time: 3.437, data_time: 0.008, memory: 12718, loss_cls: 0.4557, loss_bbox: 0.2504, loss_bbox_rf: 0.3323, loss: 1.0384\n",
            "2021-11-21 01:26:31,624 - mmdet - INFO - Epoch [17][220/228]\tlr: 1.000e-05, eta: 1:24:31, time: 3.321, data_time: 0.008, memory: 12718, loss_cls: 0.4776, loss_bbox: 0.2490, loss_bbox_rf: 0.3284, loss: 1.0550\n"
          ]
        },
        {
          "output_type": "stream",
          "name": "stdout",
          "text": [
            "[>>>>>>>>>>>>>>>>>>>>>>>>>>>>>] 534/534, 3.3 task/s, elapsed: 163s, ETA:     0s"
          ]
        },
        {
          "output_type": "stream",
          "name": "stderr",
          "text": [
            "2021-11-21 01:29:41,350 - mmdet - INFO - Evaluating bbox...\n"
          ]
        },
        {
          "output_type": "stream",
          "name": "stdout",
          "text": [
            "Loading and preparing results...\n",
            "DONE (t=0.22s)\n",
            "creating index...\n",
            "index created!\n",
            "Running per image evaluation...\n",
            "Evaluate annotation type *bbox*\n",
            "DONE (t=60.67s).\n",
            "Accumulating evaluation results...\n"
          ]
        },
        {
          "output_type": "stream",
          "name": "stderr",
          "text": [
            "2021-11-21 01:30:43,357 - mmdet - INFO - \n",
            " Average Precision  (AP) @[ IoU=0.50:0.95 | area=   all | maxDets=100 ] = 0.397\n",
            " Average Precision  (AP) @[ IoU=0.50      | area=   all | maxDets=1000 ] = 0.588\n",
            " Average Precision  (AP) @[ IoU=0.75      | area=   all | maxDets=1000 ] = 0.462\n",
            " Average Precision  (AP) @[ IoU=0.50:0.95 | area= small | maxDets=1000 ] = 0.143\n",
            " Average Precision  (AP) @[ IoU=0.50:0.95 | area=medium | maxDets=1000 ] = 0.194\n",
            " Average Precision  (AP) @[ IoU=0.50:0.95 | area= large | maxDets=1000 ] = 0.510\n",
            " Average Recall     (AR) @[ IoU=0.50:0.95 | area=   all | maxDets=100 ] = 0.427\n",
            " Average Recall     (AR) @[ IoU=0.50:0.95 | area=   all | maxDets=300 ] = 0.427\n",
            " Average Recall     (AR) @[ IoU=0.50:0.95 | area=   all | maxDets=1000 ] = 0.427\n",
            " Average Recall     (AR) @[ IoU=0.50:0.95 | area= small | maxDets=1000 ] = 0.187\n",
            " Average Recall     (AR) @[ IoU=0.50:0.95 | area=medium | maxDets=1000 ] = 0.228\n",
            " Average Recall     (AR) @[ IoU=0.50:0.95 | area= large | maxDets=1000 ] = 0.547\n",
            "\n",
            "2021-11-21 01:30:43,391 - mmdet - INFO - Epoch(val) [17][534]\tbbox_mAP: 0.3970, bbox_mAP_50: 0.5880, bbox_mAP_75: 0.4620, bbox_mAP_s: 0.1430, bbox_mAP_m: 0.1940, bbox_mAP_l: 0.5100, bbox_mAP_copypaste: 0.397 0.588 0.462 0.143 0.194 0.510\n"
          ]
        },
        {
          "output_type": "stream",
          "name": "stdout",
          "text": [
            "DONE (t=0.99s).\n"
          ]
        },
        {
          "output_type": "stream",
          "name": "stderr",
          "text": [
            "2021-11-21 01:31:18,471 - mmdet - INFO - Epoch [18][10/228]\tlr: 1.000e-05, eta: 1:23:26, time: 3.506, data_time: 0.405, memory: 12718, loss_cls: 0.4405, loss_bbox: 0.2548, loss_bbox_rf: 0.3361, loss: 1.0314\n",
            "2021-11-21 01:31:48,338 - mmdet - INFO - Epoch [18][20/228]\tlr: 1.000e-05, eta: 1:22:53, time: 2.987, data_time: 0.008, memory: 12718, loss_cls: 0.4329, loss_bbox: 0.2138, loss_bbox_rf: 0.2803, loss: 0.9271\n",
            "2021-11-21 01:32:21,490 - mmdet - INFO - Epoch [18][30/228]\tlr: 1.000e-05, eta: 1:22:22, time: 3.315, data_time: 0.008, memory: 12718, loss_cls: 0.4501, loss_bbox: 0.2176, loss_bbox_rf: 0.2880, loss: 0.9557\n",
            "2021-11-21 01:32:53,795 - mmdet - INFO - Epoch [18][40/228]\tlr: 1.000e-05, eta: 1:21:51, time: 3.230, data_time: 0.008, memory: 12718, loss_cls: 0.4487, loss_bbox: 0.2288, loss_bbox_rf: 0.3015, loss: 0.9790\n",
            "2021-11-21 01:33:29,867 - mmdet - INFO - Epoch [18][50/228]\tlr: 1.000e-05, eta: 1:21:21, time: 3.607, data_time: 0.008, memory: 12718, loss_cls: 0.4745, loss_bbox: 0.2398, loss_bbox_rf: 0.3163, loss: 1.0307\n",
            "2021-11-21 01:34:03,145 - mmdet - INFO - Epoch [18][60/228]\tlr: 1.000e-05, eta: 1:20:50, time: 3.328, data_time: 0.008, memory: 12718, loss_cls: 0.4982, loss_bbox: 0.2513, loss_bbox_rf: 0.3309, loss: 1.0804\n",
            "2021-11-21 01:34:38,549 - mmdet - INFO - Epoch [18][70/228]\tlr: 1.000e-05, eta: 1:20:20, time: 3.540, data_time: 0.008, memory: 12718, loss_cls: 0.4512, loss_bbox: 0.2581, loss_bbox_rf: 0.3402, loss: 1.0496\n",
            "2021-11-21 01:35:11,805 - mmdet - INFO - Epoch [18][80/228]\tlr: 1.000e-05, eta: 1:19:49, time: 3.326, data_time: 0.008, memory: 12718, loss_cls: 0.4748, loss_bbox: 0.2450, loss_bbox_rf: 0.3217, loss: 1.0415\n",
            "2021-11-21 01:35:43,387 - mmdet - INFO - Epoch [18][90/228]\tlr: 1.000e-05, eta: 1:19:18, time: 3.158, data_time: 0.007, memory: 12718, loss_cls: 0.4746, loss_bbox: 0.2501, loss_bbox_rf: 0.3289, loss: 1.0536\n",
            "2021-11-21 01:36:17,706 - mmdet - INFO - Epoch [18][100/228]\tlr: 1.000e-05, eta: 1:18:47, time: 3.432, data_time: 0.007, memory: 12718, loss_cls: 0.4705, loss_bbox: 0.2104, loss_bbox_rf: 0.2777, loss: 0.9587\n",
            "2021-11-21 01:36:49,739 - mmdet - INFO - Epoch [18][110/228]\tlr: 1.000e-05, eta: 1:18:16, time: 3.203, data_time: 0.008, memory: 12718, loss_cls: 0.4426, loss_bbox: 0.2539, loss_bbox_rf: 0.3344, loss: 1.0309\n",
            "2021-11-21 01:37:19,884 - mmdet - INFO - Epoch [18][120/228]\tlr: 1.000e-05, eta: 1:17:44, time: 3.014, data_time: 0.007, memory: 12718, loss_cls: 0.4801, loss_bbox: 0.2426, loss_bbox_rf: 0.3196, loss: 1.0422\n",
            "2021-11-21 01:37:52,573 - mmdet - INFO - Epoch [18][130/228]\tlr: 1.000e-05, eta: 1:17:12, time: 3.269, data_time: 0.008, memory: 12718, loss_cls: 0.4551, loss_bbox: 0.2257, loss_bbox_rf: 0.2982, loss: 0.9790\n",
            "2021-11-21 01:38:23,349 - mmdet - INFO - Epoch [18][140/228]\tlr: 1.000e-05, eta: 1:16:41, time: 3.078, data_time: 0.007, memory: 12718, loss_cls: 0.4792, loss_bbox: 0.2508, loss_bbox_rf: 0.3305, loss: 1.0605\n",
            "2021-11-21 01:38:56,526 - mmdet - INFO - Epoch [18][150/228]\tlr: 1.000e-05, eta: 1:16:10, time: 3.318, data_time: 0.008, memory: 12718, loss_cls: 0.4391, loss_bbox: 0.2548, loss_bbox_rf: 0.3371, loss: 1.0309\n",
            "2021-11-21 01:39:28,813 - mmdet - INFO - Epoch [18][160/228]\tlr: 1.000e-05, eta: 1:15:38, time: 3.229, data_time: 0.008, memory: 12718, loss_cls: 0.4711, loss_bbox: 0.2567, loss_bbox_rf: 0.3387, loss: 1.0664\n",
            "2021-11-21 01:40:00,034 - mmdet - INFO - Epoch [18][170/228]\tlr: 1.000e-05, eta: 1:15:06, time: 3.122, data_time: 0.008, memory: 12718, loss_cls: 0.4548, loss_bbox: 0.2026, loss_bbox_rf: 0.2664, loss: 0.9238\n",
            "2021-11-21 01:40:34,067 - mmdet - INFO - Epoch [18][180/228]\tlr: 1.000e-05, eta: 1:14:36, time: 3.403, data_time: 0.008, memory: 12718, loss_cls: 0.4692, loss_bbox: 0.2796, loss_bbox_rf: 0.3691, loss: 1.1179\n",
            "2021-11-21 01:41:05,826 - mmdet - INFO - Epoch [18][190/228]\tlr: 1.000e-05, eta: 1:14:04, time: 3.176, data_time: 0.008, memory: 12718, loss_cls: 0.4208, loss_bbox: 0.2108, loss_bbox_rf: 0.2747, loss: 0.9062\n",
            "2021-11-21 01:41:34,207 - mmdet - INFO - Epoch [18][200/228]\tlr: 1.000e-05, eta: 1:13:31, time: 2.838, data_time: 0.007, memory: 12718, loss_cls: 0.4216, loss_bbox: 0.1963, loss_bbox_rf: 0.2590, loss: 0.8769\n",
            "2021-11-21 01:42:08,718 - mmdet - INFO - Epoch [18][210/228]\tlr: 1.000e-05, eta: 1:13:01, time: 3.451, data_time: 0.008, memory: 12718, loss_cls: 0.4430, loss_bbox: 0.2328, loss_bbox_rf: 0.3063, loss: 0.9820\n",
            "2021-11-21 01:42:41,890 - mmdet - INFO - Epoch [18][220/228]\tlr: 1.000e-05, eta: 1:12:30, time: 3.317, data_time: 0.008, memory: 12718, loss_cls: 0.4554, loss_bbox: 0.2310, loss_bbox_rf: 0.3044, loss: 0.9907\n",
            "2021-11-21 01:43:08,156 - mmdet - INFO - Saving checkpoint at 18 epochs\n"
          ]
        },
        {
          "output_type": "stream",
          "name": "stdout",
          "text": [
            "[>>>>>>>>>>>>>>>>>>>>>>>>>>>>>] 534/534, 3.3 task/s, elapsed: 163s, ETA:     0s"
          ]
        },
        {
          "output_type": "stream",
          "name": "stderr",
          "text": [
            "2021-11-21 01:45:56,291 - mmdet - INFO - Evaluating bbox...\n"
          ]
        },
        {
          "output_type": "stream",
          "name": "stdout",
          "text": [
            "Loading and preparing results...\n",
            "DONE (t=0.05s)\n",
            "creating index...\n",
            "index created!\n",
            "Running per image evaluation...\n",
            "Evaluate annotation type *bbox*\n",
            "DONE (t=60.56s).\n",
            "Accumulating evaluation results...\n"
          ]
        },
        {
          "output_type": "stream",
          "name": "stderr",
          "text": [
            "2021-11-21 01:46:58,164 - mmdet - INFO - \n",
            " Average Precision  (AP) @[ IoU=0.50:0.95 | area=   all | maxDets=100 ] = 0.398\n",
            " Average Precision  (AP) @[ IoU=0.50      | area=   all | maxDets=1000 ] = 0.588\n",
            " Average Precision  (AP) @[ IoU=0.75      | area=   all | maxDets=1000 ] = 0.462\n",
            " Average Precision  (AP) @[ IoU=0.50:0.95 | area= small | maxDets=1000 ] = 0.143\n",
            " Average Precision  (AP) @[ IoU=0.50:0.95 | area=medium | maxDets=1000 ] = 0.195\n",
            " Average Precision  (AP) @[ IoU=0.50:0.95 | area= large | maxDets=1000 ] = 0.511\n",
            " Average Recall     (AR) @[ IoU=0.50:0.95 | area=   all | maxDets=100 ] = 0.428\n",
            " Average Recall     (AR) @[ IoU=0.50:0.95 | area=   all | maxDets=300 ] = 0.428\n",
            " Average Recall     (AR) @[ IoU=0.50:0.95 | area=   all | maxDets=1000 ] = 0.428\n",
            " Average Recall     (AR) @[ IoU=0.50:0.95 | area= small | maxDets=1000 ] = 0.184\n",
            " Average Recall     (AR) @[ IoU=0.50:0.95 | area=medium | maxDets=1000 ] = 0.228\n",
            " Average Recall     (AR) @[ IoU=0.50:0.95 | area= large | maxDets=1000 ] = 0.548\n",
            "\n",
            "2021-11-21 01:46:58,200 - mmdet - INFO - Epoch(val) [18][534]\tbbox_mAP: 0.3980, bbox_mAP_50: 0.5880, bbox_mAP_75: 0.4620, bbox_mAP_s: 0.1430, bbox_mAP_m: 0.1950, bbox_mAP_l: 0.5110, bbox_mAP_copypaste: 0.398 0.588 0.462 0.143 0.195 0.511\n"
          ]
        },
        {
          "output_type": "stream",
          "name": "stdout",
          "text": [
            "DONE (t=0.96s).\n"
          ]
        },
        {
          "output_type": "stream",
          "name": "stderr",
          "text": [
            "2021-11-21 01:47:33,169 - mmdet - INFO - Epoch [19][10/228]\tlr: 1.000e-05, eta: 1:11:26, time: 3.495, data_time: 0.388, memory: 12718, loss_cls: 0.4445, loss_bbox: 0.2010, loss_bbox_rf: 0.2667, loss: 0.9123\n",
            "2021-11-21 01:48:02,957 - mmdet - INFO - Epoch [19][20/228]\tlr: 1.000e-05, eta: 1:10:53, time: 2.979, data_time: 0.008, memory: 12718, loss_cls: 0.4872, loss_bbox: 0.2566, loss_bbox_rf: 0.3368, loss: 1.0805\n",
            "2021-11-21 01:48:36,612 - mmdet - INFO - Epoch [19][30/228]\tlr: 1.000e-05, eta: 1:10:23, time: 3.365, data_time: 0.008, memory: 12718, loss_cls: 0.4581, loss_bbox: 0.2310, loss_bbox_rf: 0.3038, loss: 0.9928\n",
            "2021-11-21 01:49:08,935 - mmdet - INFO - Epoch [19][40/228]\tlr: 1.000e-05, eta: 1:09:51, time: 3.232, data_time: 0.008, memory: 12718, loss_cls: 0.4488, loss_bbox: 0.2472, loss_bbox_rf: 0.3277, loss: 1.0237\n",
            "2021-11-21 01:49:45,188 - mmdet - INFO - Epoch [19][50/228]\tlr: 1.000e-05, eta: 1:09:21, time: 3.625, data_time: 0.009, memory: 12718, loss_cls: 0.4765, loss_bbox: 0.2367, loss_bbox_rf: 0.3137, loss: 1.0268\n",
            "2021-11-21 01:50:18,471 - mmdet - INFO - Epoch [19][60/228]\tlr: 1.000e-05, eta: 1:08:50, time: 3.328, data_time: 0.008, memory: 12718, loss_cls: 0.4033, loss_bbox: 0.1791, loss_bbox_rf: 0.2361, loss: 0.8185\n",
            "2021-11-21 01:50:53,804 - mmdet - INFO - Epoch [19][70/228]\tlr: 1.000e-05, eta: 1:08:20, time: 3.533, data_time: 0.008, memory: 12718, loss_cls: 0.5112, loss_bbox: 0.2566, loss_bbox_rf: 0.3377, loss: 1.1055\n",
            "2021-11-21 01:51:27,012 - mmdet - INFO - Epoch [19][80/228]\tlr: 1.000e-05, eta: 1:07:49, time: 3.321, data_time: 0.008, memory: 12718, loss_cls: 0.4708, loss_bbox: 0.2346, loss_bbox_rf: 0.3109, loss: 1.0163\n",
            "2021-11-21 01:51:58,636 - mmdet - INFO - Epoch [19][90/228]\tlr: 1.000e-05, eta: 1:07:17, time: 3.162, data_time: 0.007, memory: 12718, loss_cls: 0.4730, loss_bbox: 0.2772, loss_bbox_rf: 0.3665, loss: 1.1167\n",
            "2021-11-21 01:52:32,397 - mmdet - INFO - Epoch [19][100/228]\tlr: 1.000e-05, eta: 1:06:46, time: 3.376, data_time: 0.008, memory: 12718, loss_cls: 0.4559, loss_bbox: 0.2216, loss_bbox_rf: 0.2928, loss: 0.9703\n",
            "2021-11-21 01:53:04,783 - mmdet - INFO - Epoch [19][110/228]\tlr: 1.000e-05, eta: 1:06:15, time: 3.239, data_time: 0.008, memory: 12718, loss_cls: 0.4723, loss_bbox: 0.2209, loss_bbox_rf: 0.2897, loss: 0.9830\n",
            "2021-11-21 01:53:34,919 - mmdet - INFO - Epoch [19][120/228]\tlr: 1.000e-05, eta: 1:05:43, time: 3.014, data_time: 0.008, memory: 12718, loss_cls: 0.4228, loss_bbox: 0.2245, loss_bbox_rf: 0.2986, loss: 0.9458\n",
            "2021-11-21 01:54:07,543 - mmdet - INFO - Epoch [19][130/228]\tlr: 1.000e-05, eta: 1:05:11, time: 3.262, data_time: 0.008, memory: 12718, loss_cls: 0.4769, loss_bbox: 0.2817, loss_bbox_rf: 0.3728, loss: 1.1314\n",
            "2021-11-21 01:54:38,515 - mmdet - INFO - Epoch [19][140/228]\tlr: 1.000e-05, eta: 1:04:40, time: 3.097, data_time: 0.008, memory: 12718, loss_cls: 0.4724, loss_bbox: 0.2892, loss_bbox_rf: 0.3851, loss: 1.1467\n",
            "2021-11-21 01:55:11,864 - mmdet - INFO - Epoch [19][150/228]\tlr: 1.000e-05, eta: 1:04:09, time: 3.335, data_time: 0.008, memory: 12718, loss_cls: 0.4491, loss_bbox: 0.2370, loss_bbox_rf: 0.3118, loss: 0.9979\n",
            "2021-11-21 01:55:44,568 - mmdet - INFO - Epoch [19][160/228]\tlr: 1.000e-05, eta: 1:03:37, time: 3.270, data_time: 0.008, memory: 12718, loss_cls: 0.4279, loss_bbox: 0.1857, loss_bbox_rf: 0.2446, loss: 0.8583\n",
            "2021-11-21 01:56:15,594 - mmdet - INFO - Epoch [19][170/228]\tlr: 1.000e-05, eta: 1:03:05, time: 3.103, data_time: 0.008, memory: 12718, loss_cls: 0.4787, loss_bbox: 0.2407, loss_bbox_rf: 0.3178, loss: 1.0372\n",
            "2021-11-21 01:56:49,404 - mmdet - INFO - Epoch [19][180/228]\tlr: 1.000e-05, eta: 1:02:34, time: 3.381, data_time: 0.008, memory: 12718, loss_cls: 0.4402, loss_bbox: 0.2188, loss_bbox_rf: 0.2888, loss: 0.9478\n",
            "2021-11-21 01:57:21,132 - mmdet - INFO - Epoch [19][190/228]\tlr: 1.000e-05, eta: 1:02:03, time: 3.173, data_time: 0.008, memory: 12718, loss_cls: 0.4719, loss_bbox: 0.2665, loss_bbox_rf: 0.3508, loss: 1.0892\n",
            "2021-11-21 01:57:49,739 - mmdet - INFO - Epoch [19][200/228]\tlr: 1.000e-05, eta: 1:01:30, time: 2.861, data_time: 0.007, memory: 12718, loss_cls: 0.4564, loss_bbox: 0.2573, loss_bbox_rf: 0.3377, loss: 1.0515\n",
            "2021-11-21 01:58:23,371 - mmdet - INFO - Epoch [19][210/228]\tlr: 1.000e-05, eta: 1:00:59, time: 3.363, data_time: 0.008, memory: 12718, loss_cls: 0.4752, loss_bbox: 0.2918, loss_bbox_rf: 0.3855, loss: 1.1525\n",
            "2021-11-21 01:58:56,565 - mmdet - INFO - Epoch [19][220/228]\tlr: 1.000e-05, eta: 1:00:28, time: 3.319, data_time: 0.008, memory: 12718, loss_cls: 0.4618, loss_bbox: 0.2865, loss_bbox_rf: 0.3791, loss: 1.1274\n"
          ]
        },
        {
          "output_type": "stream",
          "name": "stdout",
          "text": [
            "[>>>>>>>>>>>>>>>>>>>>>>>>>>>>>] 534/534, 3.3 task/s, elapsed: 163s, ETA:     0s"
          ]
        },
        {
          "output_type": "stream",
          "name": "stderr",
          "text": [
            "2021-11-21 02:02:06,351 - mmdet - INFO - Evaluating bbox...\n"
          ]
        },
        {
          "output_type": "stream",
          "name": "stdout",
          "text": [
            "Loading and preparing results...\n",
            "DONE (t=0.23s)\n",
            "creating index...\n",
            "index created!\n",
            "Running per image evaluation...\n",
            "Evaluate annotation type *bbox*\n",
            "DONE (t=60.00s).\n",
            "Accumulating evaluation results...\n"
          ]
        },
        {
          "output_type": "stream",
          "name": "stderr",
          "text": [
            "2021-11-21 02:03:07,661 - mmdet - INFO - \n",
            " Average Precision  (AP) @[ IoU=0.50:0.95 | area=   all | maxDets=100 ] = 0.399\n",
            " Average Precision  (AP) @[ IoU=0.50      | area=   all | maxDets=1000 ] = 0.591\n",
            " Average Precision  (AP) @[ IoU=0.75      | area=   all | maxDets=1000 ] = 0.465\n",
            " Average Precision  (AP) @[ IoU=0.50:0.95 | area= small | maxDets=1000 ] = 0.142\n",
            " Average Precision  (AP) @[ IoU=0.50:0.95 | area=medium | maxDets=1000 ] = 0.195\n",
            " Average Precision  (AP) @[ IoU=0.50:0.95 | area= large | maxDets=1000 ] = 0.512\n",
            " Average Recall     (AR) @[ IoU=0.50:0.95 | area=   all | maxDets=100 ] = 0.428\n",
            " Average Recall     (AR) @[ IoU=0.50:0.95 | area=   all | maxDets=300 ] = 0.428\n",
            " Average Recall     (AR) @[ IoU=0.50:0.95 | area=   all | maxDets=1000 ] = 0.428\n",
            " Average Recall     (AR) @[ IoU=0.50:0.95 | area= small | maxDets=1000 ] = 0.183\n",
            " Average Recall     (AR) @[ IoU=0.50:0.95 | area=medium | maxDets=1000 ] = 0.228\n",
            " Average Recall     (AR) @[ IoU=0.50:0.95 | area= large | maxDets=1000 ] = 0.549\n",
            "\n",
            "2021-11-21 02:03:07,695 - mmdet - INFO - Epoch(val) [19][534]\tbbox_mAP: 0.3990, bbox_mAP_50: 0.5910, bbox_mAP_75: 0.4650, bbox_mAP_s: 0.1420, bbox_mAP_m: 0.1950, bbox_mAP_l: 0.5120, bbox_mAP_copypaste: 0.399 0.591 0.465 0.142 0.195 0.512\n"
          ]
        },
        {
          "output_type": "stream",
          "name": "stdout",
          "text": [
            "DONE (t=0.96s).\n"
          ]
        },
        {
          "output_type": "stream",
          "name": "stderr",
          "text": [
            "2021-11-21 02:03:42,883 - mmdet - INFO - Epoch [20][10/228]\tlr: 1.000e-05, eta: 0:59:26, time: 3.517, data_time: 0.393, memory: 12718, loss_cls: 0.4638, loss_bbox: 0.2619, loss_bbox_rf: 0.3459, loss: 1.0717\n",
            "2021-11-21 02:04:12,663 - mmdet - INFO - Epoch [20][20/228]\tlr: 1.000e-05, eta: 0:58:54, time: 2.978, data_time: 0.008, memory: 12718, loss_cls: 0.4360, loss_bbox: 0.2127, loss_bbox_rf: 0.2802, loss: 0.9289\n",
            "2021-11-21 02:04:46,378 - mmdet - INFO - Epoch [20][30/228]\tlr: 1.000e-05, eta: 0:58:23, time: 3.372, data_time: 0.008, memory: 12718, loss_cls: 0.4415, loss_bbox: 0.1863, loss_bbox_rf: 0.2459, loss: 0.8737\n",
            "2021-11-21 02:05:18,710 - mmdet - INFO - Epoch [20][40/228]\tlr: 1.000e-05, eta: 0:57:51, time: 3.233, data_time: 0.008, memory: 12718, loss_cls: 0.4315, loss_bbox: 0.2175, loss_bbox_rf: 0.2881, loss: 0.9371\n",
            "2021-11-21 02:05:55,010 - mmdet - INFO - Epoch [20][50/228]\tlr: 1.000e-05, eta: 0:57:21, time: 3.630, data_time: 0.008, memory: 12718, loss_cls: 0.4777, loss_bbox: 0.2593, loss_bbox_rf: 0.3418, loss: 1.0788\n",
            "2021-11-21 02:06:28,204 - mmdet - INFO - Epoch [20][60/228]\tlr: 1.000e-05, eta: 0:56:50, time: 3.319, data_time: 0.008, memory: 12718, loss_cls: 0.4683, loss_bbox: 0.2375, loss_bbox_rf: 0.3121, loss: 1.0180\n",
            "2021-11-21 02:07:03,559 - mmdet - INFO - Epoch [20][70/228]\tlr: 1.000e-05, eta: 0:56:19, time: 3.535, data_time: 0.008, memory: 12718, loss_cls: 0.4375, loss_bbox: 0.2197, loss_bbox_rf: 0.2885, loss: 0.9456\n",
            "2021-11-21 02:07:36,995 - mmdet - INFO - Epoch [20][80/228]\tlr: 1.000e-05, eta: 0:55:48, time: 3.344, data_time: 0.008, memory: 12718, loss_cls: 0.4429, loss_bbox: 0.2348, loss_bbox_rf: 0.3114, loss: 0.9891\n",
            "2021-11-21 02:08:08,605 - mmdet - INFO - Epoch [20][90/228]\tlr: 1.000e-05, eta: 0:55:16, time: 3.161, data_time: 0.008, memory: 12718, loss_cls: 0.4797, loss_bbox: 0.2209, loss_bbox_rf: 0.2928, loss: 0.9933\n",
            "2021-11-21 02:08:42,605 - mmdet - INFO - Epoch [20][100/228]\tlr: 1.000e-05, eta: 0:54:45, time: 3.400, data_time: 0.008, memory: 12718, loss_cls: 0.4679, loss_bbox: 0.2119, loss_bbox_rf: 0.2799, loss: 0.9597\n",
            "2021-11-21 02:09:14,949 - mmdet - INFO - Epoch [20][110/228]\tlr: 1.000e-05, eta: 0:54:14, time: 3.234, data_time: 0.008, memory: 12718, loss_cls: 0.4341, loss_bbox: 0.2159, loss_bbox_rf: 0.2855, loss: 0.9354\n",
            "2021-11-21 02:09:45,258 - mmdet - INFO - Epoch [20][120/228]\tlr: 1.000e-05, eta: 0:53:42, time: 3.031, data_time: 0.007, memory: 12718, loss_cls: 0.4738, loss_bbox: 0.2673, loss_bbox_rf: 0.3545, loss: 1.0956\n",
            "2021-11-21 02:10:17,943 - mmdet - INFO - Epoch [20][130/228]\tlr: 1.000e-05, eta: 0:53:11, time: 3.268, data_time: 0.008, memory: 12718, loss_cls: 0.5057, loss_bbox: 0.2728, loss_bbox_rf: 0.3591, loss: 1.1376\n",
            "2021-11-21 02:10:48,688 - mmdet - INFO - Epoch [20][140/228]\tlr: 1.000e-05, eta: 0:52:39, time: 3.074, data_time: 0.008, memory: 12718, loss_cls: 0.4493, loss_bbox: 0.2437, loss_bbox_rf: 0.3188, loss: 1.0119\n",
            "2021-11-21 02:11:21,457 - mmdet - INFO - Epoch [20][150/228]\tlr: 1.000e-05, eta: 0:52:08, time: 3.277, data_time: 0.008, memory: 12718, loss_cls: 0.4227, loss_bbox: 0.2771, loss_bbox_rf: 0.3671, loss: 1.0670\n",
            "2021-11-21 02:11:54,141 - mmdet - INFO - Epoch [20][160/228]\tlr: 1.000e-05, eta: 0:51:36, time: 3.268, data_time: 0.008, memory: 12718, loss_cls: 0.4479, loss_bbox: 0.2120, loss_bbox_rf: 0.2775, loss: 0.9374\n",
            "2021-11-21 02:12:25,349 - mmdet - INFO - Epoch [20][170/228]\tlr: 1.000e-05, eta: 0:51:05, time: 3.121, data_time: 0.007, memory: 12718, loss_cls: 0.4183, loss_bbox: 0.1942, loss_bbox_rf: 0.2538, loss: 0.8662\n",
            "2021-11-21 02:12:58,955 - mmdet - INFO - Epoch [20][180/228]\tlr: 1.000e-05, eta: 0:50:33, time: 3.360, data_time: 0.008, memory: 12718, loss_cls: 0.4694, loss_bbox: 0.2976, loss_bbox_rf: 0.3931, loss: 1.1601\n",
            "2021-11-21 02:13:30,618 - mmdet - INFO - Epoch [20][190/228]\tlr: 1.000e-05, eta: 0:50:02, time: 3.166, data_time: 0.008, memory: 12718, loss_cls: 0.4956, loss_bbox: 0.2365, loss_bbox_rf: 0.3125, loss: 1.0447\n",
            "2021-11-21 02:13:59,074 - mmdet - INFO - Epoch [20][200/228]\tlr: 1.000e-05, eta: 0:49:29, time: 2.846, data_time: 0.007, memory: 12718, loss_cls: 0.4527, loss_bbox: 0.2078, loss_bbox_rf: 0.2733, loss: 0.9338\n",
            "2021-11-21 02:14:33,290 - mmdet - INFO - Epoch [20][210/228]\tlr: 1.000e-05, eta: 0:48:58, time: 3.422, data_time: 0.008, memory: 12718, loss_cls: 0.4365, loss_bbox: 0.2064, loss_bbox_rf: 0.2709, loss: 0.9139\n",
            "2021-11-21 02:15:06,608 - mmdet - INFO - Epoch [20][220/228]\tlr: 1.000e-05, eta: 0:48:27, time: 3.332, data_time: 0.008, memory: 12718, loss_cls: 0.5012, loss_bbox: 0.2992, loss_bbox_rf: 0.3960, loss: 1.1963\n"
          ]
        },
        {
          "output_type": "stream",
          "name": "stdout",
          "text": [
            "[>>>>>>>>>>>>>>>>>>>>>>>>>>>>>] 534/534, 3.3 task/s, elapsed: 162s, ETA:     0s"
          ]
        },
        {
          "output_type": "stream",
          "name": "stderr",
          "text": [
            "2021-11-21 02:18:15,985 - mmdet - INFO - Evaluating bbox...\n"
          ]
        },
        {
          "output_type": "stream",
          "name": "stdout",
          "text": [
            "Loading and preparing results...\n",
            "DONE (t=0.23s)\n",
            "creating index...\n",
            "index created!\n",
            "Running per image evaluation...\n",
            "Evaluate annotation type *bbox*\n",
            "DONE (t=60.04s).\n",
            "Accumulating evaluation results...\n"
          ]
        },
        {
          "output_type": "stream",
          "name": "stderr",
          "text": [
            "2021-11-21 02:19:17,359 - mmdet - INFO - \n",
            " Average Precision  (AP) @[ IoU=0.50:0.95 | area=   all | maxDets=100 ] = 0.399\n",
            " Average Precision  (AP) @[ IoU=0.50      | area=   all | maxDets=1000 ] = 0.590\n",
            " Average Precision  (AP) @[ IoU=0.75      | area=   all | maxDets=1000 ] = 0.465\n",
            " Average Precision  (AP) @[ IoU=0.50:0.95 | area= small | maxDets=1000 ] = 0.143\n",
            " Average Precision  (AP) @[ IoU=0.50:0.95 | area=medium | maxDets=1000 ] = 0.195\n",
            " Average Precision  (AP) @[ IoU=0.50:0.95 | area= large | maxDets=1000 ] = 0.513\n",
            " Average Recall     (AR) @[ IoU=0.50:0.95 | area=   all | maxDets=100 ] = 0.428\n",
            " Average Recall     (AR) @[ IoU=0.50:0.95 | area=   all | maxDets=300 ] = 0.428\n",
            " Average Recall     (AR) @[ IoU=0.50:0.95 | area=   all | maxDets=1000 ] = 0.428\n",
            " Average Recall     (AR) @[ IoU=0.50:0.95 | area= small | maxDets=1000 ] = 0.185\n",
            " Average Recall     (AR) @[ IoU=0.50:0.95 | area=medium | maxDets=1000 ] = 0.227\n",
            " Average Recall     (AR) @[ IoU=0.50:0.95 | area= large | maxDets=1000 ] = 0.550\n",
            "\n",
            "2021-11-21 02:19:17,393 - mmdet - INFO - Epoch(val) [20][534]\tbbox_mAP: 0.3990, bbox_mAP_50: 0.5900, bbox_mAP_75: 0.4650, bbox_mAP_s: 0.1430, bbox_mAP_m: 0.1950, bbox_mAP_l: 0.5130, bbox_mAP_copypaste: 0.399 0.590 0.465 0.143 0.195 0.513\n"
          ]
        },
        {
          "output_type": "stream",
          "name": "stdout",
          "text": [
            "DONE (t=0.98s).\n"
          ]
        },
        {
          "output_type": "stream",
          "name": "stderr",
          "text": [
            "2021-11-21 02:19:51,702 - mmdet - INFO - Epoch [21][10/228]\tlr: 1.000e-05, eta: 0:47:26, time: 3.429, data_time: 0.312, memory: 12718, loss_cls: 0.4784, loss_bbox: 0.2762, loss_bbox_rf: 0.3647, loss: 1.1192\n",
            "2021-11-21 02:20:21,239 - mmdet - INFO - Epoch [21][20/228]\tlr: 1.000e-05, eta: 0:46:54, time: 2.954, data_time: 0.008, memory: 12718, loss_cls: 0.4829, loss_bbox: 0.2676, loss_bbox_rf: 0.3536, loss: 1.1041\n",
            "2021-11-21 02:20:55,044 - mmdet - INFO - Epoch [21][30/228]\tlr: 1.000e-05, eta: 0:46:23, time: 3.380, data_time: 0.008, memory: 12718, loss_cls: 0.4757, loss_bbox: 0.2614, loss_bbox_rf: 0.3435, loss: 1.0806\n",
            "2021-11-21 02:21:27,132 - mmdet - INFO - Epoch [21][40/228]\tlr: 1.000e-05, eta: 0:45:51, time: 3.209, data_time: 0.008, memory: 12718, loss_cls: 0.4300, loss_bbox: 0.2078, loss_bbox_rf: 0.2749, loss: 0.9127\n",
            "2021-11-21 02:22:02,996 - mmdet - INFO - Epoch [21][50/228]\tlr: 1.000e-05, eta: 0:45:21, time: 3.586, data_time: 0.008, memory: 12718, loss_cls: 0.4687, loss_bbox: 0.2022, loss_bbox_rf: 0.2647, loss: 0.9355\n",
            "2021-11-21 02:22:36,256 - mmdet - INFO - Epoch [21][60/228]\tlr: 1.000e-05, eta: 0:44:49, time: 3.326, data_time: 0.008, memory: 12718, loss_cls: 0.4250, loss_bbox: 0.2183, loss_bbox_rf: 0.2880, loss: 0.9313\n",
            "2021-11-21 02:23:11,586 - mmdet - INFO - Epoch [21][70/228]\tlr: 1.000e-05, eta: 0:44:18, time: 3.533, data_time: 0.008, memory: 12718, loss_cls: 0.4537, loss_bbox: 0.2521, loss_bbox_rf: 0.3329, loss: 1.0387\n",
            "2021-11-21 02:23:45,018 - mmdet - INFO - Epoch [21][80/228]\tlr: 1.000e-05, eta: 0:43:47, time: 3.343, data_time: 0.008, memory: 12718, loss_cls: 0.4539, loss_bbox: 0.2137, loss_bbox_rf: 0.2820, loss: 0.9495\n",
            "2021-11-21 02:24:16,638 - mmdet - INFO - Epoch [21][90/228]\tlr: 1.000e-05, eta: 0:43:16, time: 3.162, data_time: 0.008, memory: 12718, loss_cls: 0.4644, loss_bbox: 0.2425, loss_bbox_rf: 0.3214, loss: 1.0283\n",
            "2021-11-21 02:24:50,976 - mmdet - INFO - Epoch [21][100/228]\tlr: 1.000e-05, eta: 0:42:44, time: 3.434, data_time: 0.008, memory: 12718, loss_cls: 0.4587, loss_bbox: 0.2151, loss_bbox_rf: 0.2843, loss: 0.9581\n",
            "2021-11-21 02:25:23,269 - mmdet - INFO - Epoch [21][110/228]\tlr: 1.000e-05, eta: 0:42:13, time: 3.229, data_time: 0.008, memory: 12718, loss_cls: 0.4537, loss_bbox: 0.2353, loss_bbox_rf: 0.3100, loss: 0.9990\n",
            "2021-11-21 02:25:53,140 - mmdet - INFO - Epoch [21][120/228]\tlr: 1.000e-05, eta: 0:41:41, time: 2.987, data_time: 0.007, memory: 12718, loss_cls: 0.4484, loss_bbox: 0.2109, loss_bbox_rf: 0.2779, loss: 0.9372\n",
            "2021-11-21 02:26:25,830 - mmdet - INFO - Epoch [21][130/228]\tlr: 1.000e-05, eta: 0:41:10, time: 3.269, data_time: 0.008, memory: 12718, loss_cls: 0.4357, loss_bbox: 0.1874, loss_bbox_rf: 0.2458, loss: 0.8689\n",
            "2021-11-21 02:26:56,289 - mmdet - INFO - Epoch [21][140/228]\tlr: 1.000e-05, eta: 0:40:38, time: 3.046, data_time: 0.007, memory: 12718, loss_cls: 0.4627, loss_bbox: 0.2322, loss_bbox_rf: 0.3073, loss: 1.0021\n",
            "2021-11-21 02:27:29,419 - mmdet - INFO - Epoch [21][150/228]\tlr: 1.000e-05, eta: 0:40:07, time: 3.313, data_time: 0.008, memory: 12718, loss_cls: 0.4469, loss_bbox: 0.2461, loss_bbox_rf: 0.3235, loss: 1.0166\n",
            "2021-11-21 02:28:02,229 - mmdet - INFO - Epoch [21][160/228]\tlr: 1.000e-05, eta: 0:39:35, time: 3.281, data_time: 0.008, memory: 12718, loss_cls: 0.4624, loss_bbox: 0.2700, loss_bbox_rf: 0.3557, loss: 1.0881\n",
            "2021-11-21 02:28:33,461 - mmdet - INFO - Epoch [21][170/228]\tlr: 1.000e-05, eta: 0:39:04, time: 3.123, data_time: 0.007, memory: 12718, loss_cls: 0.4364, loss_bbox: 0.2035, loss_bbox_rf: 0.2692, loss: 0.9091\n",
            "2021-11-21 02:29:07,054 - mmdet - INFO - Epoch [21][180/228]\tlr: 1.000e-05, eta: 0:38:32, time: 3.359, data_time: 0.008, memory: 12718, loss_cls: 0.4146, loss_bbox: 0.1857, loss_bbox_rf: 0.2449, loss: 0.8452\n",
            "2021-11-21 02:29:38,734 - mmdet - INFO - Epoch [21][190/228]\tlr: 1.000e-05, eta: 0:38:01, time: 3.168, data_time: 0.008, memory: 12718, loss_cls: 0.4532, loss_bbox: 0.2804, loss_bbox_rf: 0.3702, loss: 1.1037\n",
            "2021-11-21 02:30:07,285 - mmdet - INFO - Epoch [21][200/228]\tlr: 1.000e-05, eta: 0:37:29, time: 2.855, data_time: 0.007, memory: 12718, loss_cls: 0.4578, loss_bbox: 0.2910, loss_bbox_rf: 0.3850, loss: 1.1338\n",
            "2021-11-21 02:30:41,491 - mmdet - INFO - Epoch [21][210/228]\tlr: 1.000e-05, eta: 0:36:57, time: 3.421, data_time: 0.008, memory: 12718, loss_cls: 0.4650, loss_bbox: 0.2861, loss_bbox_rf: 0.3774, loss: 1.1285\n",
            "2021-11-21 02:31:14,864 - mmdet - INFO - Epoch [21][220/228]\tlr: 1.000e-05, eta: 0:36:26, time: 3.337, data_time: 0.008, memory: 12718, loss_cls: 0.4432, loss_bbox: 0.1792, loss_bbox_rf: 0.2360, loss: 0.8584\n",
            "2021-11-21 02:31:41,142 - mmdet - INFO - Saving checkpoint at 21 epochs\n"
          ]
        },
        {
          "output_type": "stream",
          "name": "stdout",
          "text": [
            "[>>>>>>>>>>>>>>>>>>>>>>>>>>>>>] 534/534, 3.3 task/s, elapsed: 163s, ETA:     0s"
          ]
        },
        {
          "output_type": "stream",
          "name": "stderr",
          "text": [
            "2021-11-21 02:34:28,673 - mmdet - INFO - Evaluating bbox...\n"
          ]
        },
        {
          "output_type": "stream",
          "name": "stdout",
          "text": [
            "Loading and preparing results...\n",
            "DONE (t=0.24s)\n",
            "creating index...\n",
            "index created!\n",
            "Running per image evaluation...\n",
            "Evaluate annotation type *bbox*\n",
            "DONE (t=59.49s).\n",
            "Accumulating evaluation results...\n"
          ]
        },
        {
          "output_type": "stream",
          "name": "stderr",
          "text": [
            "2021-11-21 02:35:29,476 - mmdet - INFO - \n",
            " Average Precision  (AP) @[ IoU=0.50:0.95 | area=   all | maxDets=100 ] = 0.399\n",
            " Average Precision  (AP) @[ IoU=0.50      | area=   all | maxDets=1000 ] = 0.591\n",
            " Average Precision  (AP) @[ IoU=0.75      | area=   all | maxDets=1000 ] = 0.466\n",
            " Average Precision  (AP) @[ IoU=0.50:0.95 | area= small | maxDets=1000 ] = 0.143\n",
            " Average Precision  (AP) @[ IoU=0.50:0.95 | area=medium | maxDets=1000 ] = 0.194\n",
            " Average Precision  (AP) @[ IoU=0.50:0.95 | area= large | maxDets=1000 ] = 0.513\n",
            " Average Recall     (AR) @[ IoU=0.50:0.95 | area=   all | maxDets=100 ] = 0.429\n",
            " Average Recall     (AR) @[ IoU=0.50:0.95 | area=   all | maxDets=300 ] = 0.429\n",
            " Average Recall     (AR) @[ IoU=0.50:0.95 | area=   all | maxDets=1000 ] = 0.429\n",
            " Average Recall     (AR) @[ IoU=0.50:0.95 | area= small | maxDets=1000 ] = 0.184\n",
            " Average Recall     (AR) @[ IoU=0.50:0.95 | area=medium | maxDets=1000 ] = 0.228\n",
            " Average Recall     (AR) @[ IoU=0.50:0.95 | area= large | maxDets=1000 ] = 0.551\n",
            "\n",
            "2021-11-21 02:35:29,512 - mmdet - INFO - Epoch(val) [21][534]\tbbox_mAP: 0.3990, bbox_mAP_50: 0.5910, bbox_mAP_75: 0.4660, bbox_mAP_s: 0.1430, bbox_mAP_m: 0.1940, bbox_mAP_l: 0.5130, bbox_mAP_copypaste: 0.399 0.591 0.466 0.143 0.194 0.513\n"
          ]
        },
        {
          "output_type": "stream",
          "name": "stdout",
          "text": [
            "DONE (t=0.95s).\n"
          ]
        },
        {
          "output_type": "stream",
          "name": "stderr",
          "text": [
            "2021-11-21 02:36:05,027 - mmdet - INFO - Epoch [22][10/228]\tlr: 1.000e-05, eta: 0:35:26, time: 3.550, data_time: 0.423, memory: 12718, loss_cls: 0.4565, loss_bbox: 0.3132, loss_bbox_rf: 0.4143, loss: 1.1841\n",
            "2021-11-21 02:36:35,025 - mmdet - INFO - Epoch [22][20/228]\tlr: 1.000e-05, eta: 0:34:54, time: 3.000, data_time: 0.008, memory: 12718, loss_cls: 0.4530, loss_bbox: 0.2411, loss_bbox_rf: 0.3177, loss: 1.0119\n",
            "2021-11-21 02:37:08,849 - mmdet - INFO - Epoch [22][30/228]\tlr: 1.000e-05, eta: 0:34:23, time: 3.382, data_time: 0.008, memory: 12718, loss_cls: 0.4566, loss_bbox: 0.2245, loss_bbox_rf: 0.2971, loss: 0.9782\n",
            "2021-11-21 02:37:41,142 - mmdet - INFO - Epoch [22][40/228]\tlr: 1.000e-05, eta: 0:33:52, time: 3.229, data_time: 0.008, memory: 12718, loss_cls: 0.4993, loss_bbox: 0.2366, loss_bbox_rf: 0.3120, loss: 1.0479\n",
            "2021-11-21 02:38:17,457 - mmdet - INFO - Epoch [22][50/228]\tlr: 1.000e-05, eta: 0:33:21, time: 3.631, data_time: 0.009, memory: 12718, loss_cls: 0.4529, loss_bbox: 0.2731, loss_bbox_rf: 0.3603, loss: 1.0863\n",
            "2021-11-21 02:38:51,205 - mmdet - INFO - Epoch [22][60/228]\tlr: 1.000e-05, eta: 0:32:50, time: 3.375, data_time: 0.009, memory: 12718, loss_cls: 0.4992, loss_bbox: 0.2598, loss_bbox_rf: 0.3420, loss: 1.1010\n",
            "2021-11-21 02:39:26,598 - mmdet - INFO - Epoch [22][70/228]\tlr: 1.000e-05, eta: 0:32:18, time: 3.539, data_time: 0.008, memory: 12718, loss_cls: 0.4453, loss_bbox: 0.2405, loss_bbox_rf: 0.3168, loss: 1.0026\n",
            "2021-11-21 02:40:00,265 - mmdet - INFO - Epoch [22][80/228]\tlr: 1.000e-05, eta: 0:31:47, time: 3.367, data_time: 0.008, memory: 12718, loss_cls: 0.4715, loss_bbox: 0.2193, loss_bbox_rf: 0.2889, loss: 0.9797\n",
            "2021-11-21 02:40:31,430 - mmdet - INFO - Epoch [22][90/228]\tlr: 1.000e-05, eta: 0:31:16, time: 3.116, data_time: 0.008, memory: 12718, loss_cls: 0.4301, loss_bbox: 0.1761, loss_bbox_rf: 0.2329, loss: 0.8392\n",
            "2021-11-21 02:41:05,498 - mmdet - INFO - Epoch [22][100/228]\tlr: 1.000e-05, eta: 0:30:44, time: 3.407, data_time: 0.008, memory: 12718, loss_cls: 0.4682, loss_bbox: 0.2316, loss_bbox_rf: 0.3044, loss: 1.0042\n",
            "2021-11-21 02:41:38,345 - mmdet - INFO - Epoch [22][110/228]\tlr: 1.000e-05, eta: 0:30:13, time: 3.285, data_time: 0.008, memory: 12718, loss_cls: 0.4704, loss_bbox: 0.2737, loss_bbox_rf: 0.3617, loss: 1.1058\n",
            "2021-11-21 02:42:08,522 - mmdet - INFO - Epoch [22][120/228]\tlr: 1.000e-05, eta: 0:29:41, time: 3.018, data_time: 0.007, memory: 12718, loss_cls: 0.4470, loss_bbox: 0.2365, loss_bbox_rf: 0.3123, loss: 0.9957\n",
            "2021-11-21 02:42:40,779 - mmdet - INFO - Epoch [22][130/228]\tlr: 1.000e-05, eta: 0:29:10, time: 3.226, data_time: 0.008, memory: 12718, loss_cls: 0.4354, loss_bbox: 0.2309, loss_bbox_rf: 0.3050, loss: 0.9712\n",
            "2021-11-21 02:43:11,565 - mmdet - INFO - Epoch [22][140/228]\tlr: 1.000e-05, eta: 0:28:38, time: 3.079, data_time: 0.008, memory: 12718, loss_cls: 0.4716, loss_bbox: 0.2729, loss_bbox_rf: 0.3615, loss: 1.1060\n",
            "2021-11-21 02:43:44,686 - mmdet - INFO - Epoch [22][150/228]\tlr: 1.000e-05, eta: 0:28:06, time: 3.312, data_time: 0.008, memory: 12718, loss_cls: 0.4527, loss_bbox: 0.2356, loss_bbox_rf: 0.3106, loss: 0.9988\n",
            "2021-11-21 02:44:17,133 - mmdet - INFO - Epoch [22][160/228]\tlr: 1.000e-05, eta: 0:27:35, time: 3.245, data_time: 0.008, memory: 12718, loss_cls: 0.4912, loss_bbox: 0.2330, loss_bbox_rf: 0.3086, loss: 1.0329\n",
            "2021-11-21 02:44:48,525 - mmdet - INFO - Epoch [22][170/228]\tlr: 1.000e-05, eta: 0:27:03, time: 3.139, data_time: 0.008, memory: 12718, loss_cls: 0.4605, loss_bbox: 0.2356, loss_bbox_rf: 0.3099, loss: 1.0060\n",
            "2021-11-21 02:45:22,329 - mmdet - INFO - Epoch [22][180/228]\tlr: 1.000e-05, eta: 0:26:32, time: 3.380, data_time: 0.008, memory: 12718, loss_cls: 0.4716, loss_bbox: 0.2731, loss_bbox_rf: 0.3586, loss: 1.1033\n",
            "2021-11-21 02:45:53,658 - mmdet - INFO - Epoch [22][190/228]\tlr: 1.000e-05, eta: 0:26:00, time: 3.133, data_time: 0.008, memory: 12718, loss_cls: 0.4210, loss_bbox: 0.1870, loss_bbox_rf: 0.2447, loss: 0.8527\n",
            "2021-11-21 02:46:22,616 - mmdet - INFO - Epoch [22][200/228]\tlr: 1.000e-05, eta: 0:25:28, time: 2.896, data_time: 0.007, memory: 12718, loss_cls: 0.4461, loss_bbox: 0.2086, loss_bbox_rf: 0.2761, loss: 0.9308\n",
            "2021-11-21 02:46:56,372 - mmdet - INFO - Epoch [22][210/228]\tlr: 1.000e-05, eta: 0:24:57, time: 3.376, data_time: 0.008, memory: 12718, loss_cls: 0.4377, loss_bbox: 0.2182, loss_bbox_rf: 0.2874, loss: 0.9433\n",
            "2021-11-21 02:47:29,779 - mmdet - INFO - Epoch [22][220/228]\tlr: 1.000e-05, eta: 0:24:26, time: 3.341, data_time: 0.008, memory: 12718, loss_cls: 0.4326, loss_bbox: 0.2080, loss_bbox_rf: 0.2748, loss: 0.9155\n"
          ]
        },
        {
          "output_type": "stream",
          "name": "stdout",
          "text": [
            "[>>>>>>>>>>>>>>>>>>>>>>>>>>>>>] 534/534, 3.3 task/s, elapsed: 163s, ETA:     0s"
          ]
        },
        {
          "output_type": "stream",
          "name": "stderr",
          "text": [
            "2021-11-21 02:50:39,598 - mmdet - INFO - Evaluating bbox...\n"
          ]
        },
        {
          "output_type": "stream",
          "name": "stdout",
          "text": [
            "Loading and preparing results...\n",
            "DONE (t=0.23s)\n",
            "creating index...\n",
            "index created!\n",
            "Running per image evaluation...\n",
            "Evaluate annotation type *bbox*\n",
            "DONE (t=61.52s).\n",
            "Accumulating evaluation results...\n"
          ]
        },
        {
          "output_type": "stream",
          "name": "stderr",
          "text": [
            "2021-11-21 02:51:42,496 - mmdet - INFO - \n",
            " Average Precision  (AP) @[ IoU=0.50:0.95 | area=   all | maxDets=100 ] = 0.398\n",
            " Average Precision  (AP) @[ IoU=0.50      | area=   all | maxDets=1000 ] = 0.589\n",
            " Average Precision  (AP) @[ IoU=0.75      | area=   all | maxDets=1000 ] = 0.465\n",
            " Average Precision  (AP) @[ IoU=0.50:0.95 | area= small | maxDets=1000 ] = 0.142\n",
            " Average Precision  (AP) @[ IoU=0.50:0.95 | area=medium | maxDets=1000 ] = 0.195\n",
            " Average Precision  (AP) @[ IoU=0.50:0.95 | area= large | maxDets=1000 ] = 0.511\n",
            " Average Recall     (AR) @[ IoU=0.50:0.95 | area=   all | maxDets=100 ] = 0.428\n",
            " Average Recall     (AR) @[ IoU=0.50:0.95 | area=   all | maxDets=300 ] = 0.428\n",
            " Average Recall     (AR) @[ IoU=0.50:0.95 | area=   all | maxDets=1000 ] = 0.428\n",
            " Average Recall     (AR) @[ IoU=0.50:0.95 | area= small | maxDets=1000 ] = 0.185\n",
            " Average Recall     (AR) @[ IoU=0.50:0.95 | area=medium | maxDets=1000 ] = 0.228\n",
            " Average Recall     (AR) @[ IoU=0.50:0.95 | area= large | maxDets=1000 ] = 0.548\n",
            "\n",
            "2021-11-21 02:51:42,532 - mmdet - INFO - Epoch(val) [22][534]\tbbox_mAP: 0.3980, bbox_mAP_50: 0.5890, bbox_mAP_75: 0.4650, bbox_mAP_s: 0.1420, bbox_mAP_m: 0.1950, bbox_mAP_l: 0.5110, bbox_mAP_copypaste: 0.398 0.589 0.465 0.142 0.195 0.511\n"
          ]
        },
        {
          "output_type": "stream",
          "name": "stdout",
          "text": [
            "DONE (t=1.02s).\n"
          ]
        },
        {
          "output_type": "stream",
          "name": "stderr",
          "text": [
            "2021-11-21 02:52:17,569 - mmdet - INFO - Epoch [23][10/228]\tlr: 1.000e-06, eta: 0:23:27, time: 3.502, data_time: 0.379, memory: 12718, loss_cls: 0.4469, loss_bbox: 0.2293, loss_bbox_rf: 0.3036, loss: 0.9798\n",
            "2021-11-21 02:52:47,183 - mmdet - INFO - Epoch [23][20/228]\tlr: 1.000e-06, eta: 0:22:55, time: 2.961, data_time: 0.008, memory: 12718, loss_cls: 0.4438, loss_bbox: 0.2285, loss_bbox_rf: 0.3023, loss: 0.9746\n",
            "2021-11-21 02:53:20,975 - mmdet - INFO - Epoch [23][30/228]\tlr: 1.000e-06, eta: 0:22:24, time: 3.379, data_time: 0.008, memory: 12718, loss_cls: 0.4218, loss_bbox: 0.1927, loss_bbox_rf: 0.2525, loss: 0.8671\n",
            "2021-11-21 02:53:53,315 - mmdet - INFO - Epoch [23][40/228]\tlr: 1.000e-06, eta: 0:21:52, time: 3.234, data_time: 0.008, memory: 12718, loss_cls: 0.4554, loss_bbox: 0.2198, loss_bbox_rf: 0.2911, loss: 0.9663\n",
            "2021-11-21 02:54:29,597 - mmdet - INFO - Epoch [23][50/228]\tlr: 1.000e-06, eta: 0:21:21, time: 3.628, data_time: 0.009, memory: 12718, loss_cls: 0.4528, loss_bbox: 0.2440, loss_bbox_rf: 0.3223, loss: 1.0191\n",
            "2021-11-21 02:55:02,913 - mmdet - INFO - Epoch [23][60/228]\tlr: 1.000e-06, eta: 0:20:50, time: 3.332, data_time: 0.008, memory: 12718, loss_cls: 0.4708, loss_bbox: 0.3125, loss_bbox_rf: 0.4121, loss: 1.1954\n",
            "2021-11-21 02:55:38,313 - mmdet - INFO - Epoch [23][70/228]\tlr: 1.000e-06, eta: 0:20:18, time: 3.540, data_time: 0.009, memory: 12718, loss_cls: 0.4869, loss_bbox: 0.2370, loss_bbox_rf: 0.3129, loss: 1.0369\n",
            "2021-11-21 02:56:11,784 - mmdet - INFO - Epoch [23][80/228]\tlr: 1.000e-06, eta: 0:19:47, time: 3.347, data_time: 0.008, memory: 12718, loss_cls: 0.4623, loss_bbox: 0.2288, loss_bbox_rf: 0.2993, loss: 0.9905\n",
            "2021-11-21 02:56:43,393 - mmdet - INFO - Epoch [23][90/228]\tlr: 1.000e-06, eta: 0:19:15, time: 3.161, data_time: 0.008, memory: 12718, loss_cls: 0.4384, loss_bbox: 0.2165, loss_bbox_rf: 0.2866, loss: 0.9415\n",
            "2021-11-21 02:57:17,725 - mmdet - INFO - Epoch [23][100/228]\tlr: 1.000e-06, eta: 0:18:44, time: 3.433, data_time: 0.008, memory: 12718, loss_cls: 0.4376, loss_bbox: 0.2445, loss_bbox_rf: 0.3216, loss: 1.0037\n",
            "2021-11-21 02:57:50,046 - mmdet - INFO - Epoch [23][110/228]\tlr: 1.000e-06, eta: 0:18:12, time: 3.232, data_time: 0.008, memory: 12718, loss_cls: 0.4624, loss_bbox: 0.2225, loss_bbox_rf: 0.2938, loss: 0.9788\n",
            "2021-11-21 02:58:19,916 - mmdet - INFO - Epoch [23][120/228]\tlr: 1.000e-06, eta: 0:17:41, time: 2.987, data_time: 0.007, memory: 12718, loss_cls: 0.4415, loss_bbox: 0.2206, loss_bbox_rf: 0.2920, loss: 0.9541\n",
            "2021-11-21 02:58:52,644 - mmdet - INFO - Epoch [23][130/228]\tlr: 1.000e-06, eta: 0:17:09, time: 3.273, data_time: 0.008, memory: 12718, loss_cls: 0.4659, loss_bbox: 0.2300, loss_bbox_rf: 0.3036, loss: 0.9995\n",
            "2021-11-21 02:59:23,828 - mmdet - INFO - Epoch [23][140/228]\tlr: 1.000e-06, eta: 0:16:38, time: 3.118, data_time: 0.008, memory: 12718, loss_cls: 0.4379, loss_bbox: 0.2762, loss_bbox_rf: 0.3639, loss: 1.0779\n",
            "2021-11-21 02:59:56,996 - mmdet - INFO - Epoch [23][150/228]\tlr: 1.000e-06, eta: 0:16:06, time: 3.317, data_time: 0.008, memory: 12718, loss_cls: 0.5011, loss_bbox: 0.2805, loss_bbox_rf: 0.3711, loss: 1.1527\n",
            "2021-11-21 03:00:30,070 - mmdet - INFO - Epoch [23][160/228]\tlr: 1.000e-06, eta: 0:15:35, time: 3.307, data_time: 0.008, memory: 12718, loss_cls: 0.4795, loss_bbox: 0.2633, loss_bbox_rf: 0.3491, loss: 1.0919\n",
            "2021-11-21 03:01:01,292 - mmdet - INFO - Epoch [23][170/228]\tlr: 1.000e-06, eta: 0:15:03, time: 3.122, data_time: 0.007, memory: 12718, loss_cls: 0.4571, loss_bbox: 0.2357, loss_bbox_rf: 0.3101, loss: 1.0029\n",
            "2021-11-21 03:01:35,140 - mmdet - INFO - Epoch [23][180/228]\tlr: 1.000e-06, eta: 0:14:32, time: 3.385, data_time: 0.008, memory: 12718, loss_cls: 0.4741, loss_bbox: 0.2536, loss_bbox_rf: 0.3346, loss: 1.0623\n",
            "2021-11-21 03:02:06,839 - mmdet - INFO - Epoch [23][190/228]\tlr: 1.000e-06, eta: 0:14:00, time: 3.170, data_time: 0.008, memory: 12718, loss_cls: 0.4714, loss_bbox: 0.2397, loss_bbox_rf: 0.3157, loss: 1.0268\n",
            "2021-11-21 03:02:35,645 - mmdet - INFO - Epoch [23][200/228]\tlr: 1.000e-06, eta: 0:13:28, time: 2.881, data_time: 0.007, memory: 12718, loss_cls: 0.4735, loss_bbox: 0.2656, loss_bbox_rf: 0.3492, loss: 1.0883\n",
            "2021-11-21 03:03:09,924 - mmdet - INFO - Epoch [23][210/228]\tlr: 1.000e-06, eta: 0:12:57, time: 3.428, data_time: 0.008, memory: 12718, loss_cls: 0.4372, loss_bbox: 0.2016, loss_bbox_rf: 0.2676, loss: 0.9065\n",
            "2021-11-21 03:03:42,811 - mmdet - INFO - Epoch [23][220/228]\tlr: 1.000e-06, eta: 0:12:25, time: 3.289, data_time: 0.008, memory: 12718, loss_cls: 0.4368, loss_bbox: 0.2219, loss_bbox_rf: 0.2912, loss: 0.9498\n"
          ]
        },
        {
          "output_type": "stream",
          "name": "stdout",
          "text": [
            "[>>>>>>>>>>>>>>>>>>>>>>>>>>>>>] 534/534, 3.3 task/s, elapsed: 163s, ETA:     0s"
          ]
        },
        {
          "output_type": "stream",
          "name": "stderr",
          "text": [
            "2021-11-21 03:06:53,637 - mmdet - INFO - Evaluating bbox...\n"
          ]
        },
        {
          "output_type": "stream",
          "name": "stdout",
          "text": [
            "Loading and preparing results...\n",
            "DONE (t=0.04s)\n",
            "creating index...\n",
            "index created!\n",
            "Running per image evaluation...\n",
            "Evaluate annotation type *bbox*\n",
            "DONE (t=60.80s).\n",
            "Accumulating evaluation results...\n"
          ]
        },
        {
          "output_type": "stream",
          "name": "stderr",
          "text": [
            "2021-11-21 03:07:55,813 - mmdet - INFO - \n",
            " Average Precision  (AP) @[ IoU=0.50:0.95 | area=   all | maxDets=100 ] = 0.398\n",
            " Average Precision  (AP) @[ IoU=0.50      | area=   all | maxDets=1000 ] = 0.589\n",
            " Average Precision  (AP) @[ IoU=0.75      | area=   all | maxDets=1000 ] = 0.465\n",
            " Average Precision  (AP) @[ IoU=0.50:0.95 | area= small | maxDets=1000 ] = 0.142\n",
            " Average Precision  (AP) @[ IoU=0.50:0.95 | area=medium | maxDets=1000 ] = 0.195\n",
            " Average Precision  (AP) @[ IoU=0.50:0.95 | area= large | maxDets=1000 ] = 0.512\n",
            " Average Recall     (AR) @[ IoU=0.50:0.95 | area=   all | maxDets=100 ] = 0.428\n",
            " Average Recall     (AR) @[ IoU=0.50:0.95 | area=   all | maxDets=300 ] = 0.428\n",
            " Average Recall     (AR) @[ IoU=0.50:0.95 | area=   all | maxDets=1000 ] = 0.428\n",
            " Average Recall     (AR) @[ IoU=0.50:0.95 | area= small | maxDets=1000 ] = 0.185\n",
            " Average Recall     (AR) @[ IoU=0.50:0.95 | area=medium | maxDets=1000 ] = 0.228\n",
            " Average Recall     (AR) @[ IoU=0.50:0.95 | area= large | maxDets=1000 ] = 0.549\n",
            "\n",
            "2021-11-21 03:07:55,848 - mmdet - INFO - Epoch(val) [23][534]\tbbox_mAP: 0.3980, bbox_mAP_50: 0.5890, bbox_mAP_75: 0.4650, bbox_mAP_s: 0.1420, bbox_mAP_m: 0.1950, bbox_mAP_l: 0.5120, bbox_mAP_copypaste: 0.398 0.589 0.465 0.142 0.195 0.512\n"
          ]
        },
        {
          "output_type": "stream",
          "name": "stdout",
          "text": [
            "DONE (t=1.01s).\n"
          ]
        },
        {
          "output_type": "stream",
          "name": "stderr",
          "text": [
            "2021-11-21 03:08:30,806 - mmdet - INFO - Epoch [24][10/228]\tlr: 1.000e-06, eta: 0:11:27, time: 3.494, data_time: 0.369, memory: 12718, loss_cls: 0.4509, loss_bbox: 0.2176, loss_bbox_rf: 0.2878, loss: 0.9563\n",
            "2021-11-21 03:09:01,115 - mmdet - INFO - Epoch [24][20/228]\tlr: 1.000e-06, eta: 0:10:56, time: 3.031, data_time: 0.008, memory: 12718, loss_cls: 0.4708, loss_bbox: 0.2363, loss_bbox_rf: 0.3096, loss: 1.0167\n",
            "2021-11-21 03:09:35,213 - mmdet - INFO - Epoch [24][30/228]\tlr: 1.000e-06, eta: 0:10:24, time: 3.410, data_time: 0.008, memory: 12718, loss_cls: 0.4650, loss_bbox: 0.2452, loss_bbox_rf: 0.3240, loss: 1.0342\n",
            "2021-11-21 03:10:07,495 - mmdet - INFO - Epoch [24][40/228]\tlr: 1.000e-06, eta: 0:09:53, time: 3.228, data_time: 0.008, memory: 12718, loss_cls: 0.4851, loss_bbox: 0.2478, loss_bbox_rf: 0.3282, loss: 1.0611\n",
            "2021-11-21 03:10:43,483 - mmdet - INFO - Epoch [24][50/228]\tlr: 1.000e-06, eta: 0:09:21, time: 3.599, data_time: 0.009, memory: 12718, loss_cls: 0.4195, loss_bbox: 0.2102, loss_bbox_rf: 0.2760, loss: 0.9056\n",
            "2021-11-21 03:11:16,783 - mmdet - INFO - Epoch [24][60/228]\tlr: 1.000e-06, eta: 0:08:50, time: 3.330, data_time: 0.008, memory: 12718, loss_cls: 0.4706, loss_bbox: 0.2508, loss_bbox_rf: 0.3309, loss: 1.0523\n",
            "2021-11-21 03:11:52,127 - mmdet - INFO - Epoch [24][70/228]\tlr: 1.000e-06, eta: 0:08:18, time: 3.534, data_time: 0.008, memory: 12718, loss_cls: 0.4922, loss_bbox: 0.2277, loss_bbox_rf: 0.2992, loss: 1.0192\n",
            "2021-11-21 03:12:25,490 - mmdet - INFO - Epoch [24][80/228]\tlr: 1.000e-06, eta: 0:07:47, time: 3.336, data_time: 0.008, memory: 12718, loss_cls: 0.4350, loss_bbox: 0.1830, loss_bbox_rf: 0.2411, loss: 0.8591\n",
            "2021-11-21 03:12:57,068 - mmdet - INFO - Epoch [24][90/228]\tlr: 1.000e-06, eta: 0:07:15, time: 3.158, data_time: 0.008, memory: 12718, loss_cls: 0.4323, loss_bbox: 0.2012, loss_bbox_rf: 0.2663, loss: 0.8998\n",
            "2021-11-21 03:13:31,663 - mmdet - INFO - Epoch [24][100/228]\tlr: 1.000e-06, eta: 0:06:44, time: 3.460, data_time: 0.008, memory: 12718, loss_cls: 0.4332, loss_bbox: 0.2473, loss_bbox_rf: 0.3257, loss: 1.0063\n",
            "2021-11-21 03:14:04,024 - mmdet - INFO - Epoch [24][110/228]\tlr: 1.000e-06, eta: 0:06:12, time: 3.236, data_time: 0.008, memory: 12718, loss_cls: 0.4641, loss_bbox: 0.2747, loss_bbox_rf: 0.3634, loss: 1.1022\n",
            "2021-11-21 03:14:34,463 - mmdet - INFO - Epoch [24][120/228]\tlr: 1.000e-06, eta: 0:05:41, time: 3.044, data_time: 0.007, memory: 12718, loss_cls: 0.4759, loss_bbox: 0.2664, loss_bbox_rf: 0.3522, loss: 1.0944\n",
            "2021-11-21 03:15:06,869 - mmdet - INFO - Epoch [24][130/228]\tlr: 1.000e-06, eta: 0:05:09, time: 3.241, data_time: 0.008, memory: 12718, loss_cls: 0.4581, loss_bbox: 0.2149, loss_bbox_rf: 0.2812, loss: 0.9543\n",
            "2021-11-21 03:15:37,843 - mmdet - INFO - Epoch [24][140/228]\tlr: 1.000e-06, eta: 0:04:37, time: 3.097, data_time: 0.007, memory: 12718, loss_cls: 0.4943, loss_bbox: 0.2585, loss_bbox_rf: 0.3406, loss: 1.0934\n",
            "2021-11-21 03:16:10,996 - mmdet - INFO - Epoch [24][150/228]\tlr: 1.000e-06, eta: 0:04:06, time: 3.315, data_time: 0.008, memory: 12718, loss_cls: 0.4627, loss_bbox: 0.2494, loss_bbox_rf: 0.3285, loss: 1.0406\n",
            "2021-11-21 03:16:43,720 - mmdet - INFO - Epoch [24][160/228]\tlr: 1.000e-06, eta: 0:03:34, time: 3.272, data_time: 0.008, memory: 12718, loss_cls: 0.4508, loss_bbox: 0.2308, loss_bbox_rf: 0.3024, loss: 0.9839\n",
            "2021-11-21 03:17:14,961 - mmdet - INFO - Epoch [24][170/228]\tlr: 1.000e-06, eta: 0:03:03, time: 3.124, data_time: 0.008, memory: 12718, loss_cls: 0.4595, loss_bbox: 0.2029, loss_bbox_rf: 0.2660, loss: 0.9284\n",
            "2021-11-21 03:17:48,798 - mmdet - INFO - Epoch [24][180/228]\tlr: 1.000e-06, eta: 0:02:31, time: 3.384, data_time: 0.008, memory: 12718, loss_cls: 0.4586, loss_bbox: 0.2604, loss_bbox_rf: 0.3429, loss: 1.0619\n",
            "2021-11-21 03:18:20,527 - mmdet - INFO - Epoch [24][190/228]\tlr: 1.000e-06, eta: 0:02:00, time: 3.173, data_time: 0.008, memory: 12718, loss_cls: 0.4720, loss_bbox: 0.2399, loss_bbox_rf: 0.3175, loss: 1.0294\n",
            "2021-11-21 03:18:48,804 - mmdet - INFO - Epoch [24][200/228]\tlr: 1.000e-06, eta: 0:01:28, time: 2.828, data_time: 0.007, memory: 12718, loss_cls: 0.4283, loss_bbox: 0.2580, loss_bbox_rf: 0.3411, loss: 1.0274\n",
            "2021-11-21 03:19:22,835 - mmdet - INFO - Epoch [24][210/228]\tlr: 1.000e-06, eta: 0:00:56, time: 3.403, data_time: 0.008, memory: 12718, loss_cls: 0.4657, loss_bbox: 0.2387, loss_bbox_rf: 0.3157, loss: 1.0201\n",
            "2021-11-21 03:19:56,249 - mmdet - INFO - Epoch [24][220/228]\tlr: 1.000e-06, eta: 0:00:25, time: 3.342, data_time: 0.008, memory: 12718, loss_cls: 0.4799, loss_bbox: 0.2636, loss_bbox_rf: 0.3476, loss: 1.0911\n",
            "2021-11-21 03:20:22,490 - mmdet - INFO - Saving checkpoint at 24 epochs\n"
          ]
        },
        {
          "output_type": "stream",
          "name": "stdout",
          "text": [
            "[>>>>>>>>>>>>>>>>>>>>>>>>>>>>>] 534/534, 3.3 task/s, elapsed: 164s, ETA:     0s"
          ]
        },
        {
          "output_type": "stream",
          "name": "stderr",
          "text": [
            "2021-11-21 03:23:11,239 - mmdet - INFO - Evaluating bbox...\n"
          ]
        },
        {
          "output_type": "stream",
          "name": "stdout",
          "text": [
            "Loading and preparing results...\n",
            "DONE (t=0.23s)\n",
            "creating index...\n",
            "index created!\n",
            "Running per image evaluation...\n",
            "Evaluate annotation type *bbox*\n",
            "DONE (t=61.95s).\n",
            "Accumulating evaluation results...\n"
          ]
        },
        {
          "output_type": "stream",
          "name": "stderr",
          "text": [
            "2021-11-21 03:24:14,564 - mmdet - INFO - \n",
            " Average Precision  (AP) @[ IoU=0.50:0.95 | area=   all | maxDets=100 ] = 0.399\n",
            " Average Precision  (AP) @[ IoU=0.50      | area=   all | maxDets=1000 ] = 0.590\n",
            " Average Precision  (AP) @[ IoU=0.75      | area=   all | maxDets=1000 ] = 0.465\n",
            " Average Precision  (AP) @[ IoU=0.50:0.95 | area= small | maxDets=1000 ] = 0.142\n",
            " Average Precision  (AP) @[ IoU=0.50:0.95 | area=medium | maxDets=1000 ] = 0.195\n",
            " Average Precision  (AP) @[ IoU=0.50:0.95 | area= large | maxDets=1000 ] = 0.512\n",
            " Average Recall     (AR) @[ IoU=0.50:0.95 | area=   all | maxDets=100 ] = 0.428\n",
            " Average Recall     (AR) @[ IoU=0.50:0.95 | area=   all | maxDets=300 ] = 0.428\n",
            " Average Recall     (AR) @[ IoU=0.50:0.95 | area=   all | maxDets=1000 ] = 0.428\n",
            " Average Recall     (AR) @[ IoU=0.50:0.95 | area= small | maxDets=1000 ] = 0.185\n",
            " Average Recall     (AR) @[ IoU=0.50:0.95 | area=medium | maxDets=1000 ] = 0.228\n",
            " Average Recall     (AR) @[ IoU=0.50:0.95 | area= large | maxDets=1000 ] = 0.549\n",
            "\n",
            "2021-11-21 03:24:14,603 - mmdet - INFO - Epoch(val) [24][534]\tbbox_mAP: 0.3990, bbox_mAP_50: 0.5900, bbox_mAP_75: 0.4650, bbox_mAP_s: 0.1420, bbox_mAP_m: 0.1950, bbox_mAP_l: 0.5120, bbox_mAP_copypaste: 0.399 0.590 0.465 0.142 0.195 0.512\n"
          ]
        },
        {
          "output_type": "stream",
          "name": "stdout",
          "text": [
            "DONE (t=1.02s).\n"
          ]
        }
      ]
    },
    {
      "cell_type": "code",
      "metadata": {
        "id": "be6e7ee0-854c-40d0-a9d5-44b5d1d37de3"
      },
      "source": [
        "!cp -R /content/deers_exps/epoch_24.pth /content/drive/MyDrive/rosneft_hack/deers_exps/epoch_72.pth"
      ],
      "id": "be6e7ee0-854c-40d0-a9d5-44b5d1d37de3",
      "execution_count": 15,
      "outputs": []
    },
    {
      "cell_type": "code",
      "metadata": {
        "id": "GvBa23F5Hfw3"
      },
      "source": [
        "!cp -R /content/deers_exps/latest.pth /content/drive/MyDrive/rosneft_hack/deers_exps/latest.pth"
      ],
      "id": "GvBa23F5Hfw3",
      "execution_count": 16,
      "outputs": []
    },
    {
      "cell_type": "code",
      "metadata": {
        "id": "mwKrJxHcPMmR"
      },
      "source": [
        ""
      ],
      "id": "mwKrJxHcPMmR",
      "execution_count": null,
      "outputs": []
    }
  ]
}